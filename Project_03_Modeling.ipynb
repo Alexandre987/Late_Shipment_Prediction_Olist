{
 "cells": [
  {
   "cell_type": "code",
   "execution_count": 189,
   "metadata": {},
   "outputs": [],
   "source": [
    "import numpy as np\n",
    "import pandas as pd\n",
    "import pandas_profiling # Use pandas_profiling.ProfileReport(df) instead of df.describe()\n",
    "import matplotlib.pyplot as plt\n",
    "import seaborn as sns\n",
    "\n",
    "%matplotlib inline\n",
    "\n",
    "from sklearn.metrics import (classification_report, fbeta_score, f1_score, recall_score,\n",
    "                             accuracy_score, precision_score, roc_curve)\n",
    "from sklearn import metrics\n",
    "from sklearn.neighbors import KNeighborsClassifier\n",
    "from sklearn.ensemble import RandomForestClassifier\n",
    "from sklearn.model_selection import cross_val_score, GridSearchCV, train_test_split, StratifiedKFold\n",
    "from sklearn.preprocessing import StandardScaler\n",
    "from sklearn.linear_model import LogisticRegression\n",
    "from imblearn.over_sampling import SMOTE, ADASYN\n",
    "\n",
    "from collections import Counter\n",
    "from psycopg2 import connect\n",
    "from haversine import haversine\n",
    "\n",
    "np.set_printoptions(suppress=True)"
   ]
  },
  {
   "cell_type": "code",
   "execution_count": 157,
   "metadata": {},
   "outputs": [],
   "source": [
    "df = pd.read_pickle('df.pkl')"
   ]
  },
  {
   "cell_type": "markdown",
   "metadata": {},
   "source": [
    "# Modeling"
   ]
  },
  {
   "cell_type": "code",
   "execution_count": 159,
   "metadata": {},
   "outputs": [
    {
     "data": {
      "text/plain": [
       "price                                     float64\n",
       "freight_value                             float64\n",
       "order_item_id                               int64\n",
       "product_weight_g                          float64\n",
       "product_length_cm                         float64\n",
       "product_height_cm                         float64\n",
       "product_width_cm                          float64\n",
       "product_vol_cm                            float64\n",
       "dist_km                                   float64\n",
       "order_purchased_to_approved                 int64\n",
       "order_approved_to_delivered_to_carrier      int64\n",
       "dtype: object"
      ]
     },
     "execution_count": 159,
     "metadata": {},
     "output_type": "execute_result"
    }
   ],
   "source": [
    "df_y = df['is_late']\n",
    "df_x = df.drop(columns = ['order_delivered_customer_date','order_estimated_delivery_date',\n",
    "                          'customer_zip_code_prefix','seller_zip_code_prefix',\n",
    "                          'is_late','order_id','customer_id','product_id','seller_id',\n",
    "                          'order_purchase_timestamp','order_approved_at','shipping_limit_date',\n",
    "                          'order_delivered_carrier_date'])\n",
    "# Dropping all the non-numerical, date and y value from my x value of df\n",
    "# Also dropping zip code because the model will not interpret that number correctly, and I already have lat/long\n",
    "\n",
    "df_x.dtypes"
   ]
  },
  {
   "cell_type": "code",
   "execution_count": 160,
   "metadata": {},
   "outputs": [],
   "source": [
    "# Train/test split\n",
    "x_train, x_test, y_train, y_test = train_test_split(df_x, df_y,\n",
    "                                                    stratify = df_y,  # Include proportional y's in the splits\n",
    "                                                    random_state = 37)"
   ]
  },
  {
   "cell_type": "code",
   "execution_count": 165,
   "metadata": {},
   "outputs": [
    {
     "name": "stdout",
     "output_type": "stream",
     "text": [
      "(119584, 11) (119584,)\n",
      "(119586, 11) (119586,)\n",
      "(119586, 11) (119586,)\n",
      "(119586, 11) (119586,)\n",
      "(119586, 11) (119586,)\n",
      "Cross validated accuracy: 0.8915614719783859\n",
      "Cross validated recall score: 0.17888628714509613\n",
      "Cross validated precision score: 0.23975394431610947\n",
      "Cross validated f1_score: 0.2048184152256483\n"
     ]
    }
   ],
   "source": [
    "# StratifiedKFold, if I am interested in redoing my RF without SMOTE, and still want to try GridSearch\n",
    "\n",
    "random_seed = 37\n",
    "kf = StratifiedKFold(n_splits=5, random_state=random_seed)\n",
    "cross_val_f1_score_lst = []\n",
    "cross_val_accuracy_lst = []\n",
    "cross_val_recall_lst = []\n",
    "cross_val_precision_lst = []\n",
    "\n",
    "for train_index_ls, validation_index_ls in kf.split(x_train, y_train):\n",
    "    # keeping validation set apart and oversampling in each iteration using smote \n",
    "    train, validation = x_train.iloc[train_index_ls], x_train.iloc[validation_index_ls]\n",
    "    target_train, target_val = y_train.iloc[train_index_ls], y_train.iloc[validation_index_ls]\n",
    "    sm = SMOTE(random_state=random_seed)\n",
    "    X_train_res, y_train_res = sm.fit_sample(train, target_train)\n",
    "    print (X_train_res.shape, y_train_res.shape)\n",
    "    \n",
    "    # training the model on oversampled 4 folds of training set\n",
    "    rf = RandomForestClassifier(n_estimators=5, random_state=random_seed)\n",
    "    rf.fit(train, target_train)\n",
    "    \n",
    "    # testing on 1 fold of validation set\n",
    "    validation_preds = rf.predict(validation)\n",
    "    cross_val_recall_lst.append(recall_score(target_val, validation_preds))\n",
    "    cross_val_accuracy_lst.append(accuracy_score(target_val, validation_preds))\n",
    "    cross_val_precision_lst.append(precision_score(target_val, validation_preds))\n",
    "    cross_val_f1_score_lst.append(f1_score(target_val, validation_preds))\n",
    "    \n",
    "print ('Cross validated accuracy: {}'.format(np.mean(cross_val_accuracy_lst)))\n",
    "print ('Cross validated recall score: {}'.format(np.mean(cross_val_recall_lst)))\n",
    "print ('Cross validated precision score: {}'.format(np.mean(cross_val_precision_lst)))\n",
    "print ('Cross validated f1_score: {}'.format(np.mean(cross_val_f1_score_lst)))"
   ]
  },
  {
   "cell_type": "code",
   "execution_count": 166,
   "metadata": {},
   "outputs": [
    {
     "name": "stderr",
     "output_type": "stream",
     "text": [
      "/anaconda3/lib/python3.7/site-packages/sklearn/preprocessing/data.py:645: DataConversionWarning: Data with input dtype int64, float64 were all converted to float64 by StandardScaler.\n",
      "  return self.partial_fit(X, y)\n",
      "/anaconda3/lib/python3.7/site-packages/sklearn/base.py:464: DataConversionWarning: Data with input dtype int64, float64 were all converted to float64 by StandardScaler.\n",
      "  return self.fit(X, **fit_params).transform(X)\n",
      "/anaconda3/lib/python3.7/site-packages/ipykernel_launcher.py:5: DataConversionWarning: Data with input dtype int64, float64 were all converted to float64 by StandardScaler.\n",
      "  \"\"\"\n"
     ]
    }
   ],
   "source": [
    "# Scale my features so that everything is in z-scores\n",
    "scaler = StandardScaler()\n",
    "\n",
    "x_train_scaled = scaler.fit_transform(x_train)\n",
    "x_test_scaled = scaler.transform(x_test)"
   ]
  },
  {
   "cell_type": "markdown",
   "metadata": {},
   "source": [
    "## Oversampling"
   ]
  },
  {
   "cell_type": "code",
   "execution_count": 167,
   "metadata": {},
   "outputs": [],
   "source": [
    "# SMOTE\n",
    "x_train_smoted, y_train_smoted = SMOTE(random_state=37).fit_sample(x_train_scaled, y_train)"
   ]
  },
  {
   "cell_type": "code",
   "execution_count": 168,
   "metadata": {
    "scrolled": true
   },
   "outputs": [
    {
     "data": {
      "text/plain": [
       "Counter({False: 75866, True: 75866})"
      ]
     },
     "execution_count": 168,
     "metadata": {},
     "output_type": "execute_result"
    }
   ],
   "source": [
    "Counter(y_smoted)"
   ]
  },
  {
   "cell_type": "code",
   "execution_count": 169,
   "metadata": {},
   "outputs": [],
   "source": [
    "# Define a confusion matrix function so that I can graph confusion matrices for each of my models\n",
    "def confusion_matrix_graphic(prediction, real_y = y_test):\n",
    "    conf_matrix = metrics.confusion_matrix(real_y, prediction)\n",
    "    \n",
    "    plt.figure(dpi=80)\n",
    "    sns.heatmap(conf_matrix, cmap=plt.cm.Blues, annot=True, square=True, fmt = 'g',\n",
    "               xticklabels=['Not late', 'Late'],\n",
    "               yticklabels=['Not late', 'Late'])\n",
    "\n",
    "    plt.xlabel('Predicted lateness')\n",
    "    plt.ylabel('Actual lateness')\n",
    "    plt.title('Confusion matrix');"
   ]
  },
  {
   "cell_type": "markdown",
   "metadata": {},
   "source": [
    "## Logistic Regression"
   ]
  },
  {
   "cell_type": "code",
   "execution_count": 170,
   "metadata": {},
   "outputs": [
    {
     "name": "stderr",
     "output_type": "stream",
     "text": [
      "/anaconda3/lib/python3.7/site-packages/sklearn/linear_model/logistic.py:433: FutureWarning: Default solver will be changed to 'lbfgs' in 0.22. Specify a solver to silence this warning.\n",
      "  FutureWarning)\n",
      "/anaconda3/lib/python3.7/site-packages/sklearn/linear_model/logistic.py:1300: UserWarning: 'n_jobs' > 1 does not have any effect when 'solver' is set to 'liblinear'. Got 'n_jobs' = 4.\n",
      "  \" = {}.\".format(effective_n_jobs(self.n_jobs)))\n"
     ]
    },
    {
     "name": "stdout",
     "output_type": "stream",
     "text": [
      "0.21221733346976362 0.4917022285443338 0.1353079331941545\n"
     ]
    }
   ],
   "source": [
    "# Fitting and predicting with my Logistic Regression\n",
    "logistic_model = LogisticRegression(random_state = 34, class_weight = 'balanced', n_jobs = -1)\n",
    "\n",
    "logistic_model.fit(x_train_scaled, y_train)\n",
    "logit_pred = logistic_model.predict(x_test_scaled)\n",
    "\n",
    "print(metrics.f1_score(y_test, logit_pred), metrics.recall_score(y_test, logit_pred),\n",
    "      metrics.precision_score(y_test, logit_pred))"
   ]
  },
  {
   "cell_type": "markdown",
   "metadata": {},
   "source": [
    "**After I run all my models, I can go back in chat and find Han Wei's ensembling that he used**"
   ]
  },
  {
   "cell_type": "code",
   "execution_count": 171,
   "metadata": {},
   "outputs": [
    {
     "data": {
      "image/png": "[encoded data removed]",
      "text/plain": [
       "<Figure size 480x320 with 2 Axes>"
      ]
     },
     "metadata": {
      "needs_background": "light"
     },
     "output_type": "display_data"
    }
   ],
   "source": [
    "confusion_matrix_graphic(logit_pred)\n",
    "plt.savefig('logit_confusion.png', bbox_inches = 'tight')"
   ]
  },
  {
   "cell_type": "code",
   "execution_count": 172,
   "metadata": {},
   "outputs": [
    {
     "name": "stdout",
     "output_type": "stream",
     "text": [
      "              precision    recall  f1-score   support\n",
      "\n",
      "       False       0.94      0.73      0.83     24914\n",
      "        True       0.14      0.49      0.21      2109\n",
      "\n",
      "   micro avg       0.72      0.72      0.72     27023\n",
      "   macro avg       0.54      0.61      0.52     27023\n",
      "weighted avg       0.88      0.72      0.78     27023\n",
      "\n"
     ]
    }
   ],
   "source": [
    "print(classification_report(y_test, logit_pred))"
   ]
  },
  {
   "cell_type": "code",
   "execution_count": 173,
   "metadata": {},
   "outputs": [
    {
     "data": {
      "text/plain": [
       "[('price', 0.0026394998163000285),\n",
       " ('freight_value', 0.019627513288729633),\n",
       " ('order_item_id', -0.09234996670419095),\n",
       " ('product_weight_g', 0.028925117145455346),\n",
       " ('product_length_cm', 0.03523185441668526),\n",
       " ('product_height_cm', -0.024537080630069843),\n",
       " ('product_width_cm', -0.016427247825435087),\n",
       " ('product_vol_cm', -0.037726514340754434),\n",
       " ('dist_km', 0.2403403905709739),\n",
       " ('order_purchased_to_approved', 0.1238355905496773),\n",
       " ('order_approved_to_delivered_to_carrier', 0.5464924144297569)]"
      ]
     },
     "execution_count": 173,
     "metadata": {},
     "output_type": "execute_result"
    }
   ],
   "source": [
    "list(zip(x_train.columns, logistic_model.coef_[0]))"
   ]
  },
  {
   "cell_type": "markdown",
   "metadata": {},
   "source": [
    "These results give preliminary evidence that latitude and longitude or both customer and seller are the most important general features of whether a shipment will be late or not.\n",
    "\n",
    "Surprisingly, weight and volume and dimensions of the package seems to not matter much. What seems to matter a surprising amount is whether there was an additional item in the package (order_item_id). I decided to leave this metric in for possible insights like this - every additional package in an order decreases the likelihood of the package being delivered on time by 2.6%"
   ]
  },
  {
   "cell_type": "code",
   "execution_count": 174,
   "metadata": {},
   "outputs": [
    {
     "data": {
      "text/plain": [
       "[(0.54649241,\n",
       "  0.54649241,\n",
       "  0.15402177,\n",
       "  'order_approved_to_delivered_to_carrier'),\n",
       " (0.24034039, 0.24034039, 0.00040803, 'dist_km'),\n",
       " (0.12383559, 0.12383559, 0.17782641, 'order_purchased_to_approved'),\n",
       " (0.09234997, -0.09234997, -0.12984203, 'order_item_id'),\n",
       " (0.03772651, -0.03772651, -1.62e-06, 'product_vol_cm'),\n",
       " (0.03523185, 0.03523185, 0.00218558, 'product_length_cm'),\n",
       " (0.02892512, 0.02892512, 7.73e-06, 'product_weight_g'),\n",
       " (0.02453708, -0.02453708, -0.00182564, 'product_height_cm'),\n",
       " (0.01962751, 0.01962751, 0.00125162, 'freight_value'),\n",
       " (0.01642725, -0.01642725, -0.00141564, 'product_width_cm'),\n",
       " (0.0026395, 0.0026395, 1.438e-05, 'price')]"
      ]
     },
     "execution_count": 174,
     "metadata": {},
     "output_type": "execute_result"
    }
   ],
   "source": [
    "# This cell calculates the logistic model's coefficient values, and turns it into interpretation\n",
    "# Need to un-log these coefficients\n",
    "readjusted_coefs = np.round((logistic_model.coef_[0] / scaler.scale_),8)\n",
    "\n",
    "sorted(list(zip(abs(np.round(logistic_model.coef_[0], 8)),        # Abs val of the scaled coefficients\n",
    "                            np.round(logistic_model.coef_[0], 8), # Val of the scaled coefficients\n",
    "                            readjusted_coefs,                     # Unscaled val of coefficients (for interpretation)\n",
    "                            x_test.columns)), reverse = True)     # Column labels\n",
    "\n",
    "# I think all the below coefficients are in log-odds. They still need to be exponentiated and converted to p"
   ]
  },
  {
   "cell_type": "code",
   "execution_count": 175,
   "metadata": {},
   "outputs": [
    {
     "data": {
      "text/plain": [
       "1.0403820484769828"
      ]
     },
     "execution_count": 175,
     "metadata": {},
     "output_type": "execute_result"
    }
   ],
   "source": [
    "# Once I solve the shipping distance problem, I need to exponentiate to get the coefficients into log-odds.\n",
    "# Then once I have log-odds, convert to probability\n",
    "\n",
    "np.exp(0.039588)"
   ]
  },
  {
   "cell_type": "code",
   "execution_count": 176,
   "metadata": {},
   "outputs": [
    {
     "data": {
      "text/plain": [
       "1.0403738981754433"
      ]
     },
     "execution_count": 176,
     "metadata": {},
     "output_type": "execute_result"
    }
   ],
   "source": [
    "1.00039588**100"
   ]
  },
  {
   "cell_type": "code",
   "execution_count": 177,
   "metadata": {},
   "outputs": [
    {
     "data": {
      "text/plain": [
       "596.4359735606896"
      ]
     },
     "execution_count": 177,
     "metadata": {},
     "output_type": "execute_result"
    }
   ],
   "source": [
    "df['dist_km'].mean()\n",
    "\n",
    "# dist_km exponent is 0.00039588"
   ]
  },
  {
   "cell_type": "markdown",
   "metadata": {},
   "source": [
    "**We see below that late deliveries are, on average, ~27% farther away than deliveries that are on time**"
   ]
  },
  {
   "cell_type": "code",
   "execution_count": 178,
   "metadata": {},
   "outputs": [
    {
     "name": "stdout",
     "output_type": "stream",
     "text": [
      "739.8094858099133 584.2976731959608\n",
      "0.2671115674195757\n"
     ]
    }
   ],
   "source": [
    "# We see that late deliveries are, on average, ~27% farther away than deliveries that are on time\n",
    "print(df.loc[df['is_late'] == True, 'dist_km'].mean(), df.loc[df['is_late'] == False, 'dist_km'].mean())\n",
    "\n",
    "print((740.5 - 584.4) / 584.4)"
   ]
  },
  {
   "cell_type": "markdown",
   "metadata": {},
   "source": [
    "**I may want to include in my presentation that in my old model, I calculated the change in odds by 1 km on the margin. But I cannot extrapolate that to 1 * 100. Instead I need to recalculate my model based on every 100 km. My log-odd coefficients will be exactly 100x the old coefficients, but when I *exponentiate* that, the amount is sliiiiightly different. This is the change in probability that is compounded from 1 to 100, very similarly to compound interest.**\n",
    "\n",
    "For example, if I had 12% interest compounded yearly, compared to 1% interest compounded monthly, 1% would be more. But a slightly smaller percentage (0.97% for instance) would be equal. My old 1 km calculation was the old, smaller percentage, and the 100 km calculation was the bigger, 12% calculation"
   ]
  },
  {
   "cell_type": "markdown",
   "metadata": {},
   "source": [
    "## K-Nearest Neighbors"
   ]
  },
  {
   "cell_type": "code",
   "execution_count": 179,
   "metadata": {},
   "outputs": [
    {
     "data": {
      "text/plain": [
       "GridSearchCV(cv=2, error_score='raise-deprecating',\n",
       "       estimator=KNeighborsClassifier(algorithm='auto', leaf_size=30, metric='minkowski',\n",
       "           metric_params=None, n_jobs=-1, n_neighbors=5, p=2,\n",
       "           weights='uniform'),\n",
       "       fit_params=None, iid='warn', n_jobs=None,\n",
       "       param_grid={'n_neighbors': [1, 2, 3, 4, 5, 6, 7, 8, 9]},\n",
       "       pre_dispatch='2*n_jobs', refit=True, return_train_score='warn',\n",
       "       scoring='roc_auc', verbose=0)"
      ]
     },
     "execution_count": 179,
     "metadata": {},
     "output_type": "execute_result"
    }
   ],
   "source": [
    "knn = KNeighborsClassifier(n_jobs = -1)\n",
    "\n",
    "param_grid = {'n_neighbors': [i for i in range(1,10)]} # Gridsearching through squared values to find ideal KNN\n",
    "knn_smote_best = GridSearchCV(knn, param_grid, cv = 2, scoring = 'roc_auc')\n",
    "\n",
    "knn_smote_best.fit(x_train_smoted, y_train_smoted)"
   ]
  },
  {
   "cell_type": "code",
   "execution_count": 180,
   "metadata": {},
   "outputs": [
    {
     "name": "stdout",
     "output_type": "stream",
     "text": [
      "{'n_neighbors': 5} 0.9203201533814052 KNeighborsClassifier(algorithm='auto', leaf_size=30, metric='minkowski',\n",
      "           metric_params=None, n_jobs=-1, n_neighbors=5, p=2,\n",
      "           weights='uniform')\n"
     ]
    }
   ],
   "source": [
    "print(knn_smote_best.best_params_, knn_smote_best.best_score_, knn_smote_best.best_estimator_)"
   ]
  },
  {
   "cell_type": "code",
   "execution_count": 181,
   "metadata": {},
   "outputs": [
    {
     "data": {
      "image/png": "[encoded data removed]",
      "text/plain": [
       "<Figure size 480x320 with 2 Axes>"
      ]
     },
     "metadata": {
      "needs_background": "light"
     },
     "output_type": "display_data"
    }
   ],
   "source": [
    "# Run the prediction and confusion matrix function that I defined\n",
    "knn_smote_pred = knn_smote_best.best_estimator_.predict(x_test_scaled) # Take the best KNN that was found above\n",
    "\n",
    "confusion_matrix_graphic(knn_smote_pred)\n",
    "plt.savefig('knn_confusion_matrix.png', bbox_inches = 'tight')"
   ]
  },
  {
   "cell_type": "markdown",
   "metadata": {},
   "source": [
    "SMOTE is better than ADASYN in my tests. I will delete ADASYN and use SMOTE from now on rather than ADASYN"
   ]
  },
  {
   "cell_type": "markdown",
   "metadata": {},
   "source": [
    "## Random Forest"
   ]
  },
  {
   "cell_type": "code",
   "execution_count": 186,
   "metadata": {
    "scrolled": true
   },
   "outputs": [
    {
     "name": "stdout",
     "output_type": "stream",
     "text": [
      "Fitting 2 folds for each of 45 candidates, totalling 90 fits\n",
      "[CV] max_depth=9, n_estimators=1 .....................................\n"
     ]
    },
    {
     "name": "stderr",
     "output_type": "stream",
     "text": [
      "[Parallel(n_jobs=1)]: Using backend SequentialBackend with 1 concurrent workers.\n"
     ]
    },
    {
     "name": "stdout",
     "output_type": "stream",
     "text": [
      "[CV]  max_depth=9, n_estimators=1, score=0.6263088386882735, total=   1.3s\n",
      "[CV] max_depth=9, n_estimators=1 .....................................\n"
     ]
    },
    {
     "name": "stderr",
     "output_type": "stream",
     "text": [
      "[Parallel(n_jobs=1)]: Done   1 out of   1 | elapsed:    1.3s remaining:    0.0s\n"
     ]
    },
    {
     "name": "stdout",
     "output_type": "stream",
     "text": [
      "[CV]  max_depth=9, n_estimators=1, score=0.6166249065026774, total=   0.6s\n",
      "[CV] max_depth=9, n_estimators=4 .....................................\n"
     ]
    },
    {
     "name": "stderr",
     "output_type": "stream",
     "text": [
      "[Parallel(n_jobs=1)]: Done   2 out of   2 | elapsed:    1.9s remaining:    0.0s\n"
     ]
    },
    {
     "name": "stdout",
     "output_type": "stream",
     "text": [
      "[CV]  max_depth=9, n_estimators=4, score=0.6635246909714974, total=   0.9s\n",
      "[CV] max_depth=9, n_estimators=4 .....................................\n"
     ]
    },
    {
     "name": "stderr",
     "output_type": "stream",
     "text": [
      "[Parallel(n_jobs=1)]: Done   3 out of   3 | elapsed:    2.9s remaining:    0.0s\n"
     ]
    },
    {
     "name": "stdout",
     "output_type": "stream",
     "text": [
      "[CV]  max_depth=9, n_estimators=4, score=0.6667074598600051, total=   0.3s\n",
      "[CV] max_depth=9, n_estimators=9 .....................................\n"
     ]
    },
    {
     "name": "stderr",
     "output_type": "stream",
     "text": [
      "[Parallel(n_jobs=1)]: Done   4 out of   4 | elapsed:    3.4s remaining:    0.0s\n"
     ]
    },
    {
     "name": "stdout",
     "output_type": "stream",
     "text": [
      "[CV]  max_depth=9, n_estimators=9, score=0.6837350489899329, total=   0.4s\n",
      "[CV] max_depth=9, n_estimators=9 .....................................\n"
     ]
    },
    {
     "name": "stderr",
     "output_type": "stream",
     "text": [
      "[Parallel(n_jobs=1)]: Done   5 out of   5 | elapsed:    3.9s remaining:    0.0s\n"
     ]
    },
    {
     "name": "stdout",
     "output_type": "stream",
     "text": [
      "[CV]  max_depth=9, n_estimators=9, score=0.6810188171924789, total=   0.7s\n",
      "[CV] max_depth=9, n_estimators=16 ....................................\n"
     ]
    },
    {
     "name": "stderr",
     "output_type": "stream",
     "text": [
      "[Parallel(n_jobs=1)]: Done   6 out of   6 | elapsed:    4.7s remaining:    0.0s\n"
     ]
    },
    {
     "name": "stdout",
     "output_type": "stream",
     "text": [
      "[CV]  max_depth=9, n_estimators=16, score=0.6881117483248993, total=   0.7s\n",
      "[CV] max_depth=9, n_estimators=16 ....................................\n"
     ]
    },
    {
     "name": "stderr",
     "output_type": "stream",
     "text": [
      "[Parallel(n_jobs=1)]: Done   7 out of   7 | elapsed:    5.5s remaining:    0.0s\n"
     ]
    },
    {
     "name": "stdout",
     "output_type": "stream",
     "text": [
      "[CV]  max_depth=9, n_estimators=16, score=0.6873889661149802, total=   0.7s\n",
      "[CV] max_depth=9, n_estimators=25 ....................................\n"
     ]
    },
    {
     "name": "stderr",
     "output_type": "stream",
     "text": [
      "[Parallel(n_jobs=1)]: Done   8 out of   8 | elapsed:    6.3s remaining:    0.0s\n"
     ]
    },
    {
     "name": "stdout",
     "output_type": "stream",
     "text": [
      "[CV]  max_depth=9, n_estimators=25, score=0.689978731218028, total=   0.6s\n",
      "[CV] max_depth=9, n_estimators=25 ....................................\n"
     ]
    },
    {
     "name": "stderr",
     "output_type": "stream",
     "text": [
      "[Parallel(n_jobs=1)]: Done   9 out of   9 | elapsed:    7.1s remaining:    0.0s\n"
     ]
    },
    {
     "name": "stdout",
     "output_type": "stream",
     "text": [
      "[CV]  max_depth=9, n_estimators=25, score=0.6901706784953958, total=   0.8s\n",
      "[CV] max_depth=9, n_estimators=36 ....................................\n"
     ]
    },
    {
     "name": "stderr",
     "output_type": "stream",
     "text": [
      "[Parallel(n_jobs=1)]: Done  10 out of  10 | elapsed:    8.1s remaining:    0.0s\n"
     ]
    },
    {
     "name": "stdout",
     "output_type": "stream",
     "text": [
      "[CV]  max_depth=9, n_estimators=36, score=0.6915377562954785, total=   1.3s\n",
      "[CV] max_depth=9, n_estimators=36 ....................................\n"
     ]
    },
    {
     "name": "stderr",
     "output_type": "stream",
     "text": [
      "[Parallel(n_jobs=1)]: Done  11 out of  11 | elapsed:    9.5s remaining:    0.0s\n"
     ]
    },
    {
     "name": "stdout",
     "output_type": "stream",
     "text": [
      "[CV]  max_depth=9, n_estimators=36, score=0.6916729745291473, total=   1.9s\n",
      "[CV] max_depth=9, n_estimators=49 ....................................\n"
     ]
    },
    {
     "name": "stderr",
     "output_type": "stream",
     "text": [
      "[Parallel(n_jobs=1)]: Done  12 out of  12 | elapsed:   11.5s remaining:    0.0s\n"
     ]
    },
    {
     "name": "stdout",
     "output_type": "stream",
     "text": [
      "[CV]  max_depth=9, n_estimators=49, score=0.6924612956814171, total=   1.5s\n",
      "[CV] max_depth=9, n_estimators=49 ....................................\n"
     ]
    },
    {
     "name": "stderr",
     "output_type": "stream",
     "text": [
      "[Parallel(n_jobs=1)]: Done  13 out of  13 | elapsed:   13.1s remaining:    0.0s\n"
     ]
    },
    {
     "name": "stdout",
     "output_type": "stream",
     "text": [
      "[CV]  max_depth=9, n_estimators=49, score=0.6933085856506518, total=   1.6s\n",
      "[CV] max_depth=9, n_estimators=64 ....................................\n"
     ]
    },
    {
     "name": "stderr",
     "output_type": "stream",
     "text": [
      "[Parallel(n_jobs=1)]: Done  14 out of  14 | elapsed:   14.9s remaining:    0.0s\n"
     ]
    },
    {
     "name": "stdout",
     "output_type": "stream",
     "text": [
      "[CV]  max_depth=9, n_estimators=64, score=0.693679865987205, total=   1.7s\n",
      "[CV] max_depth=9, n_estimators=64 ....................................\n"
     ]
    },
    {
     "name": "stderr",
     "output_type": "stream",
     "text": [
      "[Parallel(n_jobs=1)]: Done  15 out of  15 | elapsed:   16.7s remaining:    0.0s\n"
     ]
    },
    {
     "name": "stdout",
     "output_type": "stream",
     "text": [
      "[CV]  max_depth=9, n_estimators=64, score=0.6935224454467861, total=   1.8s\n",
      "[CV] max_depth=9, n_estimators=81 ....................................\n"
     ]
    },
    {
     "name": "stderr",
     "output_type": "stream",
     "text": [
      "[Parallel(n_jobs=1)]: Done  16 out of  16 | elapsed:   18.7s remaining:    0.0s\n"
     ]
    },
    {
     "name": "stdout",
     "output_type": "stream",
     "text": [
      "[CV]  max_depth=9, n_estimators=81, score=0.6941244463339054, total=   1.6s\n",
      "[CV] max_depth=9, n_estimators=81 ....................................\n"
     ]
    },
    {
     "name": "stderr",
     "output_type": "stream",
     "text": [
      "[Parallel(n_jobs=1)]: Done  17 out of  17 | elapsed:   20.6s remaining:    0.0s\n"
     ]
    },
    {
     "name": "stdout",
     "output_type": "stream",
     "text": [
      "[CV]  max_depth=9, n_estimators=81, score=0.6934995130189208, total=   1.7s\n",
      "[CV] max_depth=16, n_estimators=1 ....................................\n",
      "[CV]  max_depth=16, n_estimators=1, score=0.5751488068809211, total=   0.1s\n",
      "[CV] max_depth=16, n_estimators=1 ....................................\n"
     ]
    },
    {
     "name": "stderr",
     "output_type": "stream",
     "text": [
      "[Parallel(n_jobs=1)]: Done  18 out of  18 | elapsed:   22.5s remaining:    0.0s\n",
      "[Parallel(n_jobs=1)]: Done  19 out of  19 | elapsed:   22.7s remaining:    0.0s\n"
     ]
    },
    {
     "name": "stdout",
     "output_type": "stream",
     "text": [
      "[CV]  max_depth=16, n_estimators=1, score=0.5844452339961846, total=   0.1s\n",
      "[CV] max_depth=16, n_estimators=4 ....................................\n"
     ]
    },
    {
     "name": "stderr",
     "output_type": "stream",
     "text": [
      "[Parallel(n_jobs=1)]: Done  20 out of  20 | elapsed:   22.9s remaining:    0.0s\n"
     ]
    },
    {
     "name": "stdout",
     "output_type": "stream",
     "text": [
      "[CV]  max_depth=16, n_estimators=4, score=0.6288774471413013, total=   0.3s\n",
      "[CV] max_depth=16, n_estimators=4 ....................................\n"
     ]
    },
    {
     "name": "stderr",
     "output_type": "stream",
     "text": [
      "[Parallel(n_jobs=1)]: Done  21 out of  21 | elapsed:   23.3s remaining:    0.0s\n"
     ]
    },
    {
     "name": "stdout",
     "output_type": "stream",
     "text": [
      "[CV]  max_depth=16, n_estimators=4, score=0.6326402324518509, total=   0.3s\n",
      "[CV] max_depth=16, n_estimators=9 ....................................\n"
     ]
    },
    {
     "name": "stderr",
     "output_type": "stream",
     "text": [
      "[Parallel(n_jobs=1)]: Done  22 out of  22 | elapsed:   23.8s remaining:    0.0s\n"
     ]
    },
    {
     "name": "stdout",
     "output_type": "stream",
     "text": [
      "[CV]  max_depth=16, n_estimators=9, score=0.6577753811078928, total=   0.4s\n",
      "[CV] max_depth=16, n_estimators=9 ....................................\n"
     ]
    },
    {
     "name": "stderr",
     "output_type": "stream",
     "text": [
      "[Parallel(n_jobs=1)]: Done  23 out of  23 | elapsed:   24.3s remaining:    0.0s\n"
     ]
    },
    {
     "name": "stdout",
     "output_type": "stream",
     "text": [
      "[CV]  max_depth=16, n_estimators=9, score=0.6462224502167988, total=   0.5s\n",
      "[CV] max_depth=16, n_estimators=16 ...................................\n"
     ]
    },
    {
     "name": "stderr",
     "output_type": "stream",
     "text": [
      "[Parallel(n_jobs=1)]: Done  24 out of  24 | elapsed:   24.9s remaining:    0.0s\n"
     ]
    },
    {
     "name": "stdout",
     "output_type": "stream",
     "text": [
      "[CV]  max_depth=16, n_estimators=16, score=0.6648332632566183, total=   0.6s\n",
      "[CV] max_depth=16, n_estimators=16 ...................................\n"
     ]
    },
    {
     "name": "stderr",
     "output_type": "stream",
     "text": [
      "[Parallel(n_jobs=1)]: Done  25 out of  25 | elapsed:   25.7s remaining:    0.0s\n"
     ]
    },
    {
     "name": "stdout",
     "output_type": "stream",
     "text": [
      "[CV]  max_depth=16, n_estimators=16, score=0.6602360919455461, total=   0.6s\n",
      "[CV] max_depth=16, n_estimators=25 ...................................\n"
     ]
    },
    {
     "name": "stderr",
     "output_type": "stream",
     "text": [
      "[Parallel(n_jobs=1)]: Done  26 out of  26 | elapsed:   26.4s remaining:    0.0s\n"
     ]
    },
    {
     "name": "stdout",
     "output_type": "stream",
     "text": [
      "[CV]  max_depth=16, n_estimators=25, score=0.6703187874844035, total=   0.8s\n",
      "[CV] max_depth=16, n_estimators=25 ...................................\n"
     ]
    },
    {
     "name": "stderr",
     "output_type": "stream",
     "text": [
      "[Parallel(n_jobs=1)]: Done  27 out of  27 | elapsed:   27.4s remaining:    0.0s\n"
     ]
    },
    {
     "name": "stdout",
     "output_type": "stream",
     "text": [
      "[CV]  max_depth=16, n_estimators=25, score=0.6674893698069024, total=   0.8s\n",
      "[CV] max_depth=16, n_estimators=36 ...................................\n"
     ]
    },
    {
     "name": "stderr",
     "output_type": "stream",
     "text": [
      "[Parallel(n_jobs=1)]: Done  28 out of  28 | elapsed:   28.4s remaining:    0.0s\n"
     ]
    },
    {
     "name": "stdout",
     "output_type": "stream",
     "text": [
      "[CV]  max_depth=16, n_estimators=36, score=0.6747188541816043, total=   1.1s\n",
      "[CV] max_depth=16, n_estimators=36 ...................................\n"
     ]
    },
    {
     "name": "stderr",
     "output_type": "stream",
     "text": [
      "[Parallel(n_jobs=1)]: Done  29 out of  29 | elapsed:   29.6s remaining:    0.0s\n"
     ]
    },
    {
     "name": "stdout",
     "output_type": "stream",
     "text": [
      "[CV]  max_depth=16, n_estimators=36, score=0.6712082839558087, total=   1.1s\n",
      "[CV] max_depth=16, n_estimators=49 ...................................\n",
      "[CV]  max_depth=16, n_estimators=49, score=0.6792861417147722, total=   1.5s\n",
      "[CV] max_depth=16, n_estimators=49 ...................................\n",
      "[CV]  max_depth=16, n_estimators=49, score=0.6713898658205589, total=   1.5s\n",
      "[CV] max_depth=16, n_estimators=64 ...................................\n",
      "[CV]  max_depth=16, n_estimators=64, score=0.6822845218821181, total=   1.9s\n",
      "[CV] max_depth=16, n_estimators=64 ...................................\n",
      "[CV]  max_depth=16, n_estimators=64, score=0.6732021196447728, total=   1.8s\n",
      "[CV] max_depth=16, n_estimators=81 ...................................\n",
      "[CV]  max_depth=16, n_estimators=81, score=0.6846505243947313, total=   2.5s\n",
      "[CV] max_depth=16, n_estimators=81 ...................................\n",
      "[CV]  max_depth=16, n_estimators=81, score=0.6747001742576965, total=   2.3s\n",
      "[CV] max_depth=25, n_estimators=1 ....................................\n",
      "[CV]  max_depth=25, n_estimators=1, score=0.5543913117593127, total=   0.1s\n",
      "[CV] max_depth=25, n_estimators=1 ....................................\n",
      "[CV]  max_depth=25, n_estimators=1, score=0.5632397706063701, total=   0.1s\n",
      "[CV] max_depth=25, n_estimators=4 ....................................\n",
      "[CV]  max_depth=25, n_estimators=4, score=0.6082282893017129, total=   0.3s\n",
      "[CV] max_depth=25, n_estimators=4 ....................................\n",
      "[CV]  max_depth=25, n_estimators=4, score=0.6182700872506357, total=   0.3s\n",
      "[CV] max_depth=25, n_estimators=9 ....................................\n",
      "[CV]  max_depth=25, n_estimators=9, score=0.6479383474432284, total=   0.5s\n",
      "[CV] max_depth=25, n_estimators=9 ....................................\n",
      "[CV]  max_depth=25, n_estimators=9, score=0.6521427209776023, total=   0.5s\n",
      "[CV] max_depth=25, n_estimators=16 ...................................\n",
      "[CV]  max_depth=25, n_estimators=16, score=0.6649510515076202, total=   0.6s\n",
      "[CV] max_depth=25, n_estimators=16 ...................................\n",
      "[CV]  max_depth=25, n_estimators=16, score=0.6685245471278942, total=   0.7s\n",
      "[CV] max_depth=25, n_estimators=25 ...................................\n",
      "[CV]  max_depth=25, n_estimators=25, score=0.6784092101946583, total=   0.9s\n",
      "[CV] max_depth=25, n_estimators=25 ...................................\n",
      "[CV]  max_depth=25, n_estimators=25, score=0.6742150876515198, total=   0.9s\n",
      "[CV] max_depth=25, n_estimators=36 ...................................\n",
      "[CV]  max_depth=25, n_estimators=36, score=0.6847295657872182, total=   1.2s\n",
      "[CV] max_depth=25, n_estimators=36 ...................................\n",
      "[CV]  max_depth=25, n_estimators=36, score=0.6794319380087802, total=   1.3s\n",
      "[CV] max_depth=25, n_estimators=49 ...................................\n",
      "[CV]  max_depth=25, n_estimators=49, score=0.6884170843952672, total=   1.8s\n",
      "[CV] max_depth=25, n_estimators=49 ...................................\n",
      "[CV]  max_depth=25, n_estimators=49, score=0.6858950683481919, total=   1.7s\n",
      "[CV] max_depth=25, n_estimators=64 ...................................\n",
      "[CV]  max_depth=25, n_estimators=64, score=0.6920099875979606, total=   2.2s\n",
      "[CV] max_depth=25, n_estimators=64 ...................................\n",
      "[CV]  max_depth=25, n_estimators=64, score=0.689663547495625, total=   2.2s\n",
      "[CV] max_depth=25, n_estimators=81 ...................................\n",
      "[CV]  max_depth=25, n_estimators=81, score=0.6956252855799508, total=   2.8s\n",
      "[CV] max_depth=25, n_estimators=81 ...................................\n",
      "[CV]  max_depth=25, n_estimators=81, score=0.6925304350488352, total=   2.9s\n",
      "[CV] max_depth=36, n_estimators=1 ....................................\n",
      "[CV]  max_depth=36, n_estimators=1, score=0.5580529850329465, total=   0.1s\n",
      "[CV] max_depth=36, n_estimators=1 ....................................\n",
      "[CV]  max_depth=36, n_estimators=1, score=0.5604532924420333, total=   0.1s\n",
      "[CV] max_depth=36, n_estimators=4 ....................................\n",
      "[CV]  max_depth=36, n_estimators=4, score=0.6123931685300849, total=   0.3s\n",
      "[CV] max_depth=36, n_estimators=4 ....................................\n",
      "[CV]  max_depth=36, n_estimators=4, score=0.6095018821252064, total=   0.3s\n",
      "[CV] max_depth=36, n_estimators=9 ....................................\n",
      "[CV]  max_depth=36, n_estimators=9, score=0.6460597104693326, total=   0.5s\n",
      "[CV] max_depth=36, n_estimators=9 ....................................\n",
      "[CV]  max_depth=36, n_estimators=9, score=0.6412267161642874, total=   0.5s\n",
      "[CV] max_depth=36, n_estimators=16 ...................................\n",
      "[CV]  max_depth=36, n_estimators=16, score=0.665580963876037, total=   0.7s\n",
      "[CV] max_depth=36, n_estimators=16 ...................................\n",
      "[CV]  max_depth=36, n_estimators=16, score=0.6620138477526982, total=   0.7s\n",
      "[CV] max_depth=36, n_estimators=25 ...................................\n",
      "[CV]  max_depth=36, n_estimators=25, score=0.6779613103801053, total=   1.0s\n",
      "[CV] max_depth=36, n_estimators=25 ...................................\n",
      "[CV]  max_depth=36, n_estimators=25, score=0.6699023872729297, total=   1.6s\n",
      "[CV] max_depth=36, n_estimators=36 ...................................\n",
      "[CV]  max_depth=36, n_estimators=36, score=0.684782964819121, total=   1.5s\n",
      "[CV] max_depth=36, n_estimators=36 ...................................\n",
      "[CV]  max_depth=36, n_estimators=36, score=0.6804666459402287, total=   1.3s\n",
      "[CV] max_depth=36, n_estimators=49 ...................................\n",
      "[CV]  max_depth=36, n_estimators=49, score=0.6925062036414114, total=   1.8s\n",
      "[CV] max_depth=36, n_estimators=49 ...................................\n",
      "[CV]  max_depth=36, n_estimators=49, score=0.6868789976342768, total=   1.8s\n",
      "[CV] max_depth=36, n_estimators=64 ...................................\n",
      "[CV]  max_depth=36, n_estimators=64, score=0.6960343032201021, total=   2.3s\n",
      "[CV] max_depth=36, n_estimators=64 ...................................\n",
      "[CV]  max_depth=36, n_estimators=64, score=0.6909261715370977, total=   2.4s\n",
      "[CV] max_depth=36, n_estimators=81 ...................................\n",
      "[CV]  max_depth=36, n_estimators=81, score=0.7005076476987284, total=   3.0s\n",
      "[CV] max_depth=36, n_estimators=81 ...................................\n",
      "[CV]  max_depth=36, n_estimators=81, score=0.6958864307348491, total=   3.1s\n",
      "[CV] max_depth=49, n_estimators=1 ....................................\n",
      "[CV]  max_depth=49, n_estimators=1, score=0.5571843416109107, total=   0.1s\n",
      "[CV] max_depth=49, n_estimators=1 ....................................\n",
      "[CV]  max_depth=49, n_estimators=1, score=0.5609168082728935, total=   0.1s\n",
      "[CV] max_depth=49, n_estimators=4 ....................................\n",
      "[CV]  max_depth=49, n_estimators=4, score=0.6140931081893479, total=   0.3s\n",
      "[CV] max_depth=49, n_estimators=4 ....................................\n",
      "[CV]  max_depth=49, n_estimators=4, score=0.6107483693153544, total=   0.3s\n",
      "[CV] max_depth=49, n_estimators=9 ....................................\n",
      "[CV]  max_depth=49, n_estimators=9, score=0.6455829460846365, total=   0.5s\n",
      "[CV] max_depth=49, n_estimators=9 ....................................\n",
      "[CV]  max_depth=49, n_estimators=9, score=0.6440527076249498, total=   0.5s\n",
      "[CV] max_depth=49, n_estimators=16 ...................................\n",
      "[CV]  max_depth=49, n_estimators=16, score=0.6635493269201722, total=   0.7s\n",
      "[CV] max_depth=49, n_estimators=16 ...................................\n",
      "[CV]  max_depth=49, n_estimators=16, score=0.6602739306629608, total=   0.7s\n",
      "[CV] max_depth=49, n_estimators=25 ...................................\n",
      "[CV]  max_depth=49, n_estimators=25, score=0.6744780511034656, total=   1.0s\n",
      "[CV] max_depth=49, n_estimators=25 ...................................\n",
      "[CV]  max_depth=49, n_estimators=25, score=0.6705202350026234, total=   1.2s\n",
      "[CV] max_depth=49, n_estimators=36 ...................................\n",
      "[CV]  max_depth=49, n_estimators=36, score=0.6819359058710214, total=   1.5s\n",
      "[CV] max_depth=49, n_estimators=36 ...................................\n",
      "[CV]  max_depth=49, n_estimators=36, score=0.6777832854696957, total=   1.5s\n",
      "[CV] max_depth=49, n_estimators=49 ...................................\n",
      "[CV]  max_depth=49, n_estimators=49, score=0.6888429319488624, total=   1.9s\n",
      "[CV] max_depth=49, n_estimators=49 ...................................\n"
     ]
    },
    {
     "name": "stdout",
     "output_type": "stream",
     "text": [
      "[CV]  max_depth=49, n_estimators=49, score=0.6839241566296241, total=   1.9s\n",
      "[CV] max_depth=49, n_estimators=64 ...................................\n",
      "[CV]  max_depth=49, n_estimators=64, score=0.6942342298044676, total=   2.7s\n",
      "[CV] max_depth=49, n_estimators=64 ...................................\n",
      "[CV]  max_depth=49, n_estimators=64, score=0.6884107045173372, total=   2.7s\n",
      "[CV] max_depth=49, n_estimators=81 ...................................\n",
      "[CV]  max_depth=49, n_estimators=81, score=0.6982962182152708, total=   3.0s\n",
      "[CV] max_depth=49, n_estimators=81 ...................................\n",
      "[CV]  max_depth=49, n_estimators=81, score=0.6940646368853238, total=   3.1s\n"
     ]
    },
    {
     "name": "stderr",
     "output_type": "stream",
     "text": [
      "[Parallel(n_jobs=1)]: Done  90 out of  90 | elapsed:  2.0min finished\n"
     ]
    },
    {
     "data": {
      "text/plain": [
       "GridSearchCV(cv=2, error_score='raise-deprecating',\n",
       "       estimator=RandomForestClassifier(bootstrap=True, class_weight='balanced',\n",
       "            criterion='gini', max_depth=None, max_features='auto',\n",
       "            max_leaf_nodes=None, min_impurity_decrease=0.0,\n",
       "            min_impurity_split=None, min_samples_leaf=1,\n",
       "            min_samples_split=2, min_weight_fraction_leaf=0.0,\n",
       "            n_estimators='warn', n_jobs=-1, oob_score=False,\n",
       "            random_state=37, verbose=0, warm_start=False),\n",
       "       fit_params=None, iid='warn', n_jobs=None,\n",
       "       param_grid={'n_estimators': [1, 4, 9, 16, 25, 36, 49, 64, 81], 'max_depth': [9, 16, 25, 36, 49]},\n",
       "       pre_dispatch='2*n_jobs', refit=True, return_train_score='warn',\n",
       "       scoring='roc_auc', verbose=30)"
      ]
     },
     "execution_count": 186,
     "metadata": {},
     "output_type": "execute_result"
    }
   ],
   "source": [
    "# Running the GridSearch to find roughly the best model for my Random Forest\n",
    "rf = RandomForestClassifier(n_jobs = -1, random_state = 37, class_weight = 'balanced')\n",
    "\n",
    "\n",
    "param_grid = {'n_estimators' : [i ** 2 for i in range(1,10)],\n",
    "              'max_depth' : [i ** 2 for i in range (3,8)]}\n",
    "\n",
    "rf_best = GridSearchCV(rf, param_grid, cv = 2, scoring = 'roc_auc', verbose = 30)\n",
    "\n",
    "rf_best.fit(x_train, y_train)"
   ]
  },
  {
   "cell_type": "code",
   "execution_count": 187,
   "metadata": {},
   "outputs": [
    {
     "name": "stdout",
     "output_type": "stream",
     "text": [
      "{'max_depth': 36, 'n_estimators': 81} 0.6981970677185401 RandomForestClassifier(bootstrap=True, class_weight='balanced',\n",
      "            criterion='gini', max_depth=36, max_features='auto',\n",
      "            max_leaf_nodes=None, min_impurity_decrease=0.0,\n",
      "            min_impurity_split=None, min_samples_leaf=1,\n",
      "            min_samples_split=2, min_weight_fraction_leaf=0.0,\n",
      "            n_estimators=81, n_jobs=-1, oob_score=False, random_state=37,\n",
      "            verbose=0, warm_start=False)\n"
     ]
    }
   ],
   "source": [
    "print(rf_best.best_params_, rf_best.best_score_, rf_best.best_estimator_)"
   ]
  },
  {
   "cell_type": "code",
   "execution_count": 188,
   "metadata": {},
   "outputs": [
    {
     "name": "stdout",
     "output_type": "stream",
     "text": [
      "0.4047424366312347\n"
     ]
    },
    {
     "data": {
      "image/png": "[encoded data removed]",
      "text/plain": [
       "<Figure size 480x320 with 2 Axes>"
      ]
     },
     "metadata": {
      "needs_background": "light"
     },
     "output_type": "display_data"
    }
   ],
   "source": [
    "rf_pred = rf_best.best_estimator_.predict(x_test)\n",
    "\n",
    "confusion_matrix_graphic(rf_pred)\n",
    "plt.savefig('rf_confusion_matrix.png', bbox_inches = 'tight')\n",
    "\n",
    "# Valuing Recall : Precision at 66% / 33%\n",
    "print(fbeta_score(y_test, rf_pred, beta = 0.50))"
   ]
  },
  {
   "cell_type": "code",
   "execution_count": 234,
   "metadata": {},
   "outputs": [
    {
     "data": {
      "text/plain": [
       "[<matplotlib.lines.Line2D object at 0x1a1ea736a0>]"
      ]
     },
     "execution_count": 234,
     "metadata": {},
     "output_type": "execute_result"
    },
    {
     "data": {
      "image/png": "[encoded data removed]",
      "text/plain": [
       "<Figure size 576x360 with 1 Axes>"
      ]
     },
     "metadata": {
      "needs_background": "light"
     },
     "output_type": "display_data"
    }
   ],
   "source": [
    "# Graphing a ROC curve for all my plots\n",
    "\n",
    "# Set the data for my plots\n",
    "logit_fpr, logit_tpr, _ = roc_curve(y_test, logistic_model.predict_proba(x_test)[:,1])\n",
    "knn_fpr, knn_tpr, _ = roc_curve(y_test, knn_smote_best.predict_proba(x_test)[:,1])\n",
    "rf_fpr, rf_tpr, _ = roc_curve(y_test, rf_best.predict_proba(x_test)[:,1])\n",
    "\n",
    "\n",
    "# Plot the ROC\n",
    "fig, ax = plt.subplots(figsize = (8,5))\n",
    "\n",
    "plt.title('ROC Curve')\n",
    "plt.xlabel('False Positive Rate')\n",
    "plt.ylabel('True Positive Rate')\n",
    "plt.plot(knn_fpr, knn_tpr)\n",
    "plt.plot(logit_fpr, logit_tpr)\n",
    "plt.plot(rf_fpr, rf_tpr, 'g')\n",
    "plt.plot([0, 1], 'r--', alpha = 0.5) # y = x line"
   ]
  },
  {
   "cell_type": "markdown",
   "metadata": {},
   "source": [
    "### Question for class tomorrow: Since it is clear above that my Random Forest is much better along all thresholds, how do I get it to prioritize guessing for Recall in the scoring, over Precision? It should have higher Recall than the other, worse methods I used"
   ]
  },
  {
   "cell_type": "code",
   "execution_count": 236,
   "metadata": {},
   "outputs": [
    {
     "name": "stdout",
     "output_type": "stream",
     "text": [
      "Logistic Regression\n",
      "Recall Score: 0.4917022285443338\n",
      "Precision Score: 0.1353079331941545\n",
      "FBeta Score: 0.15824813062719362\n",
      "\n",
      "K-Nearest Neighbors\n",
      "Recall Score: 0.44333807491702226\n",
      "Precision Score: 0.13538951636258326\n",
      "FBeta Score: 0.1572327044025157\n",
      "\n",
      "Random Forest\n",
      "Recall Score: 0.14082503556187767\n",
      "Precision Score: 0.7615384615384615\n",
      "FBeta Score: 0.4047424366312347\n"
     ]
    }
   ],
   "source": [
    "print('Logistic Regression')\n",
    "print(f'Recall Score: {recall_score(y_test, logit_pred)}')\n",
    "print(f'Precision Score: {precision_score(y_test, logit_pred)}')\n",
    "print(f'FBeta Score: {fbeta_score(y_test, logit_pred, beta = 0.50)}')\n",
    "\n",
    "print('')\n",
    "print('K-Nearest Neighbors')\n",
    "print(f'Recall Score: {recall_score(y_test, knn_smote_pred)}')\n",
    "print(f'Precision Score: {precision_score(y_test, knn_smote_pred)}')\n",
    "print(f'FBeta Score: {fbeta_score(y_test, knn_smote_pred, beta = 0.50)}')\n",
    "\n",
    "print('')\n",
    "print('Random Forest')\n",
    "print(f'Recall Score: {recall_score(y_test, rf_pred)}')\n",
    "print(f'Precision Score: {precision_score(y_test, rf_pred)}')\n",
    "print(f'FBeta Score: {fbeta_score(y_test, rf_pred, beta = 0.50)}')"
   ]
  },
  {
   "cell_type": "markdown",
   "metadata": {},
   "source": [
    "**Need to choose between using ROC_AUC and F1_Score to score my model when I am making it.**\n",
    "\n",
    "Conceptually, the ROC_AUC maximizes your model's performance at all levels of threshold (At one corner, it'll classify as 1 when it is 0.01 confident, at the other corner it will only classify upon 0.99 confidence. Everything else in the middle operates on some spectrum of confidence. That spectrum of confidence will result in different False Positive and False Negative rates, and you have to choose where your *actual model* classifies based on your preferences: precision, recall, sensitivity, specificity)\n",
    "\n",
    "Conceptually, the F1_Score finds the harmonic mean of your optimized precision and recall. To compare it with the ROC_AUC scoring, it'll score your model by picking the threshold that maximizes the harmonic mean between precision and recall, rather than providing the expected results at every threshold (It'll simply pick \"the best\" threshold, given the weights that you assign to precision and recall, with a default of a 50/50 split)"
   ]
  },
  {
   "cell_type": "markdown",
   "metadata": {},
   "source": [
    "Jonathan recommends Random Forest for my problem - I'm likely to have late shipments overlapping with not late shipments, without any way to separate them in my dataset."
   ]
  },
  {
   "cell_type": "markdown",
   "metadata": {},
   "source": [
    "## Scoring\n",
    "\n",
    "I'm going to be scoring with weights of 60% for recall and 40% for precision, since I think predicting late deliveries is more important. You can do something like send an email warning that the shipment is going to be late."
   ]
  },
  {
   "cell_type": "markdown",
   "metadata": {},
   "source": [
    "# Lessons from this Project"
   ]
  },
  {
   "cell_type": "markdown",
   "metadata": {},
   "source": [
    "1. Be careful with cross-validation - don't use it if there's no point. If I have enough data, I can make sure that I don't create any oversampling data leakage. Example: I had data leakage in this project because of SMOTE that was used in the cross-validation - giving very different results than what I get on my final test"
   ]
  }
 ],
 "metadata": {
  "kernelspec": {
   "display_name": "Python 3",
   "language": "python",
   "name": "python3"
  },
  "language_info": {
   "codemirror_mode": {
    "name": "ipython",
    "version": 3
   },
   "file_extension": ".py",
   "mimetype": "text/x-python",
   "name": "python",
   "nbconvert_exporter": "python",
   "pygments_lexer": "ipython3",
   "version": "3.7.3"
  }
 },
 "nbformat": 4,
 "nbformat_minor": 2
}
