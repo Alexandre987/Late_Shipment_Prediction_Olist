{
 "cells": [
  {
   "cell_type": "code",
   "execution_count": 238,
   "metadata": {},
   "outputs": [],
   "source": [
    "import numpy as np\n",
    "import pandas as pd\n",
    "import pandas_profiling # Use pandas_profiling.ProfileReport(df) instead of df.describe()\n",
    "import matplotlib.pyplot as plt\n",
    "import seaborn as sns\n",
    "\n",
    "%matplotlib inline\n",
    "\n",
    "from sklearn.metrics import (classification_report, fbeta_score, f1_score, recall_score,\n",
    "                             accuracy_score, precision_score, roc_curve, fbeta_score, make_scorer)\n",
    "from sklearn import metrics\n",
    "from sklearn.neighbors import KNeighborsClassifier\n",
    "from sklearn.ensemble import RandomForestClassifier\n",
    "from sklearn.model_selection import cross_val_score, GridSearchCV, train_test_split, StratifiedKFold\n",
    "from sklearn.preprocessing import StandardScaler\n",
    "from sklearn.linear_model import LogisticRegression\n",
    "from imblearn.over_sampling import SMOTE, ADASYN\n",
    "\n",
    "from collections import Counter\n",
    "from psycopg2 import connect\n",
    "from haversine import haversine\n",
    "\n",
    "np.set_printoptions(suppress=True)"
   ]
  },
  {
   "cell_type": "code",
   "execution_count": 157,
   "metadata": {},
   "outputs": [],
   "source": [
    "df = pd.read_pickle('df.pkl')"
   ]
  },
  {
   "cell_type": "markdown",
   "metadata": {},
   "source": [
    "# Modeling"
   ]
  },
  {
   "cell_type": "code",
   "execution_count": 159,
   "metadata": {},
   "outputs": [
    {
     "data": {
      "text/plain": [
       "price                                     float64\n",
       "freight_value                             float64\n",
       "order_item_id                               int64\n",
       "product_weight_g                          float64\n",
       "product_length_cm                         float64\n",
       "product_height_cm                         float64\n",
       "product_width_cm                          float64\n",
       "product_vol_cm                            float64\n",
       "dist_km                                   float64\n",
       "order_purchased_to_approved                 int64\n",
       "order_approved_to_delivered_to_carrier      int64\n",
       "dtype: object"
      ]
     },
     "execution_count": 159,
     "metadata": {},
     "output_type": "execute_result"
    }
   ],
   "source": [
    "df_y = df['is_late']\n",
    "df_x = df.drop(columns = ['order_delivered_customer_date','order_estimated_delivery_date',\n",
    "                          'customer_zip_code_prefix','seller_zip_code_prefix',\n",
    "                          'is_late','order_id','customer_id','product_id','seller_id',\n",
    "                          'order_purchase_timestamp','order_approved_at','shipping_limit_date',\n",
    "                          'order_delivered_carrier_date'])\n",
    "# Dropping all the non-numerical, date and y value from my x value of df\n",
    "# Also dropping zip code because the model will not interpret that number correctly, and I already have lat/long\n",
    "\n",
    "df_x.dtypes"
   ]
  },
  {
   "cell_type": "code",
   "execution_count": 160,
   "metadata": {},
   "outputs": [],
   "source": [
    "# Train/test split\n",
    "x_train, x_test, y_train, y_test = train_test_split(df_x, df_y,\n",
    "                                                    stratify = df_y,  # Include proportional y's in the splits\n",
    "                                                    random_state = 37)"
   ]
  },
  {
   "cell_type": "code",
   "execution_count": 165,
   "metadata": {},
   "outputs": [
    {
     "name": "stdout",
     "output_type": "stream",
     "text": [
      "(119584, 11) (119584,)\n",
      "(119586, 11) (119586,)\n",
      "(119586, 11) (119586,)\n",
      "(119586, 11) (119586,)\n",
      "(119586, 11) (119586,)\n",
      "Cross validated accuracy: 0.8915614719783859\n",
      "Cross validated recall score: 0.17888628714509613\n",
      "Cross validated precision score: 0.23975394431610947\n",
      "Cross validated f1_score: 0.2048184152256483\n"
     ]
    }
   ],
   "source": [
    "# StratifiedKFold, if I am interested in redoing my RF without SMOTE, and still want to try GridSearch\n",
    "\n",
    "random_seed = 37\n",
    "kf = StratifiedKFold(n_splits=5, random_state=random_seed)\n",
    "cross_val_f1_score_lst = []\n",
    "cross_val_accuracy_lst = []\n",
    "cross_val_recall_lst = []\n",
    "cross_val_precision_lst = []\n",
    "\n",
    "for train_index_ls, validation_index_ls in kf.split(x_train, y_train):\n",
    "    # keeping validation set apart and oversampling in each iteration using smote \n",
    "    train, validation = x_train.iloc[train_index_ls], x_train.iloc[validation_index_ls]\n",
    "    target_train, target_val = y_train.iloc[train_index_ls], y_train.iloc[validation_index_ls]\n",
    "    sm = SMOTE(random_state=random_seed)\n",
    "    X_train_res, y_train_res = sm.fit_sample(train, target_train)\n",
    "    print (X_train_res.shape, y_train_res.shape)\n",
    "    \n",
    "    # training the model on oversampled 4 folds of training set\n",
    "    rf = RandomForestClassifier(n_estimators=5, random_state=random_seed)\n",
    "    rf.fit(train, target_train)\n",
    "    \n",
    "    # testing on 1 fold of validation set\n",
    "    validation_preds = rf.predict(validation)\n",
    "    cross_val_recall_lst.append(recall_score(target_val, validation_preds))\n",
    "    cross_val_accuracy_lst.append(accuracy_score(target_val, validation_preds))\n",
    "    cross_val_precision_lst.append(precision_score(target_val, validation_preds))\n",
    "    cross_val_f1_score_lst.append(f1_score(target_val, validation_preds))\n",
    "    \n",
    "print ('Cross validated accuracy: {}'.format(np.mean(cross_val_accuracy_lst)))\n",
    "print ('Cross validated recall score: {}'.format(np.mean(cross_val_recall_lst)))\n",
    "print ('Cross validated precision score: {}'.format(np.mean(cross_val_precision_lst)))\n",
    "print ('Cross validated f1_score: {}'.format(np.mean(cross_val_f1_score_lst)))"
   ]
  },
  {
   "cell_type": "code",
   "execution_count": 166,
   "metadata": {},
   "outputs": [
    {
     "name": "stderr",
     "output_type": "stream",
     "text": [
      "/anaconda3/lib/python3.7/site-packages/sklearn/preprocessing/data.py:645: DataConversionWarning: Data with input dtype int64, float64 were all converted to float64 by StandardScaler.\n",
      "  return self.partial_fit(X, y)\n",
      "/anaconda3/lib/python3.7/site-packages/sklearn/base.py:464: DataConversionWarning: Data with input dtype int64, float64 were all converted to float64 by StandardScaler.\n",
      "  return self.fit(X, **fit_params).transform(X)\n",
      "/anaconda3/lib/python3.7/site-packages/ipykernel_launcher.py:5: DataConversionWarning: Data with input dtype int64, float64 were all converted to float64 by StandardScaler.\n",
      "  \"\"\"\n"
     ]
    }
   ],
   "source": [
    "# Scale my features so that everything is in z-scores\n",
    "scaler = StandardScaler()\n",
    "\n",
    "x_train_scaled = scaler.fit_transform(x_train)\n",
    "x_test_scaled = scaler.transform(x_test)"
   ]
  },
  {
   "cell_type": "markdown",
   "metadata": {},
   "source": [
    "## Oversampling"
   ]
  },
  {
   "cell_type": "code",
   "execution_count": 167,
   "metadata": {},
   "outputs": [],
   "source": [
    "# SMOTE\n",
    "x_train_smoted, y_train_smoted = SMOTE(random_state=37).fit_sample(x_train_scaled, y_train)"
   ]
  },
  {
   "cell_type": "code",
   "execution_count": 168,
   "metadata": {
    "scrolled": true
   },
   "outputs": [
    {
     "data": {
      "text/plain": [
       "Counter({False: 75866, True: 75866})"
      ]
     },
     "execution_count": 168,
     "metadata": {},
     "output_type": "execute_result"
    }
   ],
   "source": [
    "Counter(y_smoted)"
   ]
  },
  {
   "cell_type": "code",
   "execution_count": 169,
   "metadata": {},
   "outputs": [],
   "source": [
    "# Define a confusion matrix function so that I can graph confusion matrices for each of my models\n",
    "def confusion_matrix_graphic(prediction, real_y = y_test):\n",
    "    conf_matrix = metrics.confusion_matrix(real_y, prediction)\n",
    "    \n",
    "    plt.figure(dpi=80)\n",
    "    sns.heatmap(conf_matrix, cmap=plt.cm.Blues, annot=True, square=True, fmt = 'g',\n",
    "               xticklabels=['Not late', 'Late'],\n",
    "               yticklabels=['Not late', 'Late'])\n",
    "\n",
    "    plt.xlabel('Predicted lateness')\n",
    "    plt.ylabel('Actual lateness')\n",
    "    plt.title('Confusion matrix');"
   ]
  },
  {
   "cell_type": "markdown",
   "metadata": {},
   "source": [
    "## Logistic Regression"
   ]
  },
  {
   "cell_type": "code",
   "execution_count": 170,
   "metadata": {},
   "outputs": [
    {
     "name": "stderr",
     "output_type": "stream",
     "text": [
      "/anaconda3/lib/python3.7/site-packages/sklearn/linear_model/logistic.py:433: FutureWarning: Default solver will be changed to 'lbfgs' in 0.22. Specify a solver to silence this warning.\n",
      "  FutureWarning)\n",
      "/anaconda3/lib/python3.7/site-packages/sklearn/linear_model/logistic.py:1300: UserWarning: 'n_jobs' > 1 does not have any effect when 'solver' is set to 'liblinear'. Got 'n_jobs' = 4.\n",
      "  \" = {}.\".format(effective_n_jobs(self.n_jobs)))\n"
     ]
    },
    {
     "name": "stdout",
     "output_type": "stream",
     "text": [
      "0.21221733346976362 0.4917022285443338 0.1353079331941545\n"
     ]
    }
   ],
   "source": [
    "# Fitting and predicting with my Logistic Regression\n",
    "logistic_model = LogisticRegression(random_state = 34, class_weight = 'balanced', n_jobs = -1)\n",
    "\n",
    "logistic_model.fit(x_train_scaled, y_train)\n",
    "logit_pred = logistic_model.predict(x_test_scaled)\n",
    "\n",
    "print(metrics.f1_score(y_test, logit_pred), metrics.recall_score(y_test, logit_pred),\n",
    "      metrics.precision_score(y_test, logit_pred))"
   ]
  },
  {
   "cell_type": "code",
   "execution_count": 171,
   "metadata": {},
   "outputs": [
    {
     "data": {
      "image/png": "[encoded data removed]",
      "text/plain": [
       "<Figure size 480x320 with 2 Axes>"
      ]
     },
     "metadata": {
      "needs_background": "light"
     },
     "output_type": "display_data"
    }
   ],
   "source": [
    "confusion_matrix_graphic(logit_pred)\n",
    "plt.savefig('logit_confusion.png', bbox_inches = 'tight')"
   ]
  },
  {
   "cell_type": "code",
   "execution_count": 172,
   "metadata": {},
   "outputs": [
    {
     "name": "stdout",
     "output_type": "stream",
     "text": [
      "              precision    recall  f1-score   support\n",
      "\n",
      "       False       0.94      0.73      0.83     24914\n",
      "        True       0.14      0.49      0.21      2109\n",
      "\n",
      "   micro avg       0.72      0.72      0.72     27023\n",
      "   macro avg       0.54      0.61      0.52     27023\n",
      "weighted avg       0.88      0.72      0.78     27023\n",
      "\n"
     ]
    }
   ],
   "source": [
    "print(classification_report(y_test, logit_pred))"
   ]
  },
  {
   "cell_type": "code",
   "execution_count": 173,
   "metadata": {},
   "outputs": [
    {
     "data": {
      "text/plain": [
       "[('price', 0.0026394998163000285),\n",
       " ('freight_value', 0.019627513288729633),\n",
       " ('order_item_id', -0.09234996670419095),\n",
       " ('product_weight_g', 0.028925117145455346),\n",
       " ('product_length_cm', 0.03523185441668526),\n",
       " ('product_height_cm', -0.024537080630069843),\n",
       " ('product_width_cm', -0.016427247825435087),\n",
       " ('product_vol_cm', -0.037726514340754434),\n",
       " ('dist_km', 0.2403403905709739),\n",
       " ('order_purchased_to_approved', 0.1238355905496773),\n",
       " ('order_approved_to_delivered_to_carrier', 0.5464924144297569)]"
      ]
     },
     "execution_count": 173,
     "metadata": {},
     "output_type": "execute_result"
    }
   ],
   "source": [
    "list(zip(x_train.columns, logistic_model.coef_[0]))"
   ]
  },
  {
   "cell_type": "markdown",
   "metadata": {},
   "source": [
    "These results give preliminary evidence that latitude and longitude or both customer and seller are the most important general features of whether a shipment will be late or not.\n",
    "\n",
    "Surprisingly, weight and volume and dimensions of the package seems to not matter much. What seems to matter a surprising amount is whether there was an additional item in the package (order_item_id). I decided to leave this metric in for possible insights like this - every additional package in an order decreases the likelihood of the package being delivered on time by 2.6%"
   ]
  },
  {
   "cell_type": "code",
   "execution_count": 174,
   "metadata": {},
   "outputs": [
    {
     "data": {
      "text/plain": [
       "[(0.54649241,\n",
       "  0.54649241,\n",
       "  0.15402177,\n",
       "  'order_approved_to_delivered_to_carrier'),\n",
       " (0.24034039, 0.24034039, 0.00040803, 'dist_km'),\n",
       " (0.12383559, 0.12383559, 0.17782641, 'order_purchased_to_approved'),\n",
       " (0.09234997, -0.09234997, -0.12984203, 'order_item_id'),\n",
       " (0.03772651, -0.03772651, -1.62e-06, 'product_vol_cm'),\n",
       " (0.03523185, 0.03523185, 0.00218558, 'product_length_cm'),\n",
       " (0.02892512, 0.02892512, 7.73e-06, 'product_weight_g'),\n",
       " (0.02453708, -0.02453708, -0.00182564, 'product_height_cm'),\n",
       " (0.01962751, 0.01962751, 0.00125162, 'freight_value'),\n",
       " (0.01642725, -0.01642725, -0.00141564, 'product_width_cm'),\n",
       " (0.0026395, 0.0026395, 1.438e-05, 'price')]"
      ]
     },
     "execution_count": 174,
     "metadata": {},
     "output_type": "execute_result"
    }
   ],
   "source": [
    "# This cell calculates the logistic model's coefficient values, and turns it into interpretation\n",
    "# Need to un-log these coefficients\n",
    "readjusted_coefs = np.round((logistic_model.coef_[0] / scaler.scale_),8)\n",
    "\n",
    "sorted(list(zip(abs(np.round(logistic_model.coef_[0], 8)),        # Abs val of the scaled coefficients\n",
    "                            np.round(logistic_model.coef_[0], 8), # Val of the scaled coefficients\n",
    "                            readjusted_coefs,                     # Unscaled val of coefficients (for interpretation)\n",
    "                            x_test.columns)), reverse = True)     # Column labels\n",
    "\n",
    "# I think all the below coefficients are in log-odds. They still need to be exponentiated and converted to p"
   ]
  },
  {
   "cell_type": "code",
   "execution_count": 175,
   "metadata": {},
   "outputs": [
    {
     "data": {
      "text/plain": [
       "1.0403820484769828"
      ]
     },
     "execution_count": 175,
     "metadata": {},
     "output_type": "execute_result"
    }
   ],
   "source": [
    "# Once I solve the shipping distance problem, I need to exponentiate to get the coefficients into log-odds.\n",
    "# Then once I have log-odds, convert to probability\n",
    "\n",
    "np.exp(0.039588)"
   ]
  },
  {
   "cell_type": "code",
   "execution_count": 176,
   "metadata": {},
   "outputs": [
    {
     "data": {
      "text/plain": [
       "1.0403738981754433"
      ]
     },
     "execution_count": 176,
     "metadata": {},
     "output_type": "execute_result"
    }
   ],
   "source": [
    "1.00039588**100"
   ]
  },
  {
   "cell_type": "code",
   "execution_count": 177,
   "metadata": {},
   "outputs": [
    {
     "data": {
      "text/plain": [
       "596.4359735606896"
      ]
     },
     "execution_count": 177,
     "metadata": {},
     "output_type": "execute_result"
    }
   ],
   "source": [
    "df['dist_km'].mean()\n",
    "\n",
    "# dist_km exponent is 0.00039588"
   ]
  },
  {
   "cell_type": "markdown",
   "metadata": {},
   "source": [
    "**We see below that late deliveries are, on average, ~27% farther away than deliveries that are on time**"
   ]
  },
  {
   "cell_type": "code",
   "execution_count": 178,
   "metadata": {},
   "outputs": [
    {
     "name": "stdout",
     "output_type": "stream",
     "text": [
      "739.8094858099133 584.2976731959608\n",
      "0.2671115674195757\n"
     ]
    }
   ],
   "source": [
    "# We see that late deliveries are, on average, ~27% farther away than deliveries that are on time\n",
    "print(df.loc[df['is_late'] == True, 'dist_km'].mean(), df.loc[df['is_late'] == False, 'dist_km'].mean())\n",
    "\n",
    "print((740.5 - 584.4) / 584.4)"
   ]
  },
  {
   "cell_type": "markdown",
   "metadata": {},
   "source": [
    "**I may want to include in my presentation that in my old model, I calculated the change in odds by 1 km on the margin. But I cannot extrapolate that to 1 * 100. Instead I need to recalculate my model based on every 100 km. My log-odd coefficients will be exactly 100x the old coefficients, but when I *exponentiate* that, the amount is sliiiiightly different. This is the change in probability that is compounded from 1 to 100, very similarly to compound interest.**\n",
    "\n",
    "For example, if I had 12% interest compounded yearly, compared to 1% interest compounded monthly, 1% would be more. But a slightly smaller percentage (0.97% for instance) would be equal. My old 1 km calculation was the old, smaller percentage, and the 100 km calculation was the bigger, 12% calculation"
   ]
  },
  {
   "cell_type": "markdown",
   "metadata": {},
   "source": [
    "## K-Nearest Neighbors"
   ]
  },
  {
   "cell_type": "code",
   "execution_count": 179,
   "metadata": {},
   "outputs": [
    {
     "data": {
      "text/plain": [
       "GridSearchCV(cv=2, error_score='raise-deprecating',\n",
       "       estimator=KNeighborsClassifier(algorithm='auto', leaf_size=30, metric='minkowski',\n",
       "           metric_params=None, n_jobs=-1, n_neighbors=5, p=2,\n",
       "           weights='uniform'),\n",
       "       fit_params=None, iid='warn', n_jobs=None,\n",
       "       param_grid={'n_neighbors': [1, 2, 3, 4, 5, 6, 7, 8, 9]},\n",
       "       pre_dispatch='2*n_jobs', refit=True, return_train_score='warn',\n",
       "       scoring='roc_auc', verbose=0)"
      ]
     },
     "execution_count": 179,
     "metadata": {},
     "output_type": "execute_result"
    }
   ],
   "source": [
    "knn = KNeighborsClassifier(n_jobs = -1)\n",
    "\n",
    "param_grid = {'n_neighbors': [i for i in range(1,10)]} # Gridsearching through squared values to find ideal KNN\n",
    "knn_smote_best = GridSearchCV(knn, param_grid, cv = 2, scoring = 'roc_auc')\n",
    "\n",
    "knn_smote_best.fit(x_train_smoted, y_train_smoted)"
   ]
  },
  {
   "cell_type": "code",
   "execution_count": 180,
   "metadata": {},
   "outputs": [
    {
     "name": "stdout",
     "output_type": "stream",
     "text": [
      "{'n_neighbors': 5} 0.9203201533814052 KNeighborsClassifier(algorithm='auto', leaf_size=30, metric='minkowski',\n",
      "           metric_params=None, n_jobs=-1, n_neighbors=5, p=2,\n",
      "           weights='uniform')\n"
     ]
    }
   ],
   "source": [
    "print(knn_smote_best.best_params_, knn_smote_best.best_score_, knn_smote_best.best_estimator_)"
   ]
  },
  {
   "cell_type": "code",
   "execution_count": 181,
   "metadata": {},
   "outputs": [
    {
     "data": {
      "image/png": "[encoded data removed]",
      "text/plain": [
       "<Figure size 480x320 with 2 Axes>"
      ]
     },
     "metadata": {
      "needs_background": "light"
     },
     "output_type": "display_data"
    }
   ],
   "source": [
    "# Run the prediction and confusion matrix function that I defined\n",
    "knn_smote_pred = knn_smote_best.best_estimator_.predict(x_test_scaled) # Take the best KNN that was found above\n",
    "\n",
    "confusion_matrix_graphic(knn_smote_pred)\n",
    "plt.savefig('knn_confusion_matrix.png', bbox_inches = 'tight')"
   ]
  },
  {
   "cell_type": "markdown",
   "metadata": {},
   "source": [
    "SMOTE is better than ADASYN in my tests. I will delete ADASYN and use SMOTE from now on rather than ADASYN"
   ]
  },
  {
   "cell_type": "markdown",
   "metadata": {},
   "source": [
    "## Random Forest"
   ]
  },
  {
   "cell_type": "code",
   "execution_count": 240,
   "metadata": {
    "scrolled": true
   },
   "outputs": [
    {
     "name": "stdout",
     "output_type": "stream",
     "text": [
      "Fitting 2 folds for each of 45 candidates, totalling 90 fits\n",
      "[CV] max_depth=9, n_estimators=1 .....................................\n"
     ]
    },
    {
     "name": "stderr",
     "output_type": "stream",
     "text": [
      "[Parallel(n_jobs=1)]: Using backend SequentialBackend with 1 concurrent workers.\n"
     ]
    },
    {
     "name": "stdout",
     "output_type": "stream",
     "text": [
      "[CV]  max_depth=9, n_estimators=1, score=0.2835122488301679, total=   3.6s\n",
      "[CV] max_depth=9, n_estimators=1 .....................................\n"
     ]
    },
    {
     "name": "stderr",
     "output_type": "stream",
     "text": [
      "[Parallel(n_jobs=1)]: Done   1 out of   1 | elapsed:    3.7s remaining:    0.0s\n"
     ]
    },
    {
     "name": "stdout",
     "output_type": "stream",
     "text": [
      "[CV]  max_depth=9, n_estimators=1, score=0.3165236051502146, total=   0.6s\n",
      "[CV] max_depth=9, n_estimators=4 .....................................\n"
     ]
    },
    {
     "name": "stderr",
     "output_type": "stream",
     "text": [
      "[Parallel(n_jobs=1)]: Done   2 out of   2 | elapsed:    4.3s remaining:    0.0s\n"
     ]
    },
    {
     "name": "stdout",
     "output_type": "stream",
     "text": [
      "[CV]  max_depth=9, n_estimators=4, score=0.3153410443143415, total=   0.8s\n",
      "[CV] max_depth=9, n_estimators=4 .....................................\n"
     ]
    },
    {
     "name": "stderr",
     "output_type": "stream",
     "text": [
      "[Parallel(n_jobs=1)]: Done   3 out of   3 | elapsed:    5.2s remaining:    0.0s\n"
     ]
    },
    {
     "name": "stdout",
     "output_type": "stream",
     "text": [
      "[CV]  max_depth=9, n_estimators=4, score=0.3192275709137947, total=   0.2s\n",
      "[CV] max_depth=9, n_estimators=9 .....................................\n"
     ]
    },
    {
     "name": "stderr",
     "output_type": "stream",
     "text": [
      "[Parallel(n_jobs=1)]: Done   4 out of   4 | elapsed:    5.6s remaining:    0.0s\n"
     ]
    },
    {
     "name": "stdout",
     "output_type": "stream",
     "text": [
      "[CV]  max_depth=9, n_estimators=9, score=0.32705718270571826, total=   0.3s\n",
      "[CV] max_depth=9, n_estimators=9 .....................................\n"
     ]
    },
    {
     "name": "stderr",
     "output_type": "stream",
     "text": [
      "[Parallel(n_jobs=1)]: Done   5 out of   5 | elapsed:    6.0s remaining:    0.0s\n"
     ]
    },
    {
     "name": "stdout",
     "output_type": "stream",
     "text": [
      "[CV]  max_depth=9, n_estimators=9, score=0.32876009146483737, total=   0.3s\n",
      "[CV] max_depth=9, n_estimators=16 ....................................\n"
     ]
    },
    {
     "name": "stderr",
     "output_type": "stream",
     "text": [
      "[Parallel(n_jobs=1)]: Done   6 out of   6 | elapsed:    6.5s remaining:    0.0s\n"
     ]
    },
    {
     "name": "stdout",
     "output_type": "stream",
     "text": [
      "[CV]  max_depth=9, n_estimators=16, score=0.3285707527085206, total=   0.5s\n",
      "[CV] max_depth=9, n_estimators=16 ....................................\n"
     ]
    },
    {
     "name": "stderr",
     "output_type": "stream",
     "text": [
      "[Parallel(n_jobs=1)]: Done   7 out of   7 | elapsed:    7.1s remaining:    0.0s\n"
     ]
    },
    {
     "name": "stdout",
     "output_type": "stream",
     "text": [
      "[CV]  max_depth=9, n_estimators=16, score=0.32900965726188225, total=   0.5s\n",
      "[CV] max_depth=9, n_estimators=25 ....................................\n"
     ]
    },
    {
     "name": "stderr",
     "output_type": "stream",
     "text": [
      "[Parallel(n_jobs=1)]: Done   8 out of   8 | elapsed:    7.7s remaining:    0.0s\n"
     ]
    },
    {
     "name": "stdout",
     "output_type": "stream",
     "text": [
      "[CV]  max_depth=9, n_estimators=25, score=0.3284671532846716, total=   0.6s\n",
      "[CV] max_depth=9, n_estimators=25 ....................................\n"
     ]
    },
    {
     "name": "stderr",
     "output_type": "stream",
     "text": [
      "[Parallel(n_jobs=1)]: Done   9 out of   9 | elapsed:    8.4s remaining:    0.0s\n"
     ]
    },
    {
     "name": "stdout",
     "output_type": "stream",
     "text": [
      "[CV]  max_depth=9, n_estimators=25, score=0.3288117720366199, total=   0.6s\n",
      "[CV] max_depth=9, n_estimators=36 ....................................\n"
     ]
    },
    {
     "name": "stderr",
     "output_type": "stream",
     "text": [
      "[Parallel(n_jobs=1)]: Done  10 out of  10 | elapsed:    9.2s remaining:    0.0s\n"
     ]
    },
    {
     "name": "stdout",
     "output_type": "stream",
     "text": [
      "[CV]  max_depth=9, n_estimators=36, score=0.3302183702125599, total=   0.8s\n",
      "[CV] max_depth=9, n_estimators=36 ....................................\n"
     ]
    },
    {
     "name": "stderr",
     "output_type": "stream",
     "text": [
      "[Parallel(n_jobs=1)]: Done  11 out of  11 | elapsed:   10.1s remaining:    0.0s\n"
     ]
    },
    {
     "name": "stdout",
     "output_type": "stream",
     "text": [
      "[CV]  max_depth=9, n_estimators=36, score=0.32437241511974607, total=   0.8s\n",
      "[CV] max_depth=9, n_estimators=49 ....................................\n"
     ]
    },
    {
     "name": "stderr",
     "output_type": "stream",
     "text": [
      "[Parallel(n_jobs=1)]: Done  12 out of  12 | elapsed:   11.0s remaining:    0.0s\n"
     ]
    },
    {
     "name": "stdout",
     "output_type": "stream",
     "text": [
      "[CV]  max_depth=9, n_estimators=49, score=0.33285163776493254, total=   1.0s\n",
      "[CV] max_depth=9, n_estimators=49 ....................................\n"
     ]
    },
    {
     "name": "stderr",
     "output_type": "stream",
     "text": [
      "[Parallel(n_jobs=1)]: Done  13 out of  13 | elapsed:   12.1s remaining:    0.0s\n"
     ]
    },
    {
     "name": "stdout",
     "output_type": "stream",
     "text": [
      "[CV]  max_depth=9, n_estimators=49, score=0.32950670061001974, total=   1.0s\n",
      "[CV] max_depth=9, n_estimators=64 ....................................\n"
     ]
    },
    {
     "name": "stderr",
     "output_type": "stream",
     "text": [
      "[Parallel(n_jobs=1)]: Done  14 out of  14 | elapsed:   13.2s remaining:    0.0s\n"
     ]
    },
    {
     "name": "stdout",
     "output_type": "stream",
     "text": [
      "[CV]  max_depth=9, n_estimators=64, score=0.33215342093778794, total=   1.2s\n",
      "[CV] max_depth=9, n_estimators=64 ....................................\n"
     ]
    },
    {
     "name": "stderr",
     "output_type": "stream",
     "text": [
      "[Parallel(n_jobs=1)]: Done  15 out of  15 | elapsed:   14.6s remaining:    0.0s\n"
     ]
    },
    {
     "name": "stdout",
     "output_type": "stream",
     "text": [
      "[CV]  max_depth=9, n_estimators=64, score=0.32730613034229356, total=   1.2s\n",
      "[CV] max_depth=9, n_estimators=81 ....................................\n"
     ]
    },
    {
     "name": "stderr",
     "output_type": "stream",
     "text": [
      "[Parallel(n_jobs=1)]: Done  16 out of  16 | elapsed:   16.0s remaining:    0.0s\n"
     ]
    },
    {
     "name": "stdout",
     "output_type": "stream",
     "text": [
      "[CV]  max_depth=9, n_estimators=81, score=0.33057250799186283, total=   1.6s\n",
      "[CV] max_depth=9, n_estimators=81 ....................................\n"
     ]
    },
    {
     "name": "stderr",
     "output_type": "stream",
     "text": [
      "[Parallel(n_jobs=1)]: Done  17 out of  17 | elapsed:   17.8s remaining:    0.0s\n"
     ]
    },
    {
     "name": "stdout",
     "output_type": "stream",
     "text": [
      "[CV]  max_depth=9, n_estimators=81, score=0.32841435185185186, total=   1.6s\n",
      "[CV] max_depth=16, n_estimators=1 ....................................\n",
      "[CV]  max_depth=16, n_estimators=1, score=0.24946303919813853, total=   0.1s\n",
      "[CV] max_depth=16, n_estimators=1 ....................................\n"
     ]
    },
    {
     "name": "stderr",
     "output_type": "stream",
     "text": [
      "[Parallel(n_jobs=1)]: Done  18 out of  18 | elapsed:   19.6s remaining:    0.0s\n",
      "[Parallel(n_jobs=1)]: Done  19 out of  19 | elapsed:   19.7s remaining:    0.0s\n"
     ]
    },
    {
     "name": "stdout",
     "output_type": "stream",
     "text": [
      "[CV]  max_depth=16, n_estimators=1, score=0.27424197572630776, total=   0.1s\n",
      "[CV] max_depth=16, n_estimators=4 ....................................\n"
     ]
    },
    {
     "name": "stderr",
     "output_type": "stream",
     "text": [
      "[Parallel(n_jobs=1)]: Done  20 out of  20 | elapsed:   19.8s remaining:    0.0s\n"
     ]
    },
    {
     "name": "stdout",
     "output_type": "stream",
     "text": [
      "[CV]  max_depth=16, n_estimators=4, score=0.20001242313187156, total=   0.3s\n",
      "[CV] max_depth=16, n_estimators=4 ....................................\n"
     ]
    },
    {
     "name": "stderr",
     "output_type": "stream",
     "text": [
      "[Parallel(n_jobs=1)]: Done  21 out of  21 | elapsed:   20.2s remaining:    0.0s\n"
     ]
    },
    {
     "name": "stdout",
     "output_type": "stream",
     "text": [
      "[CV]  max_depth=16, n_estimators=4, score=0.21426839616923266, total=   0.3s\n",
      "[CV] max_depth=16, n_estimators=9 ....................................\n"
     ]
    },
    {
     "name": "stderr",
     "output_type": "stream",
     "text": [
      "[Parallel(n_jobs=1)]: Done  22 out of  22 | elapsed:   20.6s remaining:    0.0s\n"
     ]
    },
    {
     "name": "stdout",
     "output_type": "stream",
     "text": [
      "[CV]  max_depth=16, n_estimators=9, score=0.2070592927412922, total=   0.4s\n",
      "[CV] max_depth=16, n_estimators=9 ....................................\n"
     ]
    },
    {
     "name": "stderr",
     "output_type": "stream",
     "text": [
      "[Parallel(n_jobs=1)]: Done  23 out of  23 | elapsed:   21.2s remaining:    0.0s\n"
     ]
    },
    {
     "name": "stdout",
     "output_type": "stream",
     "text": [
      "[CV]  max_depth=16, n_estimators=9, score=0.2034043112513144, total=   0.5s\n",
      "[CV] max_depth=16, n_estimators=16 ...................................\n"
     ]
    },
    {
     "name": "stderr",
     "output_type": "stream",
     "text": [
      "[Parallel(n_jobs=1)]: Done  24 out of  24 | elapsed:   21.8s remaining:    0.0s\n"
     ]
    },
    {
     "name": "stdout",
     "output_type": "stream",
     "text": [
      "[CV]  max_depth=16, n_estimators=16, score=0.1929812512876863, total=   0.6s\n",
      "[CV] max_depth=16, n_estimators=16 ...................................\n"
     ]
    },
    {
     "name": "stderr",
     "output_type": "stream",
     "text": [
      "[Parallel(n_jobs=1)]: Done  25 out of  25 | elapsed:   22.5s remaining:    0.0s\n"
     ]
    },
    {
     "name": "stdout",
     "output_type": "stream",
     "text": [
      "[CV]  max_depth=16, n_estimators=16, score=0.1926618018140899, total=   0.6s\n",
      "[CV] max_depth=16, n_estimators=25 ...................................\n"
     ]
    },
    {
     "name": "stderr",
     "output_type": "stream",
     "text": [
      "[Parallel(n_jobs=1)]: Done  26 out of  26 | elapsed:   23.2s remaining:    0.0s\n"
     ]
    },
    {
     "name": "stdout",
     "output_type": "stream",
     "text": [
      "[CV]  max_depth=16, n_estimators=25, score=0.18618513323983168, total=   0.8s\n",
      "[CV] max_depth=16, n_estimators=25 ...................................\n"
     ]
    },
    {
     "name": "stderr",
     "output_type": "stream",
     "text": [
      "[Parallel(n_jobs=1)]: Done  27 out of  27 | elapsed:   24.2s remaining:    0.0s\n"
     ]
    },
    {
     "name": "stdout",
     "output_type": "stream",
     "text": [
      "[CV]  max_depth=16, n_estimators=25, score=0.1940329647402462, total=   0.8s\n",
      "[CV] max_depth=16, n_estimators=36 ...................................\n"
     ]
    },
    {
     "name": "stderr",
     "output_type": "stream",
     "text": [
      "[Parallel(n_jobs=1)]: Done  28 out of  28 | elapsed:   25.1s remaining:    0.0s\n"
     ]
    },
    {
     "name": "stdout",
     "output_type": "stream",
     "text": [
      "[CV]  max_depth=16, n_estimators=36, score=0.1811157581342596, total=   1.1s\n",
      "[CV] max_depth=16, n_estimators=36 ...................................\n"
     ]
    },
    {
     "name": "stderr",
     "output_type": "stream",
     "text": [
      "[Parallel(n_jobs=1)]: Done  29 out of  29 | elapsed:   26.3s remaining:    0.0s\n"
     ]
    },
    {
     "name": "stdout",
     "output_type": "stream",
     "text": [
      "[CV]  max_depth=16, n_estimators=36, score=0.19012345679012344, total=   1.1s\n",
      "[CV] max_depth=16, n_estimators=49 ...................................\n",
      "[CV]  max_depth=16, n_estimators=49, score=0.18754874849322842, total=   1.5s\n",
      "[CV] max_depth=16, n_estimators=49 ...................................\n",
      "[CV]  max_depth=16, n_estimators=49, score=0.19018274543136418, total=   1.5s\n",
      "[CV] max_depth=16, n_estimators=64 ...................................\n",
      "[CV]  max_depth=16, n_estimators=64, score=0.18705547652916074, total=   1.9s\n",
      "[CV] max_depth=16, n_estimators=64 ...................................\n",
      "[CV]  max_depth=16, n_estimators=64, score=0.18730046115643845, total=   1.9s\n",
      "[CV] max_depth=16, n_estimators=81 ...................................\n",
      "[CV]  max_depth=16, n_estimators=81, score=0.18687589158345222, total=   2.3s\n",
      "[CV] max_depth=16, n_estimators=81 ...................................\n",
      "[CV]  max_depth=16, n_estimators=81, score=0.18644548419112433, total=   2.3s\n",
      "[CV] max_depth=25, n_estimators=1 ....................................\n",
      "[CV]  max_depth=25, n_estimators=1, score=0.19328282526993976, total=   0.2s\n",
      "[CV] max_depth=25, n_estimators=1 ....................................\n",
      "[CV]  max_depth=25, n_estimators=1, score=0.21687015665941906, total=   0.1s\n",
      "[CV] max_depth=25, n_estimators=4 ....................................\n",
      "[CV]  max_depth=25, n_estimators=4, score=0.09550353028613899, total=   0.3s\n",
      "[CV] max_depth=25, n_estimators=4 ....................................\n",
      "[CV]  max_depth=25, n_estimators=4, score=0.11435126933609652, total=   0.3s\n",
      "[CV] max_depth=25, n_estimators=9 ....................................\n",
      "[CV]  max_depth=25, n_estimators=9, score=0.12409629574420511, total=   0.5s\n",
      "[CV] max_depth=25, n_estimators=9 ....................................\n",
      "[CV]  max_depth=25, n_estimators=9, score=0.13830181683351872, total=   0.5s\n",
      "[CV] max_depth=25, n_estimators=16 ...................................\n",
      "[CV]  max_depth=25, n_estimators=16, score=0.11398061193577703, total=   0.8s\n",
      "[CV] max_depth=25, n_estimators=16 ...................................\n",
      "[CV]  max_depth=25, n_estimators=16, score=0.1183007030009827, total=   0.7s\n",
      "[CV] max_depth=25, n_estimators=25 ...................................\n",
      "[CV]  max_depth=25, n_estimators=25, score=0.12038158691702, total=   0.9s\n",
      "[CV] max_depth=25, n_estimators=25 ...................................\n",
      "[CV]  max_depth=25, n_estimators=25, score=0.1273235605259181, total=   0.9s\n",
      "[CV] max_depth=25, n_estimators=36 ...................................\n",
      "[CV]  max_depth=25, n_estimators=36, score=0.1118636329046496, total=   1.3s\n",
      "[CV] max_depth=25, n_estimators=36 ...................................\n",
      "[CV]  max_depth=25, n_estimators=36, score=0.12178465740951513, total=   1.2s\n",
      "[CV] max_depth=25, n_estimators=49 ...................................\n",
      "[CV]  max_depth=25, n_estimators=49, score=0.11264175355810946, total=   1.7s\n",
      "[CV] max_depth=25, n_estimators=49 ...................................\n",
      "[CV]  max_depth=25, n_estimators=49, score=0.12296015180265653, total=   1.7s\n",
      "[CV] max_depth=25, n_estimators=64 ...................................\n",
      "[CV]  max_depth=25, n_estimators=64, score=0.1101455903651193, total=   2.1s\n",
      "[CV] max_depth=25, n_estimators=64 ...................................\n",
      "[CV]  max_depth=25, n_estimators=64, score=0.11341147815497032, total=   2.1s\n",
      "[CV] max_depth=25, n_estimators=81 ...................................\n",
      "[CV]  max_depth=25, n_estimators=81, score=0.11424219345011422, total=   2.7s\n",
      "[CV] max_depth=25, n_estimators=81 ...................................\n",
      "[CV]  max_depth=25, n_estimators=81, score=0.12042242820240086, total=   2.8s\n",
      "[CV] max_depth=36, n_estimators=1 ....................................\n",
      "[CV]  max_depth=36, n_estimators=1, score=0.1841269841269841, total=   0.1s\n",
      "[CV] max_depth=36, n_estimators=1 ....................................\n",
      "[CV]  max_depth=36, n_estimators=1, score=0.19084688304350556, total=   0.2s\n",
      "[CV] max_depth=36, n_estimators=4 ....................................\n",
      "[CV]  max_depth=36, n_estimators=4, score=0.09522003034901365, total=   0.3s\n",
      "[CV] max_depth=36, n_estimators=4 ....................................\n",
      "[CV]  max_depth=36, n_estimators=4, score=0.08639062262140355, total=   0.3s\n",
      "[CV] max_depth=36, n_estimators=9 ....................................\n",
      "[CV]  max_depth=36, n_estimators=9, score=0.1350946785420253, total=   0.5s\n",
      "[CV] max_depth=36, n_estimators=9 ....................................\n",
      "[CV]  max_depth=36, n_estimators=9, score=0.12507534659433392, total=   0.5s\n",
      "[CV] max_depth=36, n_estimators=16 ...................................\n",
      "[CV]  max_depth=36, n_estimators=16, score=0.11047619047619045, total=   0.7s\n",
      "[CV] max_depth=36, n_estimators=16 ...................................\n",
      "[CV]  max_depth=36, n_estimators=16, score=0.10467603911980441, total=   0.7s\n",
      "[CV] max_depth=36, n_estimators=25 ...................................\n",
      "[CV]  max_depth=36, n_estimators=25, score=0.11336833295290269, total=   0.9s\n",
      "[CV] max_depth=36, n_estimators=25 ...................................\n",
      "[CV]  max_depth=36, n_estimators=25, score=0.12207179799209006, total=   1.0s\n",
      "[CV] max_depth=36, n_estimators=36 ...................................\n",
      "[CV]  max_depth=36, n_estimators=36, score=0.10845489956465289, total=   1.3s\n",
      "[CV] max_depth=36, n_estimators=36 ...................................\n",
      "[CV]  max_depth=36, n_estimators=36, score=0.11189185060719468, total=   1.3s\n",
      "[CV] max_depth=36, n_estimators=49 ...................................\n",
      "[CV]  max_depth=36, n_estimators=49, score=0.11058572300183037, total=   1.8s\n",
      "[CV] max_depth=36, n_estimators=49 ...................................\n",
      "[CV]  max_depth=36, n_estimators=49, score=0.11673151750972764, total=   1.8s\n",
      "[CV] max_depth=36, n_estimators=64 ...................................\n",
      "[CV]  max_depth=36, n_estimators=64, score=0.10475607891114849, total=   2.3s\n",
      "[CV] max_depth=36, n_estimators=64 ...................................\n",
      "[CV]  max_depth=36, n_estimators=64, score=0.10629349239122123, total=   2.5s\n",
      "[CV] max_depth=36, n_estimators=81 ...................................\n",
      "[CV]  max_depth=36, n_estimators=81, score=0.10994884324654501, total=   3.2s\n",
      "[CV] max_depth=36, n_estimators=81 ...................................\n",
      "[CV]  max_depth=36, n_estimators=81, score=0.11338474459799953, total=   3.0s\n",
      "[CV] max_depth=49, n_estimators=1 ....................................\n",
      "[CV]  max_depth=49, n_estimators=1, score=0.1820496499045194, total=   0.1s\n",
      "[CV] max_depth=49, n_estimators=1 ....................................\n",
      "[CV]  max_depth=49, n_estimators=1, score=0.18885350318471336, total=   0.1s\n",
      "[CV] max_depth=49, n_estimators=4 ....................................\n",
      "[CV]  max_depth=49, n_estimators=4, score=0.09969673995451099, total=   0.3s\n",
      "[CV] max_depth=49, n_estimators=4 ....................................\n",
      "[CV]  max_depth=49, n_estimators=4, score=0.09088143585063505, total=   0.3s\n",
      "[CV] max_depth=49, n_estimators=9 ....................................\n",
      "[CV]  max_depth=49, n_estimators=9, score=0.1354993262464441, total=   0.5s\n",
      "[CV] max_depth=49, n_estimators=9 ....................................\n",
      "[CV]  max_depth=49, n_estimators=9, score=0.12320096450907994, total=   0.5s\n",
      "[CV] max_depth=49, n_estimators=16 ...................................\n",
      "[CV]  max_depth=49, n_estimators=16, score=0.10886943281309479, total=   0.7s\n",
      "[CV] max_depth=49, n_estimators=16 ...................................\n",
      "[CV]  max_depth=49, n_estimators=16, score=0.10408694321138835, total=   0.7s\n",
      "[CV] max_depth=49, n_estimators=25 ...................................\n",
      "[CV]  max_depth=49, n_estimators=25, score=0.11337695936691522, total=   1.0s\n",
      "[CV] max_depth=49, n_estimators=25 ...................................\n",
      "[CV]  max_depth=49, n_estimators=25, score=0.11653591286465079, total=   1.0s\n",
      "[CV] max_depth=49, n_estimators=36 ...................................\n",
      "[CV]  max_depth=49, n_estimators=36, score=0.10446961579672433, total=   1.3s\n",
      "[CV] max_depth=49, n_estimators=36 ...................................\n",
      "[CV]  max_depth=49, n_estimators=36, score=0.11451255821055042, total=   1.3s\n",
      "[CV] max_depth=49, n_estimators=49 ...................................\n",
      "[CV]  max_depth=49, n_estimators=49, score=0.10995723885155773, total=   1.8s\n",
      "[CV] max_depth=49, n_estimators=49 ...................................\n"
     ]
    },
    {
     "name": "stdout",
     "output_type": "stream",
     "text": [
      "[CV]  max_depth=49, n_estimators=49, score=0.11555182671039585, total=   1.9s\n",
      "[CV] max_depth=49, n_estimators=64 ...................................\n",
      "[CV]  max_depth=49, n_estimators=64, score=0.106651376146789, total=   2.4s\n",
      "[CV] max_depth=49, n_estimators=64 ...................................\n",
      "[CV]  max_depth=49, n_estimators=64, score=0.11120452461021094, total=   2.3s\n",
      "[CV] max_depth=49, n_estimators=81 ...................................\n",
      "[CV]  max_depth=49, n_estimators=81, score=0.10850462290822957, total=   3.0s\n",
      "[CV] max_depth=49, n_estimators=81 ...................................\n",
      "[CV]  max_depth=49, n_estimators=81, score=0.11603939232002443, total=   3.0s\n"
     ]
    },
    {
     "name": "stderr",
     "output_type": "stream",
     "text": [
      "[Parallel(n_jobs=1)]: Done  90 out of  90 | elapsed:  1.9min finished\n"
     ]
    },
    {
     "data": {
      "text/plain": [
       "GridSearchCV(cv=2, error_score='raise-deprecating',\n",
       "       estimator=RandomForestClassifier(bootstrap=True, class_weight='balanced',\n",
       "            criterion='gini', max_depth=None, max_features='auto',\n",
       "            max_leaf_nodes=None, min_impurity_decrease=0.0,\n",
       "            min_impurity_split=None, min_samples_leaf=1,\n",
       "            min_samples_split=2, min_weight_fraction_leaf=0.0,\n",
       "            n_estimators='warn', n_jobs=-1, oob_score=False,\n",
       "            random_state=37, verbose=0, warm_start=False),\n",
       "       fit_params=None, iid='warn', n_jobs=None,\n",
       "       param_grid={'n_estimators': [1, 4, 9, 16, 25, 36, 49, 64, 81], 'max_depth': [9, 16, 25, 36, 49]},\n",
       "       pre_dispatch='2*n_jobs', refit=True, return_train_score='warn',\n",
       "       scoring=make_scorer(fbeta_score, beta=2), verbose=30)"
      ]
     },
     "execution_count": 240,
     "metadata": {},
     "output_type": "execute_result"
    }
   ],
   "source": [
    "# Running the GridSearch to find roughly the best model for my Random Forest\n",
    "custom_score = make_scorer(fbeta_score, beta = 2)\n",
    "\n",
    "rf2 = RandomForestClassifier(n_jobs = -1, random_state = 37, class_weight = 'balanced')\n",
    "\n",
    "\n",
    "param_grid = {'n_estimators' : [i ** 2 for i in range(1,10)],\n",
    "              'max_depth' : [i ** 2 for i in range (3,8)]}\n",
    "\n",
    "rf2_best = GridSearchCV(rf, param_grid, cv = 2, scoring = custom_score, verbose = 30)\n",
    "\n",
    "rf2_best.fit(x_train, y_train)"
   ]
  },
  {
   "cell_type": "code",
   "execution_count": 187,
   "metadata": {},
   "outputs": [
    {
     "name": "stdout",
     "output_type": "stream",
     "text": [
      "{'max_depth': 36, 'n_estimators': 81} 0.6981970677185401 RandomForestClassifier(bootstrap=True, class_weight='balanced',\n",
      "            criterion='gini', max_depth=36, max_features='auto',\n",
      "            max_leaf_nodes=None, min_impurity_decrease=0.0,\n",
      "            min_impurity_split=None, min_samples_leaf=1,\n",
      "            min_samples_split=2, min_weight_fraction_leaf=0.0,\n",
      "            n_estimators=81, n_jobs=-1, oob_score=False, random_state=37,\n",
      "            verbose=0, warm_start=False)\n"
     ]
    }
   ],
   "source": [
    "print(rf_best.best_params_, rf_best.best_score_, rf_best.best_estimator_)"
   ]
  },
  {
   "cell_type": "code",
   "execution_count": 258,
   "metadata": {},
   "outputs": [
    {
     "data": {
      "text/plain": [
       "array([False, False, False, ..., False, False, False])"
      ]
     },
     "execution_count": 258,
     "metadata": {},
     "output_type": "execute_result"
    }
   ],
   "source": [
    "rf_best.best_estimator_.predict(x_test)"
   ]
  },
  {
   "cell_type": "code",
   "execution_count": 246,
   "metadata": {
    "scrolled": true
   },
   "outputs": [
    {
     "name": "stdout",
     "output_type": "stream",
     "text": [
      "0.16825288919102652\n"
     ]
    },
    {
     "data": {
      "image/png": "[encoded data removed]",
      "text/plain": [
       "<Figure size 480x320 with 2 Axes>"
      ]
     },
     "metadata": {
      "needs_background": "light"
     },
     "output_type": "display_data"
    }
   ],
   "source": [
    "rf_pred = rf_best.best_estimator_.predict(x_test)\n",
    "\n",
    "confusion_matrix_graphic(rf_pred)\n",
    "plt.savefig('rf_confusion_matrix.png', bbox_inches = 'tight')\n",
    "\n",
    "# Valuing Recall : Precision at 66% / 33%\n",
    "print(fbeta_score(y_test, rf_pred, beta = 2))"
   ]
  },
  {
   "cell_type": "code",
   "execution_count": 251,
   "metadata": {},
   "outputs": [
    {
     "data": {
      "text/plain": [
       "120.12432381687115"
      ]
     },
     "execution_count": 251,
     "metadata": {},
     "output_type": "execute_result"
    }
   ],
   "source": [
    "df['price'].mean() # Average cost of a product in Brazilian Real"
   ]
  },
  {
   "cell_type": "code",
   "execution_count": 285,
   "metadata": {},
   "outputs": [],
   "source": [
    "df_fi = pd.DataFrame(data = rf_best.best_estimator_.feature_importances_, index = df_x.columns) # How important by percent is each of your features (adds to 1.0)"
   ]
  },
  {
   "cell_type": "code",
   "execution_count": 293,
   "metadata": {},
   "outputs": [
    {
     "data": {
      "text/html": [
       "<div>\n",
       "<style scoped>\n",
       "    .dataframe tbody tr th:only-of-type {\n",
       "        vertical-align: middle;\n",
       "    }\n",
       "\n",
       "    .dataframe tbody tr th {\n",
       "        vertical-align: top;\n",
       "    }\n",
       "\n",
       "    .dataframe thead th {\n",
       "        text-align: right;\n",
       "    }\n",
       "</style>\n",
       "<table border=\"1\" class=\"dataframe\">\n",
       "  <thead>\n",
       "    <tr style=\"text-align: right;\">\n",
       "      <th></th>\n",
       "      <th>0</th>\n",
       "    </tr>\n",
       "  </thead>\n",
       "  <tbody>\n",
       "    <tr>\n",
       "      <th>dist_km</th>\n",
       "      <td>0.172390</td>\n",
       "    </tr>\n",
       "    <tr>\n",
       "      <th>freight_value</th>\n",
       "      <td>0.139419</td>\n",
       "    </tr>\n",
       "    <tr>\n",
       "      <th>order_approved_to_delivered_to_carrier</th>\n",
       "      <td>0.123331</td>\n",
       "    </tr>\n",
       "    <tr>\n",
       "      <th>price</th>\n",
       "      <td>0.122829</td>\n",
       "    </tr>\n",
       "    <tr>\n",
       "      <th>product_weight_g</th>\n",
       "      <td>0.103527</td>\n",
       "    </tr>\n",
       "    <tr>\n",
       "      <th>product_vol_cm</th>\n",
       "      <td>0.100892</td>\n",
       "    </tr>\n",
       "    <tr>\n",
       "      <th>product_height_cm</th>\n",
       "      <td>0.072745</td>\n",
       "    </tr>\n",
       "    <tr>\n",
       "      <th>product_length_cm</th>\n",
       "      <td>0.068866</td>\n",
       "    </tr>\n",
       "    <tr>\n",
       "      <th>product_width_cm</th>\n",
       "      <td>0.067094</td>\n",
       "    </tr>\n",
       "    <tr>\n",
       "      <th>order_purchased_to_approved</th>\n",
       "      <td>0.016675</td>\n",
       "    </tr>\n",
       "    <tr>\n",
       "      <th>order_item_id</th>\n",
       "      <td>0.012231</td>\n",
       "    </tr>\n",
       "  </tbody>\n",
       "</table>\n",
       "</div>"
      ],
      "text/plain": [
       "                                               0\n",
       "dist_km                                 0.172390\n",
       "freight_value                           0.139419\n",
       "order_approved_to_delivered_to_carrier  0.123331\n",
       "price                                   0.122829\n",
       "product_weight_g                        0.103527\n",
       "product_vol_cm                          0.100892\n",
       "product_height_cm                       0.072745\n",
       "product_length_cm                       0.068866\n",
       "product_width_cm                        0.067094\n",
       "order_purchased_to_approved             0.016675\n",
       "order_item_id                           0.012231"
      ]
     },
     "execution_count": 293,
     "metadata": {},
     "output_type": "execute_result"
    }
   ],
   "source": [
    "# Show the importance of each of my features\n",
    "df_fi.sort_values(by=0, ascending = False)"
   ]
  },
  {
   "cell_type": "code",
   "execution_count": 267,
   "metadata": {},
   "outputs": [
    {
     "data": {
      "image/png": "[encoded data removed]",
      "text/plain": [
       "<Figure size 576x576 with 1 Axes>"
      ]
     },
     "metadata": {
      "needs_background": "light"
     },
     "output_type": "display_data"
    }
   ],
   "source": [
    "# Graphing a ROC curve for all my plots\n",
    "\n",
    "# Set the data for my plots\n",
    "logit_fpr, logit_tpr, _ = roc_curve(y_test, logistic_model.predict_proba(x_test)[:,1])\n",
    "knn_fpr, knn_tpr, _ = roc_curve(y_test, knn_smote_best.predict_proba(x_test)[:,1])\n",
    "rf_fpr, rf_tpr, _ = roc_curve(y_test, rf_best.predict_proba(x_test)[:,1])\n",
    "#rf2_fpr, rf2_tpr, _ = roc_curve(y_test, rf2_best.predict_proba(x_test)[:,1])\n",
    "\n",
    "\n",
    "# Plot the ROC\n",
    "fig, ax = plt.subplots(figsize = (8,8))\n",
    "\n",
    "plt.title('ROC Curve')\n",
    "plt.xlabel('False Positive Rate')\n",
    "plt.ylabel('True Positive Rate')\n",
    "plt.plot(knn_fpr, knn_tpr)\n",
    "plt.plot(logit_fpr, logit_tpr)\n",
    "#plt.plot(rf2_fpr, rf2_tpr, 'r')\n",
    "plt.plot(rf_fpr, rf_tpr, 'g')\n",
    "plt.plot([0, 1], 'r--', alpha = 0.5) # y = x line\n",
    "\n",
    "plt.savefig('roc_curve.png', bbox_inches = 'tight')"
   ]
  },
  {
   "cell_type": "code",
   "execution_count": 274,
   "metadata": {},
   "outputs": [
    {
     "name": "stdout",
     "output_type": "stream",
     "text": [
      "2\n",
      "0.1\n",
      "0.3908093849784812\n"
     ]
    }
   ],
   "source": [
    "y_probs = rf_best.predict_proba(x_test)[:,1]\n",
    "precisions = []\n",
    "thresholds = []\n",
    "for t in range(0,100,5):\n",
    "    y_pred = pd.Series(y_probs).apply(lambda x: 0 if x<t / 100 else 1)\n",
    "    precisions.append(fbeta_score(y_test, y_pred, beta = 2))\n",
    "    thresholds.append(t/100)\n",
    "print(np.argmax(precisions)) #the index of the best fbeta\n",
    "print(thresholds[np.argmax(precisions)]) #the best threshold for your model\n",
    "print(max(precisions)) # Precisions = fbeta"
   ]
  },
  {
   "cell_type": "code",
   "execution_count": 275,
   "metadata": {},
   "outputs": [
    {
     "data": {
      "image/png": "[encoded data removed]",
      "text/plain": [
       "<Figure size 480x320 with 2 Axes>"
      ]
     },
     "metadata": {
      "needs_background": "light"
     },
     "output_type": "display_data"
    }
   ],
   "source": [
    "# Applying the way to split the threshold of 0.1 (best threshold from above), into positive and negative guesses\n",
    "y_pred = pd.Series(y_probs).apply(lambda x: 0 if x < 0.1 else 1)\n",
    "\n",
    "confusion_matrix_graphic(y_test, y_pred)"
   ]
  },
  {
   "cell_type": "markdown",
   "metadata": {},
   "source": [
    "### Question for class tomorrow: Since it is clear above that my Random Forest is much better along all thresholds, how do I get it to prioritize guessing for Recall in the scoring, over Precision? It should have higher Recall than the other, worse methods I used\n",
    "\n",
    "William suggested sklearn.metrics.make_scorer\n",
    "\n",
    "Dan suggested making my own dollar cost function, and predicting with predict_proba, and looping through the predictions in order to find the best confusion matrix with the particular costs that I decided. That will then give the best threshold"
   ]
  },
  {
   "cell_type": "code",
   "execution_count": null,
   "metadata": {},
   "outputs": [],
   "source": []
  },
  {
   "cell_type": "code",
   "execution_count": 237,
   "metadata": {},
   "outputs": [
    {
     "name": "stdout",
     "output_type": "stream",
     "text": [
      "Logistic Regression\n",
      "Recall Score: 0.4917022285443338\n",
      "Precision Score: 0.1353079331941545\n",
      "FBeta Score: 0.3220496894409937\n",
      "\n",
      "K-Nearest Neighbors\n",
      "Recall Score: 0.44333807491702226\n",
      "Precision Score: 0.13538951636258326\n",
      "FBeta Score: 0.3047190718289662\n",
      "\n",
      "Random Forest\n",
      "Recall Score: 0.14082503556187767\n",
      "Precision Score: 0.7615384615384615\n",
      "FBeta Score: 0.16825288919102652\n"
     ]
    }
   ],
   "source": [
    "print('Logistic Regression')\n",
    "print(f'Recall Score: {recall_score(y_test, logit_pred)}')\n",
    "print(f'Precision Score: {precision_score(y_test, logit_pred)}')\n",
    "print(f'FBeta Score: {fbeta_score(y_test, logit_pred, beta = 2)}')\n",
    "\n",
    "print('')\n",
    "print('K-Nearest Neighbors')\n",
    "print(f'Recall Score: {recall_score(y_test, knn_smote_pred)}')\n",
    "print(f'Precision Score: {precision_score(y_test, knn_smote_pred)}')\n",
    "print(f'FBeta Score: {fbeta_score(y_test, knn_smote_pred, beta = 2)}')\n",
    "\n",
    "print('')\n",
    "print('Random Forest')\n",
    "print(f'Recall Score: {recall_score(y_test, rf_pred)}')\n",
    "print(f'Precision Score: {precision_score(y_test, rf_pred)}')\n",
    "print(f'FBeta Score: {fbeta_score(y_test, rf_pred, beta = 2)}')"
   ]
  },
  {
   "cell_type": "markdown",
   "metadata": {},
   "source": [
    "**Need to choose between using ROC_AUC and F1_Score to score my model when I am making it.**\n",
    "\n",
    "Conceptually, the ROC_AUC maximizes your model's performance at all levels of threshold (At one corner, it'll classify as 1 when it is 0.01 confident, at the other corner it will only classify upon 0.99 confidence. Everything else in the middle operates on some spectrum of confidence. That spectrum of confidence will result in different False Positive and False Negative rates, and you have to choose where your *actual model* classifies based on your preferences: precision, recall, sensitivity, specificity)\n",
    "\n",
    "Conceptually, the F1_Score finds the harmonic mean of your optimized precision and recall. To compare it with the ROC_AUC scoring, it'll score your model by picking the threshold that maximizes the harmonic mean between precision and recall, rather than providing the expected results at every threshold (It'll simply pick \"the best\" threshold, given the weights that you assign to precision and recall, with a default of a 50/50 split)"
   ]
  },
  {
   "cell_type": "markdown",
   "metadata": {},
   "source": [
    "Jonathan recommends Random Forest for my problem - I'm likely to have late shipments overlapping with not late shipments, without any way to separate them in my dataset."
   ]
  },
  {
   "cell_type": "markdown",
   "metadata": {},
   "source": [
    "## Scoring\n",
    "\n",
    "I'm going to be scoring with weights of 60% for recall and 40% for precision, since I think predicting late deliveries is more important. You can do something like send an email warning that the shipment is going to be late."
   ]
  },
  {
   "cell_type": "markdown",
   "metadata": {},
   "source": [
    "# Lessons from this Project"
   ]
  },
  {
   "cell_type": "markdown",
   "metadata": {},
   "source": [
    "1. Be careful with cross-validation - don't use it if there's no point. If I have enough data, I can make sure that I don't create any oversampling data leakage. Example: I had data leakage in this project because of SMOTE that was used in the cross-validation - giving very different results than what I get on my final test\n",
    "\n",
    "\n",
    "2. Consider beforehand if I really need to cross-validate, or if I should split a validation set ahead of time\n",
    "\n",
    "\n",
    "3. You need to be careful with your scoring metric. I scored everything with \"roc_auc\", thinking that would lead to the best apples-to-apples comparison across the board before I knew what I wanted to score my model on. But instead, it trained and picked the best model on very different performances (KNN and Logistic Regression were heavier on recall, while RF was much heavier on precision). RF *clearly* outperformed the others in the ROC curve, but underperformed in the proper FBeta weighting. **If I didn't graph my ROCs and confusion matrix, I would have thought that my Random Forest was my worse model**"
   ]
  },
  {
   "cell_type": "code",
   "execution_count": null,
   "metadata": {},
   "outputs": [],
   "source": []
  }
 ],
 "metadata": {
  "kernelspec": {
   "display_name": "Python 3",
   "language": "python",
   "name": "python3"
  },
  "language_info": {
   "codemirror_mode": {
    "name": "ipython",
    "version": 3
   },
   "file_extension": ".py",
   "mimetype": "text/x-python",
   "name": "python",
   "nbconvert_exporter": "python",
   "pygments_lexer": "ipython3",
   "version": "3.7.3"
  }
 },
 "nbformat": 4,
 "nbformat_minor": 2
}
