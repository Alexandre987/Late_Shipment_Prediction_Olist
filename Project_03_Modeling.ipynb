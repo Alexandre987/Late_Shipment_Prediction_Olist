{
 "cells": [
  {
   "cell_type": "code",
   "execution_count": 238,
   "metadata": {},
   "outputs": [],
   "source": [
    "import numpy as np\n",
    "import pandas as pd\n",
    "import pandas_profiling # Use pandas_profiling.ProfileReport(df) instead of df.describe()\n",
    "import matplotlib.pyplot as plt\n",
    "import seaborn as sns\n",
    "\n",
    "%matplotlib inline\n",
    "\n",
    "from sklearn.metrics import (classification_report, fbeta_score, f1_score, recall_score,\n",
    "                             accuracy_score, precision_score, roc_curve, fbeta_score, make_scorer)\n",
    "from sklearn import metrics\n",
    "from sklearn.neighbors import KNeighborsClassifier\n",
    "from sklearn.ensemble import RandomForestClassifier\n",
    "from sklearn.model_selection import cross_val_score, GridSearchCV, train_test_split, StratifiedKFold\n",
    "from sklearn.preprocessing import StandardScaler\n",
    "from sklearn.linear_model import LogisticRegression\n",
    "from imblearn.over_sampling import SMOTE, ADASYN\n",
    "\n",
    "from collections import Counter\n",
    "from psycopg2 import connect\n",
    "from haversine import haversine\n",
    "\n",
    "np.set_printoptions(suppress=True)"
   ]
  },
  {
   "cell_type": "code",
   "execution_count": 157,
   "metadata": {},
   "outputs": [],
   "source": [
    "df = pd.read_pickle('df.pkl')"
   ]
  },
  {
   "cell_type": "code",
   "execution_count": 365,
   "metadata": {},
   "outputs": [
    {
     "data": {
      "text/html": [
       "<div>\n",
       "<style scoped>\n",
       "    .dataframe tbody tr th:only-of-type {\n",
       "        vertical-align: middle;\n",
       "    }\n",
       "\n",
       "    .dataframe tbody tr th {\n",
       "        vertical-align: top;\n",
       "    }\n",
       "\n",
       "    .dataframe thead th {\n",
       "        text-align: right;\n",
       "    }\n",
       "</style>\n",
       "<table border=\"1\" class=\"dataframe\">\n",
       "  <thead>\n",
       "    <tr style=\"text-align: right;\">\n",
       "      <th></th>\n",
       "      <th>is_late</th>\n",
       "      <th>order_id</th>\n",
       "      <th>customer_id</th>\n",
       "      <th>order_purchase_timestamp</th>\n",
       "      <th>order_approved_at</th>\n",
       "      <th>order_delivered_carrier_date</th>\n",
       "      <th>order_delivered_customer_date</th>\n",
       "      <th>order_estimated_delivery_date</th>\n",
       "      <th>customer_zip_code_prefix</th>\n",
       "      <th>product_id</th>\n",
       "      <th>...</th>\n",
       "      <th>order_item_id</th>\n",
       "      <th>seller_zip_code_prefix</th>\n",
       "      <th>product_weight_g</th>\n",
       "      <th>product_length_cm</th>\n",
       "      <th>product_height_cm</th>\n",
       "      <th>product_width_cm</th>\n",
       "      <th>product_vol_cm</th>\n",
       "      <th>dist_km</th>\n",
       "      <th>order_purchased_to_approved</th>\n",
       "      <th>order_approved_to_delivered_to_carrier</th>\n",
       "    </tr>\n",
       "  </thead>\n",
       "  <tbody>\n",
       "    <tr>\n",
       "      <th>0</th>\n",
       "      <td>False</td>\n",
       "      <td>e481f51cbdc54678b7cc49136f2d6af7</td>\n",
       "      <td>9ef432eb6251297304e76186b10a928d</td>\n",
       "      <td>2017-10-02 10:56:33</td>\n",
       "      <td>2017-10-02 11:07:15</td>\n",
       "      <td>2017-10-04 19:55:00</td>\n",
       "      <td>2017-10-10 21:25:13</td>\n",
       "      <td>2017-10-18 11:59:59</td>\n",
       "      <td>3149</td>\n",
       "      <td>87285b34884572647811a353c7ac498a</td>\n",
       "      <td>...</td>\n",
       "      <td>1</td>\n",
       "      <td>9350</td>\n",
       "      <td>500.0</td>\n",
       "      <td>19.0</td>\n",
       "      <td>8.0</td>\n",
       "      <td>13.0</td>\n",
       "      <td>1976.0</td>\n",
       "      <td>18.063862</td>\n",
       "      <td>0</td>\n",
       "      <td>2</td>\n",
       "    </tr>\n",
       "    <tr>\n",
       "      <th>1</th>\n",
       "      <td>False</td>\n",
       "      <td>53cdb2fc8bc7dce0b6741e2150273451</td>\n",
       "      <td>b0830fb4747a6c6d20dea0b8c802d7ef</td>\n",
       "      <td>2018-07-24 20:41:37</td>\n",
       "      <td>2018-07-26 03:24:27</td>\n",
       "      <td>2018-07-26 14:31:00</td>\n",
       "      <td>2018-08-07 15:27:45</td>\n",
       "      <td>2018-08-13 11:59:59</td>\n",
       "      <td>47813</td>\n",
       "      <td>595fac2a385ac33a80bd5114aec74eb8</td>\n",
       "      <td>...</td>\n",
       "      <td>1</td>\n",
       "      <td>31570</td>\n",
       "      <td>400.0</td>\n",
       "      <td>19.0</td>\n",
       "      <td>13.0</td>\n",
       "      <td>19.0</td>\n",
       "      <td>4693.0</td>\n",
       "      <td>856.293763</td>\n",
       "      <td>1</td>\n",
       "      <td>0</td>\n",
       "    </tr>\n",
       "    <tr>\n",
       "      <th>2</th>\n",
       "      <td>False</td>\n",
       "      <td>47770eb9100c2d0c44946d9cf07ec65d</td>\n",
       "      <td>41ce2a54c0b03bf3443c3d931a367089</td>\n",
       "      <td>2018-08-08 08:38:49</td>\n",
       "      <td>2018-08-08 08:55:23</td>\n",
       "      <td>2018-08-08 13:50:00</td>\n",
       "      <td>2018-08-17 18:06:29</td>\n",
       "      <td>2018-09-04 11:59:59</td>\n",
       "      <td>75265</td>\n",
       "      <td>aa4383b373c6aca5d8797843e5594415</td>\n",
       "      <td>...</td>\n",
       "      <td>1</td>\n",
       "      <td>14840</td>\n",
       "      <td>420.0</td>\n",
       "      <td>24.0</td>\n",
       "      <td>19.0</td>\n",
       "      <td>21.0</td>\n",
       "      <td>9576.0</td>\n",
       "      <td>514.131043</td>\n",
       "      <td>0</td>\n",
       "      <td>0</td>\n",
       "    </tr>\n",
       "    <tr>\n",
       "      <th>3</th>\n",
       "      <td>False</td>\n",
       "      <td>949d5b44dbf5de918fe9c16f97b45f8a</td>\n",
       "      <td>f88197465ea7920adcdbec7375364d82</td>\n",
       "      <td>2017-11-18 19:28:06</td>\n",
       "      <td>2017-11-18 19:45:59</td>\n",
       "      <td>2017-11-22 13:39:59</td>\n",
       "      <td>2017-12-02 00:28:42</td>\n",
       "      <td>2017-12-15 11:59:59</td>\n",
       "      <td>59296</td>\n",
       "      <td>d0b61bfb1de832b15ba9d266ca96e5b0</td>\n",
       "      <td>...</td>\n",
       "      <td>1</td>\n",
       "      <td>31842</td>\n",
       "      <td>450.0</td>\n",
       "      <td>30.0</td>\n",
       "      <td>10.0</td>\n",
       "      <td>20.0</td>\n",
       "      <td>6000.0</td>\n",
       "      <td>1822.802884</td>\n",
       "      <td>0</td>\n",
       "      <td>3</td>\n",
       "    </tr>\n",
       "    <tr>\n",
       "      <th>4</th>\n",
       "      <td>False</td>\n",
       "      <td>ad21c59c0840e6cb83a9ceb5573f8159</td>\n",
       "      <td>8ab97904e6daea8866dbdbc4fb7aad2c</td>\n",
       "      <td>2018-02-13 21:18:39</td>\n",
       "      <td>2018-02-13 22:20:29</td>\n",
       "      <td>2018-02-14 19:46:34</td>\n",
       "      <td>2018-02-16 18:17:02</td>\n",
       "      <td>2018-02-26 11:59:59</td>\n",
       "      <td>9195</td>\n",
       "      <td>65266b2da20d04dbe00c5c2d3bb7859e</td>\n",
       "      <td>...</td>\n",
       "      <td>1</td>\n",
       "      <td>8752</td>\n",
       "      <td>250.0</td>\n",
       "      <td>51.0</td>\n",
       "      <td>15.0</td>\n",
       "      <td>15.0</td>\n",
       "      <td>11475.0</td>\n",
       "      <td>30.174079</td>\n",
       "      <td>0</td>\n",
       "      <td>0</td>\n",
       "    </tr>\n",
       "  </tbody>\n",
       "</table>\n",
       "<p>5 rows × 24 columns</p>\n",
       "</div>"
      ],
      "text/plain": [
       "   is_late                          order_id  \\\n",
       "0    False  e481f51cbdc54678b7cc49136f2d6af7   \n",
       "1    False  53cdb2fc8bc7dce0b6741e2150273451   \n",
       "2    False  47770eb9100c2d0c44946d9cf07ec65d   \n",
       "3    False  949d5b44dbf5de918fe9c16f97b45f8a   \n",
       "4    False  ad21c59c0840e6cb83a9ceb5573f8159   \n",
       "\n",
       "                        customer_id order_purchase_timestamp  \\\n",
       "0  9ef432eb6251297304e76186b10a928d      2017-10-02 10:56:33   \n",
       "1  b0830fb4747a6c6d20dea0b8c802d7ef      2018-07-24 20:41:37   \n",
       "2  41ce2a54c0b03bf3443c3d931a367089      2018-08-08 08:38:49   \n",
       "3  f88197465ea7920adcdbec7375364d82      2017-11-18 19:28:06   \n",
       "4  8ab97904e6daea8866dbdbc4fb7aad2c      2018-02-13 21:18:39   \n",
       "\n",
       "    order_approved_at order_delivered_carrier_date  \\\n",
       "0 2017-10-02 11:07:15          2017-10-04 19:55:00   \n",
       "1 2018-07-26 03:24:27          2018-07-26 14:31:00   \n",
       "2 2018-08-08 08:55:23          2018-08-08 13:50:00   \n",
       "3 2017-11-18 19:45:59          2017-11-22 13:39:59   \n",
       "4 2018-02-13 22:20:29          2018-02-14 19:46:34   \n",
       "\n",
       "  order_delivered_customer_date order_estimated_delivery_date  \\\n",
       "0           2017-10-10 21:25:13           2017-10-18 11:59:59   \n",
       "1           2018-08-07 15:27:45           2018-08-13 11:59:59   \n",
       "2           2018-08-17 18:06:29           2018-09-04 11:59:59   \n",
       "3           2017-12-02 00:28:42           2017-12-15 11:59:59   \n",
       "4           2018-02-16 18:17:02           2018-02-26 11:59:59   \n",
       "\n",
       "   customer_zip_code_prefix                        product_id  ...  \\\n",
       "0                      3149  87285b34884572647811a353c7ac498a  ...   \n",
       "1                     47813  595fac2a385ac33a80bd5114aec74eb8  ...   \n",
       "2                     75265  aa4383b373c6aca5d8797843e5594415  ...   \n",
       "3                     59296  d0b61bfb1de832b15ba9d266ca96e5b0  ...   \n",
       "4                      9195  65266b2da20d04dbe00c5c2d3bb7859e  ...   \n",
       "\n",
       "  order_item_id seller_zip_code_prefix  product_weight_g  product_length_cm  \\\n",
       "0             1                   9350             500.0               19.0   \n",
       "1             1                  31570             400.0               19.0   \n",
       "2             1                  14840             420.0               24.0   \n",
       "3             1                  31842             450.0               30.0   \n",
       "4             1                   8752             250.0               51.0   \n",
       "\n",
       "   product_height_cm  product_width_cm  product_vol_cm      dist_km  \\\n",
       "0                8.0              13.0          1976.0    18.063862   \n",
       "1               13.0              19.0          4693.0   856.293763   \n",
       "2               19.0              21.0          9576.0   514.131043   \n",
       "3               10.0              20.0          6000.0  1822.802884   \n",
       "4               15.0              15.0         11475.0    30.174079   \n",
       "\n",
       "   order_purchased_to_approved  order_approved_to_delivered_to_carrier  \n",
       "0                            0                                       2  \n",
       "1                            1                                       0  \n",
       "2                            0                                       0  \n",
       "3                            0                                       3  \n",
       "4                            0                                       0  \n",
       "\n",
       "[5 rows x 24 columns]"
      ]
     },
     "execution_count": 365,
     "metadata": {},
     "output_type": "execute_result"
    }
   ],
   "source": [
    "df.head()"
   ]
  },
  {
   "cell_type": "code",
   "execution_count": 367,
   "metadata": {},
   "outputs": [
    {
     "data": {
      "text/plain": [
       "Text(0, 0.5, 'Price')"
      ]
     },
     "execution_count": 367,
     "metadata": {},
     "output_type": "execute_result"
    },
    {
     "data": {
      "image/png": "[encoded data removed]",
      "text/plain": [
       "<Figure size 432x288 with 1 Axes>"
      ]
     },
     "metadata": {
      "needs_background": "light"
     },
     "output_type": "display_data"
    }
   ],
   "source": [
    "sns.scatterplot(df['product_width_cm'], df['price'], hue = df['is_late'], alpha = 0.4)\n",
    "\n",
    "plt.xlabel('Product width (cm)')\n",
    "plt.ylabel('Price')\n",
    "\n",
    "#plt.savefig('width_vs_price.png', bbox_inches = 'tight')"
   ]
  },
  {
   "cell_type": "markdown",
   "metadata": {},
   "source": [
    "# Modeling"
   ]
  },
  {
   "cell_type": "code",
   "execution_count": 159,
   "metadata": {},
   "outputs": [
    {
     "data": {
      "text/plain": [
       "price                                     float64\n",
       "freight_value                             float64\n",
       "order_item_id                               int64\n",
       "product_weight_g                          float64\n",
       "product_length_cm                         float64\n",
       "product_height_cm                         float64\n",
       "product_width_cm                          float64\n",
       "product_vol_cm                            float64\n",
       "dist_km                                   float64\n",
       "order_purchased_to_approved                 int64\n",
       "order_approved_to_delivered_to_carrier      int64\n",
       "dtype: object"
      ]
     },
     "execution_count": 159,
     "metadata": {},
     "output_type": "execute_result"
    }
   ],
   "source": [
    "df_y = df['is_late']\n",
    "df_x = df.drop(columns = ['order_delivered_customer_date','order_estimated_delivery_date',\n",
    "                          'customer_zip_code_prefix','seller_zip_code_prefix',\n",
    "                          'is_late','order_id','customer_id','product_id','seller_id',\n",
    "                          'order_purchase_timestamp','order_approved_at','shipping_limit_date',\n",
    "                          'order_delivered_carrier_date'])\n",
    "# Dropping all the non-numerical, date and y value from my x value of df\n",
    "# Also dropping zip code because the model will not interpret that number correctly, and I already have lat/long\n",
    "\n",
    "df_x.dtypes"
   ]
  },
  {
   "cell_type": "code",
   "execution_count": 160,
   "metadata": {},
   "outputs": [],
   "source": [
    "# Train/test split\n",
    "x_train, x_test, y_train, y_test = train_test_split(df_x, df_y,\n",
    "                                                    stratify = df_y,  # Include proportional y's in the splits\n",
    "                                                    random_state = 37)"
   ]
  },
  {
   "cell_type": "code",
   "execution_count": 166,
   "metadata": {},
   "outputs": [
    {
     "name": "stderr",
     "output_type": "stream",
     "text": [
      "/anaconda3/lib/python3.7/site-packages/sklearn/preprocessing/data.py:645: DataConversionWarning: Data with input dtype int64, float64 were all converted to float64 by StandardScaler.\n",
      "  return self.partial_fit(X, y)\n",
      "/anaconda3/lib/python3.7/site-packages/sklearn/base.py:464: DataConversionWarning: Data with input dtype int64, float64 were all converted to float64 by StandardScaler.\n",
      "  return self.fit(X, **fit_params).transform(X)\n",
      "/anaconda3/lib/python3.7/site-packages/ipykernel_launcher.py:5: DataConversionWarning: Data with input dtype int64, float64 were all converted to float64 by StandardScaler.\n",
      "  \"\"\"\n"
     ]
    }
   ],
   "source": [
    "# Scale my features so that everything is in z-scores\n",
    "scaler = StandardScaler()\n",
    "\n",
    "x_train_scaled = scaler.fit_transform(x_train)\n",
    "x_test_scaled = scaler.transform(x_test)"
   ]
  },
  {
   "cell_type": "markdown",
   "metadata": {},
   "source": [
    "## Oversampling"
   ]
  },
  {
   "cell_type": "code",
   "execution_count": 167,
   "metadata": {},
   "outputs": [],
   "source": [
    "# SMOTE\n",
    "x_train_smoted, y_train_smoted = SMOTE(random_state=37).fit_sample(x_train_scaled, y_train)"
   ]
  },
  {
   "cell_type": "code",
   "execution_count": 168,
   "metadata": {
    "scrolled": true
   },
   "outputs": [
    {
     "data": {
      "text/plain": [
       "Counter({False: 75866, True: 75866})"
      ]
     },
     "execution_count": 168,
     "metadata": {},
     "output_type": "execute_result"
    }
   ],
   "source": [
    "Counter(y_smoted)"
   ]
  },
  {
   "cell_type": "code",
   "execution_count": 318,
   "metadata": {},
   "outputs": [],
   "source": [
    "# Define a confusion matrix function so that I can graph confusion matrices for each of my models\n",
    "def confusion_matrix_graphic(prediction, real_y = y_test):\n",
    "    conf_matrix = metrics.confusion_matrix(real_y, prediction)\n",
    "    \n",
    "    plt.figure(dpi=110)\n",
    "    ax = sns.heatmap(conf_matrix, cmap=plt.cm.Blues, annot=True, square=True, fmt = 'g',\n",
    "               xticklabels=['Not late', 'Late'],\n",
    "               yticklabels=['Not late', 'Late'])\n",
    "    \n",
    "    cmlabels = ['True Negatives', 'False Positives',\n",
    "             'False Negatives', 'True Positives']\n",
    "    \n",
    "    for i,t in enumerate(ax.texts):                   # Labels each box of the confusion matrix individually\n",
    "        t.set_text(t.get_text() + \"\\n\" + cmlabels[i])\n",
    "    \n",
    "    plt.xlabel('Predicted lateness')\n",
    "    plt.ylabel('Actual lateness')\n",
    "    plt.title('Confusion matrix');\n",
    "    "
   ]
  },
  {
   "cell_type": "code",
   "execution_count": null,
   "metadata": {},
   "outputs": [],
   "source": [
    "cm = confusion_matrix(y_test,logistic_pred_test)\n",
    "plt.figure(figsize=(25,7))\n",
    "plt.subplot(131)\n",
    "ax = sns.heatmap(cm, annot=True, cmap='Blues', cbar=False,\n",
    "               annot_kws={\"size\": 20}, fmt='g')\n",
    "cmlabels = ['True Negatives', 'False Positives',\n",
    "             'False Negatives', 'True Positives']\n",
    "for i,t in enumerate(ax.texts):\n",
    "   t.set_text(t.get_text() + \"\\n\" + cmlabels[i])\n",
    "plt.title('Confusion Matrix - Logistic Regression', size=25)\n",
    "plt.xlabel('Predicted Campaign Outcome', size=20)\n",
    "plt.ylabel('Actual Campaign Outcome', size=20)\n",
    "labels = ['Fail', 'Success']\n",
    "ax.set_xticklabels(labels, size = 20)\n",
    "ax.set_yticklabels(labels, size = 20)\n",
    "plt.tight_layout()\n",
    "plt.savefig('Confusion_matrix_Logistic.png')\n",
    "plt.savefig('Confusion_matrix_Logistic.svg')\n",
    "plt.show()"
   ]
  },
  {
   "cell_type": "markdown",
   "metadata": {},
   "source": [
    "## Logistic Regression"
   ]
  },
  {
   "cell_type": "code",
   "execution_count": 170,
   "metadata": {},
   "outputs": [
    {
     "name": "stderr",
     "output_type": "stream",
     "text": [
      "/anaconda3/lib/python3.7/site-packages/sklearn/linear_model/logistic.py:433: FutureWarning: Default solver will be changed to 'lbfgs' in 0.22. Specify a solver to silence this warning.\n",
      "  FutureWarning)\n",
      "/anaconda3/lib/python3.7/site-packages/sklearn/linear_model/logistic.py:1300: UserWarning: 'n_jobs' > 1 does not have any effect when 'solver' is set to 'liblinear'. Got 'n_jobs' = 4.\n",
      "  \" = {}.\".format(effective_n_jobs(self.n_jobs)))\n"
     ]
    },
    {
     "name": "stdout",
     "output_type": "stream",
     "text": [
      "0.21221733346976362 0.4917022285443338 0.1353079331941545\n"
     ]
    }
   ],
   "source": [
    "# Fitting and predicting with my Logistic Regression\n",
    "logistic_model = LogisticRegression(random_state = 34, class_weight = 'balanced', n_jobs = -1)\n",
    "\n",
    "logistic_model.fit(x_train_scaled, y_train)\n",
    "logit_pred = logistic_model.predict(x_test_scaled)\n",
    "\n",
    "print(metrics.f1_score(y_test, logit_pred), metrics.recall_score(y_test, logit_pred),\n",
    "      metrics.precision_score(y_test, logit_pred))"
   ]
  },
  {
   "cell_type": "code",
   "execution_count": 314,
   "metadata": {},
   "outputs": [
    {
     "data": {
      "image/png": "[encoded data removed]",
      "text/plain": [
       "<Figure size 480x320 with 2 Axes>"
      ]
     },
     "metadata": {
      "needs_background": "light"
     },
     "output_type": "display_data"
    }
   ],
   "source": [
    "confusion_matrix_graphic(logit_pred)\n",
    "plt.savefig('logit_confusion.png', bbox_inches = 'tight')"
   ]
  },
  {
   "cell_type": "code",
   "execution_count": 172,
   "metadata": {},
   "outputs": [
    {
     "name": "stdout",
     "output_type": "stream",
     "text": [
      "              precision    recall  f1-score   support\n",
      "\n",
      "       False       0.94      0.73      0.83     24914\n",
      "        True       0.14      0.49      0.21      2109\n",
      "\n",
      "   micro avg       0.72      0.72      0.72     27023\n",
      "   macro avg       0.54      0.61      0.52     27023\n",
      "weighted avg       0.88      0.72      0.78     27023\n",
      "\n"
     ]
    }
   ],
   "source": [
    "print(classification_report(y_test, logit_pred))"
   ]
  },
  {
   "cell_type": "code",
   "execution_count": 173,
   "metadata": {},
   "outputs": [
    {
     "data": {
      "text/plain": [
       "[('price', 0.0026394998163000285),\n",
       " ('freight_value', 0.019627513288729633),\n",
       " ('order_item_id', -0.09234996670419095),\n",
       " ('product_weight_g', 0.028925117145455346),\n",
       " ('product_length_cm', 0.03523185441668526),\n",
       " ('product_height_cm', -0.024537080630069843),\n",
       " ('product_width_cm', -0.016427247825435087),\n",
       " ('product_vol_cm', -0.037726514340754434),\n",
       " ('dist_km', 0.2403403905709739),\n",
       " ('order_purchased_to_approved', 0.1238355905496773),\n",
       " ('order_approved_to_delivered_to_carrier', 0.5464924144297569)]"
      ]
     },
     "execution_count": 173,
     "metadata": {},
     "output_type": "execute_result"
    }
   ],
   "source": [
    "list(zip(x_train.columns, logistic_model.coef_[0]))"
   ]
  },
  {
   "cell_type": "markdown",
   "metadata": {},
   "source": [
    "These results give preliminary evidence that latitude and longitude or both customer and seller are the most important general features of whether a shipment will be late or not.\n",
    "\n",
    "Surprisingly, weight and volume and dimensions of the package seems to not matter much. What seems to matter a surprising amount is whether there was an additional item in the package (order_item_id). I decided to leave this metric in for possible insights like this - every additional package in an order decreases the likelihood of the package being delivered on time by 2.6%"
   ]
  },
  {
   "cell_type": "code",
   "execution_count": 174,
   "metadata": {},
   "outputs": [
    {
     "data": {
      "text/plain": [
       "[(0.54649241,\n",
       "  0.54649241,\n",
       "  0.15402177,\n",
       "  'order_approved_to_delivered_to_carrier'),\n",
       " (0.24034039, 0.24034039, 0.00040803, 'dist_km'),\n",
       " (0.12383559, 0.12383559, 0.17782641, 'order_purchased_to_approved'),\n",
       " (0.09234997, -0.09234997, -0.12984203, 'order_item_id'),\n",
       " (0.03772651, -0.03772651, -1.62e-06, 'product_vol_cm'),\n",
       " (0.03523185, 0.03523185, 0.00218558, 'product_length_cm'),\n",
       " (0.02892512, 0.02892512, 7.73e-06, 'product_weight_g'),\n",
       " (0.02453708, -0.02453708, -0.00182564, 'product_height_cm'),\n",
       " (0.01962751, 0.01962751, 0.00125162, 'freight_value'),\n",
       " (0.01642725, -0.01642725, -0.00141564, 'product_width_cm'),\n",
       " (0.0026395, 0.0026395, 1.438e-05, 'price')]"
      ]
     },
     "execution_count": 174,
     "metadata": {},
     "output_type": "execute_result"
    }
   ],
   "source": [
    "# This cell calculates the logistic model's coefficient values, and turns it into interpretation\n",
    "# Need to un-log these coefficients\n",
    "readjusted_coefs = np.round((logistic_model.coef_[0] / scaler.scale_),8)\n",
    "\n",
    "sorted(list(zip(abs(np.round(logistic_model.coef_[0], 8)),        # Abs val of the scaled coefficients\n",
    "                            np.round(logistic_model.coef_[0], 8), # Val of the scaled coefficients\n",
    "                            readjusted_coefs,                     # Unscaled val of coefficients (for interpretation)\n",
    "                            x_test.columns)), reverse = True)     # Column labels\n",
    "\n",
    "# I think all the below coefficients are in log-odds. They still need to be exponentiated and converted to p"
   ]
  },
  {
   "cell_type": "code",
   "execution_count": 175,
   "metadata": {},
   "outputs": [
    {
     "data": {
      "text/plain": [
       "1.0403820484769828"
      ]
     },
     "execution_count": 175,
     "metadata": {},
     "output_type": "execute_result"
    }
   ],
   "source": [
    "# Once I solve the shipping distance problem, I need to exponentiate to get the coefficients into log-odds.\n",
    "# Then once I have log-odds, convert to probability\n",
    "\n",
    "np.exp(0.039588)"
   ]
  },
  {
   "cell_type": "code",
   "execution_count": 176,
   "metadata": {},
   "outputs": [
    {
     "data": {
      "text/plain": [
       "1.0403738981754433"
      ]
     },
     "execution_count": 176,
     "metadata": {},
     "output_type": "execute_result"
    }
   ],
   "source": [
    "1.00039588**100"
   ]
  },
  {
   "cell_type": "code",
   "execution_count": 177,
   "metadata": {},
   "outputs": [
    {
     "data": {
      "text/plain": [
       "596.4359735606896"
      ]
     },
     "execution_count": 177,
     "metadata": {},
     "output_type": "execute_result"
    }
   ],
   "source": [
    "df['dist_km'].mean()\n",
    "\n",
    "# dist_km exponent is 0.00039588"
   ]
  },
  {
   "cell_type": "markdown",
   "metadata": {},
   "source": [
    "**We see below that late deliveries are, on average, ~27% farther away than deliveries that are on time**"
   ]
  },
  {
   "cell_type": "code",
   "execution_count": 178,
   "metadata": {},
   "outputs": [
    {
     "name": "stdout",
     "output_type": "stream",
     "text": [
      "739.8094858099133 584.2976731959608\n",
      "0.2671115674195757\n"
     ]
    }
   ],
   "source": [
    "# We see that late deliveries are, on average, ~27% farther away than deliveries that are on time\n",
    "print(df.loc[df['is_late'] == True, 'dist_km'].mean(), df.loc[df['is_late'] == False, 'dist_km'].mean())\n",
    "\n",
    "print((740.5 - 584.4) / 584.4)"
   ]
  },
  {
   "cell_type": "markdown",
   "metadata": {},
   "source": [
    "**I may want to include in my presentation that in my old model, I calculated the change in odds by 1 km on the margin. But I cannot extrapolate that to 1 * 100. Instead I need to recalculate my model based on every 100 km. My log-odd coefficients will be exactly 100x the old coefficients, but when I *exponentiate* that, the amount is sliiiiightly different. This is the change in probability that is compounded from 1 to 100, very similarly to compound interest.**\n",
    "\n",
    "For example, if I had 12% interest compounded yearly, compared to 1% interest compounded monthly, 1% would be more. But a slightly smaller percentage (0.97% for instance) would be equal. My old 1 km calculation was the old, smaller percentage, and the 100 km calculation was the bigger, 12% calculation"
   ]
  },
  {
   "cell_type": "markdown",
   "metadata": {},
   "source": [
    "## K-Nearest Neighbors"
   ]
  },
  {
   "cell_type": "code",
   "execution_count": 347,
   "metadata": {},
   "outputs": [
    {
     "data": {
      "text/plain": [
       "GridSearchCV(cv=2, error_score='raise-deprecating',\n",
       "       estimator=KNeighborsClassifier(algorithm='auto', leaf_size=30, metric='minkowski',\n",
       "           metric_params=None, n_jobs=-1, n_neighbors=5, p=2,\n",
       "           weights='uniform'),\n",
       "       fit_params=None, iid='warn', n_jobs=None,\n",
       "       param_grid={'n_neighbors': [1, 2, 3, 4, 5, 6, 7, 8, 9]},\n",
       "       pre_dispatch='2*n_jobs', refit=True, return_train_score='warn',\n",
       "       scoring='roc_auc', verbose=0)"
      ]
     },
     "execution_count": 347,
     "metadata": {},
     "output_type": "execute_result"
    }
   ],
   "source": [
    "knn = KNeighborsClassifier(n_jobs = -1)\n",
    "\n",
    "param_grid = {'n_neighbors': [i for i in range(1,10)]} # Gridsearching through squared values to find ideal KNN\n",
    "knn_smote_best = GridSearchCV(knn, param_grid, cv = 2, scoring = 'roc_auc')\n",
    "\n",
    "knn_smote_best.fit(x_train_smoted, y_train_smoted)"
   ]
  },
  {
   "cell_type": "code",
   "execution_count": 180,
   "metadata": {},
   "outputs": [
    {
     "name": "stdout",
     "output_type": "stream",
     "text": [
      "{'n_neighbors': 5} 0.9203201533814052 KNeighborsClassifier(algorithm='auto', leaf_size=30, metric='minkowski',\n",
      "           metric_params=None, n_jobs=-1, n_neighbors=5, p=2,\n",
      "           weights='uniform')\n"
     ]
    }
   ],
   "source": [
    "print(knn_smote_best.best_params_, knn_smote_best.best_score_, knn_smote_best.best_estimator_)"
   ]
  },
  {
   "cell_type": "code",
   "execution_count": 315,
   "metadata": {},
   "outputs": [
    {
     "data": {
      "image/png": "[encoded data removed]",
      "text/plain": [
       "<Figure size 480x320 with 2 Axes>"
      ]
     },
     "metadata": {
      "needs_background": "light"
     },
     "output_type": "display_data"
    }
   ],
   "source": [
    "# Run the prediction and confusion matrix function that I defined\n",
    "knn_smote_pred = knn_smote_best.best_estimator_.predict(x_test_scaled) # Take the best KNN that was found above\n",
    "\n",
    "confusion_matrix_graphic(knn_smote_pred)\n",
    "plt.savefig('knn_confusion_matrix.png', bbox_inches = 'tight')"
   ]
  },
  {
   "cell_type": "markdown",
   "metadata": {},
   "source": [
    "SMOTE is better than ADASYN in my tests. I will delete ADASYN and use SMOTE from now on rather than ADASYN"
   ]
  },
  {
   "cell_type": "markdown",
   "metadata": {},
   "source": [
    "## Random Forest"
   ]
  },
  {
   "cell_type": "code",
   "execution_count": 240,
   "metadata": {
    "scrolled": true
   },
   "outputs": [
    {
     "name": "stdout",
     "output_type": "stream",
     "text": [
      "Fitting 2 folds for each of 45 candidates, totalling 90 fits\n",
      "[CV] max_depth=9, n_estimators=1 .....................................\n"
     ]
    },
    {
     "name": "stderr",
     "output_type": "stream",
     "text": [
      "[Parallel(n_jobs=1)]: Using backend SequentialBackend with 1 concurrent workers.\n"
     ]
    },
    {
     "name": "stdout",
     "output_type": "stream",
     "text": [
      "[CV]  max_depth=9, n_estimators=1, score=0.2835122488301679, total=   3.6s\n",
      "[CV] max_depth=9, n_estimators=1 .....................................\n"
     ]
    },
    {
     "name": "stderr",
     "output_type": "stream",
     "text": [
      "[Parallel(n_jobs=1)]: Done   1 out of   1 | elapsed:    3.7s remaining:    0.0s\n"
     ]
    },
    {
     "name": "stdout",
     "output_type": "stream",
     "text": [
      "[CV]  max_depth=9, n_estimators=1, score=0.3165236051502146, total=   0.6s\n",
      "[CV] max_depth=9, n_estimators=4 .....................................\n"
     ]
    },
    {
     "name": "stderr",
     "output_type": "stream",
     "text": [
      "[Parallel(n_jobs=1)]: Done   2 out of   2 | elapsed:    4.3s remaining:    0.0s\n"
     ]
    },
    {
     "name": "stdout",
     "output_type": "stream",
     "text": [
      "[CV]  max_depth=9, n_estimators=4, score=0.3153410443143415, total=   0.8s\n",
      "[CV] max_depth=9, n_estimators=4 .....................................\n"
     ]
    },
    {
     "name": "stderr",
     "output_type": "stream",
     "text": [
      "[Parallel(n_jobs=1)]: Done   3 out of   3 | elapsed:    5.2s remaining:    0.0s\n"
     ]
    },
    {
     "name": "stdout",
     "output_type": "stream",
     "text": [
      "[CV]  max_depth=9, n_estimators=4, score=0.3192275709137947, total=   0.2s\n",
      "[CV] max_depth=9, n_estimators=9 .....................................\n"
     ]
    },
    {
     "name": "stderr",
     "output_type": "stream",
     "text": [
      "[Parallel(n_jobs=1)]: Done   4 out of   4 | elapsed:    5.6s remaining:    0.0s\n"
     ]
    },
    {
     "name": "stdout",
     "output_type": "stream",
     "text": [
      "[CV]  max_depth=9, n_estimators=9, score=0.32705718270571826, total=   0.3s\n",
      "[CV] max_depth=9, n_estimators=9 .....................................\n"
     ]
    },
    {
     "name": "stderr",
     "output_type": "stream",
     "text": [
      "[Parallel(n_jobs=1)]: Done   5 out of   5 | elapsed:    6.0s remaining:    0.0s\n"
     ]
    },
    {
     "name": "stdout",
     "output_type": "stream",
     "text": [
      "[CV]  max_depth=9, n_estimators=9, score=0.32876009146483737, total=   0.3s\n",
      "[CV] max_depth=9, n_estimators=16 ....................................\n"
     ]
    },
    {
     "name": "stderr",
     "output_type": "stream",
     "text": [
      "[Parallel(n_jobs=1)]: Done   6 out of   6 | elapsed:    6.5s remaining:    0.0s\n"
     ]
    },
    {
     "name": "stdout",
     "output_type": "stream",
     "text": [
      "[CV]  max_depth=9, n_estimators=16, score=0.3285707527085206, total=   0.5s\n",
      "[CV] max_depth=9, n_estimators=16 ....................................\n"
     ]
    },
    {
     "name": "stderr",
     "output_type": "stream",
     "text": [
      "[Parallel(n_jobs=1)]: Done   7 out of   7 | elapsed:    7.1s remaining:    0.0s\n"
     ]
    },
    {
     "name": "stdout",
     "output_type": "stream",
     "text": [
      "[CV]  max_depth=9, n_estimators=16, score=0.32900965726188225, total=   0.5s\n",
      "[CV] max_depth=9, n_estimators=25 ....................................\n"
     ]
    },
    {
     "name": "stderr",
     "output_type": "stream",
     "text": [
      "[Parallel(n_jobs=1)]: Done   8 out of   8 | elapsed:    7.7s remaining:    0.0s\n"
     ]
    },
    {
     "name": "stdout",
     "output_type": "stream",
     "text": [
      "[CV]  max_depth=9, n_estimators=25, score=0.3284671532846716, total=   0.6s\n",
      "[CV] max_depth=9, n_estimators=25 ....................................\n"
     ]
    },
    {
     "name": "stderr",
     "output_type": "stream",
     "text": [
      "[Parallel(n_jobs=1)]: Done   9 out of   9 | elapsed:    8.4s remaining:    0.0s\n"
     ]
    },
    {
     "name": "stdout",
     "output_type": "stream",
     "text": [
      "[CV]  max_depth=9, n_estimators=25, score=0.3288117720366199, total=   0.6s\n",
      "[CV] max_depth=9, n_estimators=36 ....................................\n"
     ]
    },
    {
     "name": "stderr",
     "output_type": "stream",
     "text": [
      "[Parallel(n_jobs=1)]: Done  10 out of  10 | elapsed:    9.2s remaining:    0.0s\n"
     ]
    },
    {
     "name": "stdout",
     "output_type": "stream",
     "text": [
      "[CV]  max_depth=9, n_estimators=36, score=0.3302183702125599, total=   0.8s\n",
      "[CV] max_depth=9, n_estimators=36 ....................................\n"
     ]
    },
    {
     "name": "stderr",
     "output_type": "stream",
     "text": [
      "[Parallel(n_jobs=1)]: Done  11 out of  11 | elapsed:   10.1s remaining:    0.0s\n"
     ]
    },
    {
     "name": "stdout",
     "output_type": "stream",
     "text": [
      "[CV]  max_depth=9, n_estimators=36, score=0.32437241511974607, total=   0.8s\n",
      "[CV] max_depth=9, n_estimators=49 ....................................\n"
     ]
    },
    {
     "name": "stderr",
     "output_type": "stream",
     "text": [
      "[Parallel(n_jobs=1)]: Done  12 out of  12 | elapsed:   11.0s remaining:    0.0s\n"
     ]
    },
    {
     "name": "stdout",
     "output_type": "stream",
     "text": [
      "[CV]  max_depth=9, n_estimators=49, score=0.33285163776493254, total=   1.0s\n",
      "[CV] max_depth=9, n_estimators=49 ....................................\n"
     ]
    },
    {
     "name": "stderr",
     "output_type": "stream",
     "text": [
      "[Parallel(n_jobs=1)]: Done  13 out of  13 | elapsed:   12.1s remaining:    0.0s\n"
     ]
    },
    {
     "name": "stdout",
     "output_type": "stream",
     "text": [
      "[CV]  max_depth=9, n_estimators=49, score=0.32950670061001974, total=   1.0s\n",
      "[CV] max_depth=9, n_estimators=64 ....................................\n"
     ]
    },
    {
     "name": "stderr",
     "output_type": "stream",
     "text": [
      "[Parallel(n_jobs=1)]: Done  14 out of  14 | elapsed:   13.2s remaining:    0.0s\n"
     ]
    },
    {
     "name": "stdout",
     "output_type": "stream",
     "text": [
      "[CV]  max_depth=9, n_estimators=64, score=0.33215342093778794, total=   1.2s\n",
      "[CV] max_depth=9, n_estimators=64 ....................................\n"
     ]
    },
    {
     "name": "stderr",
     "output_type": "stream",
     "text": [
      "[Parallel(n_jobs=1)]: Done  15 out of  15 | elapsed:   14.6s remaining:    0.0s\n"
     ]
    },
    {
     "name": "stdout",
     "output_type": "stream",
     "text": [
      "[CV]  max_depth=9, n_estimators=64, score=0.32730613034229356, total=   1.2s\n",
      "[CV] max_depth=9, n_estimators=81 ....................................\n"
     ]
    },
    {
     "name": "stderr",
     "output_type": "stream",
     "text": [
      "[Parallel(n_jobs=1)]: Done  16 out of  16 | elapsed:   16.0s remaining:    0.0s\n"
     ]
    },
    {
     "name": "stdout",
     "output_type": "stream",
     "text": [
      "[CV]  max_depth=9, n_estimators=81, score=0.33057250799186283, total=   1.6s\n",
      "[CV] max_depth=9, n_estimators=81 ....................................\n"
     ]
    },
    {
     "name": "stderr",
     "output_type": "stream",
     "text": [
      "[Parallel(n_jobs=1)]: Done  17 out of  17 | elapsed:   17.8s remaining:    0.0s\n"
     ]
    },
    {
     "name": "stdout",
     "output_type": "stream",
     "text": [
      "[CV]  max_depth=9, n_estimators=81, score=0.32841435185185186, total=   1.6s\n",
      "[CV] max_depth=16, n_estimators=1 ....................................\n",
      "[CV]  max_depth=16, n_estimators=1, score=0.24946303919813853, total=   0.1s\n",
      "[CV] max_depth=16, n_estimators=1 ....................................\n"
     ]
    },
    {
     "name": "stderr",
     "output_type": "stream",
     "text": [
      "[Parallel(n_jobs=1)]: Done  18 out of  18 | elapsed:   19.6s remaining:    0.0s\n",
      "[Parallel(n_jobs=1)]: Done  19 out of  19 | elapsed:   19.7s remaining:    0.0s\n"
     ]
    },
    {
     "name": "stdout",
     "output_type": "stream",
     "text": [
      "[CV]  max_depth=16, n_estimators=1, score=0.27424197572630776, total=   0.1s\n",
      "[CV] max_depth=16, n_estimators=4 ....................................\n"
     ]
    },
    {
     "name": "stderr",
     "output_type": "stream",
     "text": [
      "[Parallel(n_jobs=1)]: Done  20 out of  20 | elapsed:   19.8s remaining:    0.0s\n"
     ]
    },
    {
     "name": "stdout",
     "output_type": "stream",
     "text": [
      "[CV]  max_depth=16, n_estimators=4, score=0.20001242313187156, total=   0.3s\n",
      "[CV] max_depth=16, n_estimators=4 ....................................\n"
     ]
    },
    {
     "name": "stderr",
     "output_type": "stream",
     "text": [
      "[Parallel(n_jobs=1)]: Done  21 out of  21 | elapsed:   20.2s remaining:    0.0s\n"
     ]
    },
    {
     "name": "stdout",
     "output_type": "stream",
     "text": [
      "[CV]  max_depth=16, n_estimators=4, score=0.21426839616923266, total=   0.3s\n",
      "[CV] max_depth=16, n_estimators=9 ....................................\n"
     ]
    },
    {
     "name": "stderr",
     "output_type": "stream",
     "text": [
      "[Parallel(n_jobs=1)]: Done  22 out of  22 | elapsed:   20.6s remaining:    0.0s\n"
     ]
    },
    {
     "name": "stdout",
     "output_type": "stream",
     "text": [
      "[CV]  max_depth=16, n_estimators=9, score=0.2070592927412922, total=   0.4s\n",
      "[CV] max_depth=16, n_estimators=9 ....................................\n"
     ]
    },
    {
     "name": "stderr",
     "output_type": "stream",
     "text": [
      "[Parallel(n_jobs=1)]: Done  23 out of  23 | elapsed:   21.2s remaining:    0.0s\n"
     ]
    },
    {
     "name": "stdout",
     "output_type": "stream",
     "text": [
      "[CV]  max_depth=16, n_estimators=9, score=0.2034043112513144, total=   0.5s\n",
      "[CV] max_depth=16, n_estimators=16 ...................................\n"
     ]
    },
    {
     "name": "stderr",
     "output_type": "stream",
     "text": [
      "[Parallel(n_jobs=1)]: Done  24 out of  24 | elapsed:   21.8s remaining:    0.0s\n"
     ]
    },
    {
     "name": "stdout",
     "output_type": "stream",
     "text": [
      "[CV]  max_depth=16, n_estimators=16, score=0.1929812512876863, total=   0.6s\n",
      "[CV] max_depth=16, n_estimators=16 ...................................\n"
     ]
    },
    {
     "name": "stderr",
     "output_type": "stream",
     "text": [
      "[Parallel(n_jobs=1)]: Done  25 out of  25 | elapsed:   22.5s remaining:    0.0s\n"
     ]
    },
    {
     "name": "stdout",
     "output_type": "stream",
     "text": [
      "[CV]  max_depth=16, n_estimators=16, score=0.1926618018140899, total=   0.6s\n",
      "[CV] max_depth=16, n_estimators=25 ...................................\n"
     ]
    },
    {
     "name": "stderr",
     "output_type": "stream",
     "text": [
      "[Parallel(n_jobs=1)]: Done  26 out of  26 | elapsed:   23.2s remaining:    0.0s\n"
     ]
    },
    {
     "name": "stdout",
     "output_type": "stream",
     "text": [
      "[CV]  max_depth=16, n_estimators=25, score=0.18618513323983168, total=   0.8s\n",
      "[CV] max_depth=16, n_estimators=25 ...................................\n"
     ]
    },
    {
     "name": "stderr",
     "output_type": "stream",
     "text": [
      "[Parallel(n_jobs=1)]: Done  27 out of  27 | elapsed:   24.2s remaining:    0.0s\n"
     ]
    },
    {
     "name": "stdout",
     "output_type": "stream",
     "text": [
      "[CV]  max_depth=16, n_estimators=25, score=0.1940329647402462, total=   0.8s\n",
      "[CV] max_depth=16, n_estimators=36 ...................................\n"
     ]
    },
    {
     "name": "stderr",
     "output_type": "stream",
     "text": [
      "[Parallel(n_jobs=1)]: Done  28 out of  28 | elapsed:   25.1s remaining:    0.0s\n"
     ]
    },
    {
     "name": "stdout",
     "output_type": "stream",
     "text": [
      "[CV]  max_depth=16, n_estimators=36, score=0.1811157581342596, total=   1.1s\n",
      "[CV] max_depth=16, n_estimators=36 ...................................\n"
     ]
    },
    {
     "name": "stderr",
     "output_type": "stream",
     "text": [
      "[Parallel(n_jobs=1)]: Done  29 out of  29 | elapsed:   26.3s remaining:    0.0s\n"
     ]
    },
    {
     "name": "stdout",
     "output_type": "stream",
     "text": [
      "[CV]  max_depth=16, n_estimators=36, score=0.19012345679012344, total=   1.1s\n",
      "[CV] max_depth=16, n_estimators=49 ...................................\n",
      "[CV]  max_depth=16, n_estimators=49, score=0.18754874849322842, total=   1.5s\n",
      "[CV] max_depth=16, n_estimators=49 ...................................\n",
      "[CV]  max_depth=16, n_estimators=49, score=0.19018274543136418, total=   1.5s\n",
      "[CV] max_depth=16, n_estimators=64 ...................................\n",
      "[CV]  max_depth=16, n_estimators=64, score=0.18705547652916074, total=   1.9s\n",
      "[CV] max_depth=16, n_estimators=64 ...................................\n",
      "[CV]  max_depth=16, n_estimators=64, score=0.18730046115643845, total=   1.9s\n",
      "[CV] max_depth=16, n_estimators=81 ...................................\n",
      "[CV]  max_depth=16, n_estimators=81, score=0.18687589158345222, total=   2.3s\n",
      "[CV] max_depth=16, n_estimators=81 ...................................\n",
      "[CV]  max_depth=16, n_estimators=81, score=0.18644548419112433, total=   2.3s\n",
      "[CV] max_depth=25, n_estimators=1 ....................................\n",
      "[CV]  max_depth=25, n_estimators=1, score=0.19328282526993976, total=   0.2s\n",
      "[CV] max_depth=25, n_estimators=1 ....................................\n",
      "[CV]  max_depth=25, n_estimators=1, score=0.21687015665941906, total=   0.1s\n",
      "[CV] max_depth=25, n_estimators=4 ....................................\n",
      "[CV]  max_depth=25, n_estimators=4, score=0.09550353028613899, total=   0.3s\n",
      "[CV] max_depth=25, n_estimators=4 ....................................\n",
      "[CV]  max_depth=25, n_estimators=4, score=0.11435126933609652, total=   0.3s\n",
      "[CV] max_depth=25, n_estimators=9 ....................................\n",
      "[CV]  max_depth=25, n_estimators=9, score=0.12409629574420511, total=   0.5s\n",
      "[CV] max_depth=25, n_estimators=9 ....................................\n",
      "[CV]  max_depth=25, n_estimators=9, score=0.13830181683351872, total=   0.5s\n",
      "[CV] max_depth=25, n_estimators=16 ...................................\n",
      "[CV]  max_depth=25, n_estimators=16, score=0.11398061193577703, total=   0.8s\n",
      "[CV] max_depth=25, n_estimators=16 ...................................\n",
      "[CV]  max_depth=25, n_estimators=16, score=0.1183007030009827, total=   0.7s\n",
      "[CV] max_depth=25, n_estimators=25 ...................................\n",
      "[CV]  max_depth=25, n_estimators=25, score=0.12038158691702, total=   0.9s\n",
      "[CV] max_depth=25, n_estimators=25 ...................................\n",
      "[CV]  max_depth=25, n_estimators=25, score=0.1273235605259181, total=   0.9s\n",
      "[CV] max_depth=25, n_estimators=36 ...................................\n",
      "[CV]  max_depth=25, n_estimators=36, score=0.1118636329046496, total=   1.3s\n",
      "[CV] max_depth=25, n_estimators=36 ...................................\n",
      "[CV]  max_depth=25, n_estimators=36, score=0.12178465740951513, total=   1.2s\n",
      "[CV] max_depth=25, n_estimators=49 ...................................\n",
      "[CV]  max_depth=25, n_estimators=49, score=0.11264175355810946, total=   1.7s\n",
      "[CV] max_depth=25, n_estimators=49 ...................................\n",
      "[CV]  max_depth=25, n_estimators=49, score=0.12296015180265653, total=   1.7s\n",
      "[CV] max_depth=25, n_estimators=64 ...................................\n",
      "[CV]  max_depth=25, n_estimators=64, score=0.1101455903651193, total=   2.1s\n",
      "[CV] max_depth=25, n_estimators=64 ...................................\n",
      "[CV]  max_depth=25, n_estimators=64, score=0.11341147815497032, total=   2.1s\n",
      "[CV] max_depth=25, n_estimators=81 ...................................\n",
      "[CV]  max_depth=25, n_estimators=81, score=0.11424219345011422, total=   2.7s\n",
      "[CV] max_depth=25, n_estimators=81 ...................................\n",
      "[CV]  max_depth=25, n_estimators=81, score=0.12042242820240086, total=   2.8s\n",
      "[CV] max_depth=36, n_estimators=1 ....................................\n",
      "[CV]  max_depth=36, n_estimators=1, score=0.1841269841269841, total=   0.1s\n",
      "[CV] max_depth=36, n_estimators=1 ....................................\n",
      "[CV]  max_depth=36, n_estimators=1, score=0.19084688304350556, total=   0.2s\n",
      "[CV] max_depth=36, n_estimators=4 ....................................\n",
      "[CV]  max_depth=36, n_estimators=4, score=0.09522003034901365, total=   0.3s\n",
      "[CV] max_depth=36, n_estimators=4 ....................................\n",
      "[CV]  max_depth=36, n_estimators=4, score=0.08639062262140355, total=   0.3s\n",
      "[CV] max_depth=36, n_estimators=9 ....................................\n",
      "[CV]  max_depth=36, n_estimators=9, score=0.1350946785420253, total=   0.5s\n",
      "[CV] max_depth=36, n_estimators=9 ....................................\n",
      "[CV]  max_depth=36, n_estimators=9, score=0.12507534659433392, total=   0.5s\n",
      "[CV] max_depth=36, n_estimators=16 ...................................\n",
      "[CV]  max_depth=36, n_estimators=16, score=0.11047619047619045, total=   0.7s\n",
      "[CV] max_depth=36, n_estimators=16 ...................................\n",
      "[CV]  max_depth=36, n_estimators=16, score=0.10467603911980441, total=   0.7s\n",
      "[CV] max_depth=36, n_estimators=25 ...................................\n",
      "[CV]  max_depth=36, n_estimators=25, score=0.11336833295290269, total=   0.9s\n",
      "[CV] max_depth=36, n_estimators=25 ...................................\n",
      "[CV]  max_depth=36, n_estimators=25, score=0.12207179799209006, total=   1.0s\n",
      "[CV] max_depth=36, n_estimators=36 ...................................\n",
      "[CV]  max_depth=36, n_estimators=36, score=0.10845489956465289, total=   1.3s\n",
      "[CV] max_depth=36, n_estimators=36 ...................................\n",
      "[CV]  max_depth=36, n_estimators=36, score=0.11189185060719468, total=   1.3s\n",
      "[CV] max_depth=36, n_estimators=49 ...................................\n",
      "[CV]  max_depth=36, n_estimators=49, score=0.11058572300183037, total=   1.8s\n",
      "[CV] max_depth=36, n_estimators=49 ...................................\n",
      "[CV]  max_depth=36, n_estimators=49, score=0.11673151750972764, total=   1.8s\n",
      "[CV] max_depth=36, n_estimators=64 ...................................\n",
      "[CV]  max_depth=36, n_estimators=64, score=0.10475607891114849, total=   2.3s\n",
      "[CV] max_depth=36, n_estimators=64 ...................................\n",
      "[CV]  max_depth=36, n_estimators=64, score=0.10629349239122123, total=   2.5s\n",
      "[CV] max_depth=36, n_estimators=81 ...................................\n",
      "[CV]  max_depth=36, n_estimators=81, score=0.10994884324654501, total=   3.2s\n",
      "[CV] max_depth=36, n_estimators=81 ...................................\n",
      "[CV]  max_depth=36, n_estimators=81, score=0.11338474459799953, total=   3.0s\n",
      "[CV] max_depth=49, n_estimators=1 ....................................\n",
      "[CV]  max_depth=49, n_estimators=1, score=0.1820496499045194, total=   0.1s\n",
      "[CV] max_depth=49, n_estimators=1 ....................................\n",
      "[CV]  max_depth=49, n_estimators=1, score=0.18885350318471336, total=   0.1s\n",
      "[CV] max_depth=49, n_estimators=4 ....................................\n",
      "[CV]  max_depth=49, n_estimators=4, score=0.09969673995451099, total=   0.3s\n",
      "[CV] max_depth=49, n_estimators=4 ....................................\n",
      "[CV]  max_depth=49, n_estimators=4, score=0.09088143585063505, total=   0.3s\n",
      "[CV] max_depth=49, n_estimators=9 ....................................\n",
      "[CV]  max_depth=49, n_estimators=9, score=0.1354993262464441, total=   0.5s\n",
      "[CV] max_depth=49, n_estimators=9 ....................................\n",
      "[CV]  max_depth=49, n_estimators=9, score=0.12320096450907994, total=   0.5s\n",
      "[CV] max_depth=49, n_estimators=16 ...................................\n",
      "[CV]  max_depth=49, n_estimators=16, score=0.10886943281309479, total=   0.7s\n",
      "[CV] max_depth=49, n_estimators=16 ...................................\n",
      "[CV]  max_depth=49, n_estimators=16, score=0.10408694321138835, total=   0.7s\n",
      "[CV] max_depth=49, n_estimators=25 ...................................\n",
      "[CV]  max_depth=49, n_estimators=25, score=0.11337695936691522, total=   1.0s\n",
      "[CV] max_depth=49, n_estimators=25 ...................................\n",
      "[CV]  max_depth=49, n_estimators=25, score=0.11653591286465079, total=   1.0s\n",
      "[CV] max_depth=49, n_estimators=36 ...................................\n",
      "[CV]  max_depth=49, n_estimators=36, score=0.10446961579672433, total=   1.3s\n",
      "[CV] max_depth=49, n_estimators=36 ...................................\n",
      "[CV]  max_depth=49, n_estimators=36, score=0.11451255821055042, total=   1.3s\n",
      "[CV] max_depth=49, n_estimators=49 ...................................\n",
      "[CV]  max_depth=49, n_estimators=49, score=0.10995723885155773, total=   1.8s\n",
      "[CV] max_depth=49, n_estimators=49 ...................................\n"
     ]
    },
    {
     "name": "stdout",
     "output_type": "stream",
     "text": [
      "[CV]  max_depth=49, n_estimators=49, score=0.11555182671039585, total=   1.9s\n",
      "[CV] max_depth=49, n_estimators=64 ...................................\n",
      "[CV]  max_depth=49, n_estimators=64, score=0.106651376146789, total=   2.4s\n",
      "[CV] max_depth=49, n_estimators=64 ...................................\n",
      "[CV]  max_depth=49, n_estimators=64, score=0.11120452461021094, total=   2.3s\n",
      "[CV] max_depth=49, n_estimators=81 ...................................\n",
      "[CV]  max_depth=49, n_estimators=81, score=0.10850462290822957, total=   3.0s\n",
      "[CV] max_depth=49, n_estimators=81 ...................................\n",
      "[CV]  max_depth=49, n_estimators=81, score=0.11603939232002443, total=   3.0s\n"
     ]
    },
    {
     "name": "stderr",
     "output_type": "stream",
     "text": [
      "[Parallel(n_jobs=1)]: Done  90 out of  90 | elapsed:  1.9min finished\n"
     ]
    },
    {
     "data": {
      "text/plain": [
       "GridSearchCV(cv=2, error_score='raise-deprecating',\n",
       "       estimator=RandomForestClassifier(bootstrap=True, class_weight='balanced',\n",
       "            criterion='gini', max_depth=None, max_features='auto',\n",
       "            max_leaf_nodes=None, min_impurity_decrease=0.0,\n",
       "            min_impurity_split=None, min_samples_leaf=1,\n",
       "            min_samples_split=2, min_weight_fraction_leaf=0.0,\n",
       "            n_estimators='warn', n_jobs=-1, oob_score=False,\n",
       "            random_state=37, verbose=0, warm_start=False),\n",
       "       fit_params=None, iid='warn', n_jobs=None,\n",
       "       param_grid={'n_estimators': [1, 4, 9, 16, 25, 36, 49, 64, 81], 'max_depth': [9, 16, 25, 36, 49]},\n",
       "       pre_dispatch='2*n_jobs', refit=True, return_train_score='warn',\n",
       "       scoring=make_scorer(fbeta_score, beta=2), verbose=30)"
      ]
     },
     "execution_count": 240,
     "metadata": {},
     "output_type": "execute_result"
    }
   ],
   "source": [
    "# Running the GridSearch to find roughly the best model for my Random Forest\n",
    "custom_score = make_scorer(fbeta_score, beta = 2)\n",
    "\n",
    "rf = RandomForestClassifier(n_jobs = -1, random_state = 37, class_weight = 'balanced')\n",
    "\n",
    "\n",
    "param_grid = {'n_estimators' : [i ** 2 for i in range(1,10)],\n",
    "              'max_depth' : [i ** 2 for i in range (3,8)]}\n",
    "\n",
    "rf_best = GridSearchCV(rf, param_grid, cv = 2, scoring = 'roc_auc', verbose = 30)\n",
    "\n",
    "rf_best.fit(x_train, y_train)"
   ]
  },
  {
   "cell_type": "code",
   "execution_count": 187,
   "metadata": {},
   "outputs": [
    {
     "name": "stdout",
     "output_type": "stream",
     "text": [
      "{'max_depth': 36, 'n_estimators': 81} 0.6981970677185401 RandomForestClassifier(bootstrap=True, class_weight='balanced',\n",
      "            criterion='gini', max_depth=36, max_features='auto',\n",
      "            max_leaf_nodes=None, min_impurity_decrease=0.0,\n",
      "            min_impurity_split=None, min_samples_leaf=1,\n",
      "            min_samples_split=2, min_weight_fraction_leaf=0.0,\n",
      "            n_estimators=81, n_jobs=-1, oob_score=False, random_state=37,\n",
      "            verbose=0, warm_start=False)\n"
     ]
    }
   ],
   "source": [
    "print(rf_best.best_params_, rf_best.best_score_, rf_best.best_estimator_)"
   ]
  },
  {
   "cell_type": "code",
   "execution_count": 319,
   "metadata": {
    "scrolled": true
   },
   "outputs": [
    {
     "data": {
      "image/png": "[encoded data removed]",
      "text/plain": [
       "<Figure size 660x440 with 2 Axes>"
      ]
     },
     "metadata": {
      "needs_background": "light"
     },
     "output_type": "display_data"
    }
   ],
   "source": [
    "# Applying the way to split the threshold of 0.1 (best threshold from above), into positive and negative guesses\n",
    "y_pred = pd.Series(y_probs).apply(lambda x: 0 if x < 0.1 else 1)\n",
    "\n",
    "confusion_matrix_graphic(y_pred)\n",
    "plt.savefig('rf_confusion_matrix.png', bbox_inches = 'tight')"
   ]
  },
  {
   "cell_type": "code",
   "execution_count": 312,
   "metadata": {},
   "outputs": [
    {
     "data": {
      "text/plain": [
       "0.19442883519306414"
      ]
     },
     "execution_count": 312,
     "metadata": {},
     "output_type": "execute_result"
    }
   ],
   "source": [
    "4844 / (4844 + 20070)"
   ]
  },
  {
   "cell_type": "code",
   "execution_count": 251,
   "metadata": {},
   "outputs": [
    {
     "data": {
      "text/plain": [
       "120.12432381687115"
      ]
     },
     "execution_count": 251,
     "metadata": {},
     "output_type": "execute_result"
    }
   ],
   "source": [
    "df['price'].mean() # Average cost of a product in Brazilian Real"
   ]
  },
  {
   "cell_type": "code",
   "execution_count": 333,
   "metadata": {},
   "outputs": [
    {
     "data": {
      "text/html": [
       "<div>\n",
       "<style scoped>\n",
       "    .dataframe tbody tr th:only-of-type {\n",
       "        vertical-align: middle;\n",
       "    }\n",
       "\n",
       "    .dataframe tbody tr th {\n",
       "        vertical-align: top;\n",
       "    }\n",
       "\n",
       "    .dataframe thead th {\n",
       "        text-align: right;\n",
       "    }\n",
       "</style>\n",
       "<table border=\"1\" class=\"dataframe\">\n",
       "  <thead>\n",
       "    <tr style=\"text-align: right;\">\n",
       "      <th></th>\n",
       "      <th>0</th>\n",
       "    </tr>\n",
       "  </thead>\n",
       "  <tbody>\n",
       "    <tr>\n",
       "      <th>dist_km</th>\n",
       "      <td>0.172390</td>\n",
       "    </tr>\n",
       "    <tr>\n",
       "      <th>freight_value</th>\n",
       "      <td>0.139419</td>\n",
       "    </tr>\n",
       "    <tr>\n",
       "      <th>order_approved_to_delivered_to_carrier</th>\n",
       "      <td>0.123331</td>\n",
       "    </tr>\n",
       "    <tr>\n",
       "      <th>price</th>\n",
       "      <td>0.122829</td>\n",
       "    </tr>\n",
       "    <tr>\n",
       "      <th>product_weight_g</th>\n",
       "      <td>0.103527</td>\n",
       "    </tr>\n",
       "    <tr>\n",
       "      <th>product_vol_cm</th>\n",
       "      <td>0.100892</td>\n",
       "    </tr>\n",
       "    <tr>\n",
       "      <th>product_height_cm</th>\n",
       "      <td>0.072745</td>\n",
       "    </tr>\n",
       "    <tr>\n",
       "      <th>product_length_cm</th>\n",
       "      <td>0.068866</td>\n",
       "    </tr>\n",
       "    <tr>\n",
       "      <th>product_width_cm</th>\n",
       "      <td>0.067094</td>\n",
       "    </tr>\n",
       "    <tr>\n",
       "      <th>order_purchased_to_approved</th>\n",
       "      <td>0.016675</td>\n",
       "    </tr>\n",
       "    <tr>\n",
       "      <th>order_item_id</th>\n",
       "      <td>0.012231</td>\n",
       "    </tr>\n",
       "  </tbody>\n",
       "</table>\n",
       "</div>"
      ],
      "text/plain": [
       "                                               0\n",
       "dist_km                                 0.172390\n",
       "freight_value                           0.139419\n",
       "order_approved_to_delivered_to_carrier  0.123331\n",
       "price                                   0.122829\n",
       "product_weight_g                        0.103527\n",
       "product_vol_cm                          0.100892\n",
       "product_height_cm                       0.072745\n",
       "product_length_cm                       0.068866\n",
       "product_width_cm                        0.067094\n",
       "order_purchased_to_approved             0.016675\n",
       "order_item_id                           0.012231"
      ]
     },
     "execution_count": 333,
     "metadata": {},
     "output_type": "execute_result"
    }
   ],
   "source": [
    "# How important by percent is each of your features (adds to 1.0)\n",
    "df_fi = pd.DataFrame(data = rf_best.best_estimator_.feature_importances_, index = df_x.columns)\n",
    "\n",
    "# Show the importance of each of my features\n",
    "df_fi.sort_values(by=0, ascending = False)"
   ]
  },
  {
   "cell_type": "markdown",
   "metadata": {},
   "source": [
    "For the above, I want to project what my model thinks will happen if I hypothetically reduce \"order_approved_to_delivered_to_carrier\" to 0. I can take an individual row, use my model's predict_proba beforehand to see likelihood. Then I can change delay to 0, and have my model predict again.\n",
    "\n",
    "When I compare the two, this will be the lower likelihood that my model interprets over many samples, of a shipment being late"
   ]
  },
  {
   "cell_type": "code",
   "execution_count": 353,
   "metadata": {},
   "outputs": [
    {
     "data": {
      "text/plain": [
       "0.02292764377050847"
      ]
     },
     "execution_count": 353,
     "metadata": {},
     "output_type": "execute_result"
    }
   ],
   "source": [
    "sample = x_test.sample(1000, random_state = 37)\n",
    "pred_1 = rf_best.best_estimator_.predict_proba(sample)[:,1]\n",
    "\n",
    "sample['order_approved_to_delivered_to_carrier'] = 0\n",
    "pred_2 = rf_best.best_estimator_.predict_proba(sample)[:,1]\n",
    "\n",
    "mean_pred_delta = np.mean(pred_1 - pred_2)\n",
    "\n",
    "mean_pred_delta"
   ]
  },
  {
   "cell_type": "markdown",
   "metadata": {},
   "source": [
    "My model is predicting 2.3% less likelihood of each individual shipment being late when I get rid of the days of delay (what does this translate into with the 10% threshold? Maybe this would change"
   ]
  },
  {
   "cell_type": "markdown",
   "metadata": {},
   "source": [
    "## Random Forest (less features)"
   ]
  },
  {
   "cell_type": "code",
   "execution_count": 328,
   "metadata": {},
   "outputs": [
    {
     "data": {
      "text/plain": [
       "price                                     float64\n",
       "freight_value                             float64\n",
       "product_weight_g                          float64\n",
       "product_vol_cm                            float64\n",
       "dist_km                                   float64\n",
       "order_approved_to_delivered_to_carrier      int64\n",
       "dtype: object"
      ]
     },
     "execution_count": 328,
     "metadata": {},
     "output_type": "execute_result"
    }
   ],
   "source": [
    "df_y = df['is_late']\n",
    "df_x_less = df.drop(columns = ['order_delivered_customer_date','order_estimated_delivery_date',\n",
    "                          'customer_zip_code_prefix','seller_zip_code_prefix',\n",
    "                          'is_late','order_id','customer_id','product_id','seller_id',\n",
    "                          'order_purchase_timestamp','order_approved_at','shipping_limit_date',\n",
    "                          'order_delivered_carrier_date', 'product_length_cm',\n",
    "                              'product_height_cm', 'product_width_cm', 'order_item_id',\n",
    "                              'order_purchased_to_approved'])\n",
    "# Dropping all the non-numerical, date and y value from my x value of df\n",
    "# Also dropping zip code because the model will not interpret that number correctly, and I already have lat/long\n",
    "\n",
    "df_x_less.dtypes"
   ]
  },
  {
   "cell_type": "code",
   "execution_count": 337,
   "metadata": {},
   "outputs": [],
   "source": [
    "x_train_less, x_test_less, y_train, y_test = train_test_split(df_x_less, df_y,\n",
    "                                                    stratify = df_y,  # Include proportional y's in the splits\n",
    "                                                    random_state = 37)"
   ]
  },
  {
   "cell_type": "code",
   "execution_count": 338,
   "metadata": {
    "scrolled": true
   },
   "outputs": [
    {
     "name": "stdout",
     "output_type": "stream",
     "text": [
      "Fitting 2 folds for each of 45 candidates, totalling 90 fits\n",
      "[CV] max_depth=9, n_estimators=1 .....................................\n"
     ]
    },
    {
     "name": "stderr",
     "output_type": "stream",
     "text": [
      "[Parallel(n_jobs=1)]: Using backend SequentialBackend with 1 concurrent workers.\n"
     ]
    },
    {
     "name": "stdout",
     "output_type": "stream",
     "text": [
      "[CV]  max_depth=9, n_estimators=1, score=0.617287696392827, total=   2.4s\n",
      "[CV] max_depth=9, n_estimators=1 .....................................\n"
     ]
    },
    {
     "name": "stderr",
     "output_type": "stream",
     "text": [
      "[Parallel(n_jobs=1)]: Done   1 out of   1 | elapsed:    2.4s remaining:    0.0s\n"
     ]
    },
    {
     "name": "stdout",
     "output_type": "stream",
     "text": [
      "[CV]  max_depth=9, n_estimators=1, score=0.6347425351839178, total=   0.6s\n",
      "[CV] max_depth=9, n_estimators=4 .....................................\n"
     ]
    },
    {
     "name": "stderr",
     "output_type": "stream",
     "text": [
      "[Parallel(n_jobs=1)]: Done   2 out of   2 | elapsed:    3.0s remaining:    0.0s\n"
     ]
    },
    {
     "name": "stdout",
     "output_type": "stream",
     "text": [
      "[CV]  max_depth=9, n_estimators=4, score=0.6617790948862401, total=   1.0s\n",
      "[CV] max_depth=9, n_estimators=4 .....................................\n"
     ]
    },
    {
     "name": "stderr",
     "output_type": "stream",
     "text": [
      "[Parallel(n_jobs=1)]: Done   3 out of   3 | elapsed:    4.2s remaining:    0.0s\n"
     ]
    },
    {
     "name": "stdout",
     "output_type": "stream",
     "text": [
      "[CV]  max_depth=9, n_estimators=4, score=0.6583935984400366, total=   0.3s\n",
      "[CV] max_depth=9, n_estimators=9 .....................................\n"
     ]
    },
    {
     "name": "stderr",
     "output_type": "stream",
     "text": [
      "[Parallel(n_jobs=1)]: Done   4 out of   4 | elapsed:    4.6s remaining:    0.0s\n"
     ]
    },
    {
     "name": "stdout",
     "output_type": "stream",
     "text": [
      "[CV]  max_depth=9, n_estimators=9, score=0.6813543393318527, total=   0.3s\n",
      "[CV] max_depth=9, n_estimators=9 .....................................\n"
     ]
    },
    {
     "name": "stderr",
     "output_type": "stream",
     "text": [
      "[Parallel(n_jobs=1)]: Done   5 out of   5 | elapsed:    5.0s remaining:    0.0s\n"
     ]
    },
    {
     "name": "stdout",
     "output_type": "stream",
     "text": [
      "[CV]  max_depth=9, n_estimators=9, score=0.6745718575342687, total=   0.3s\n",
      "[CV] max_depth=9, n_estimators=16 ....................................\n"
     ]
    },
    {
     "name": "stderr",
     "output_type": "stream",
     "text": [
      "[Parallel(n_jobs=1)]: Done   6 out of   6 | elapsed:    5.5s remaining:    0.0s\n"
     ]
    },
    {
     "name": "stdout",
     "output_type": "stream",
     "text": [
      "[CV]  max_depth=9, n_estimators=16, score=0.6833018436349825, total=   0.5s\n",
      "[CV] max_depth=9, n_estimators=16 ....................................\n"
     ]
    },
    {
     "name": "stderr",
     "output_type": "stream",
     "text": [
      "[Parallel(n_jobs=1)]: Done   7 out of   7 | elapsed:    6.1s remaining:    0.0s\n"
     ]
    },
    {
     "name": "stdout",
     "output_type": "stream",
     "text": [
      "[CV]  max_depth=9, n_estimators=16, score=0.6839374052552007, total=   0.5s\n",
      "[CV] max_depth=9, n_estimators=25 ....................................\n"
     ]
    },
    {
     "name": "stderr",
     "output_type": "stream",
     "text": [
      "[Parallel(n_jobs=1)]: Done   8 out of   8 | elapsed:    6.7s remaining:    0.0s\n"
     ]
    },
    {
     "name": "stdout",
     "output_type": "stream",
     "text": [
      "[CV]  max_depth=9, n_estimators=25, score=0.6852536865037389, total=   0.6s\n",
      "[CV] max_depth=9, n_estimators=25 ....................................\n"
     ]
    },
    {
     "name": "stderr",
     "output_type": "stream",
     "text": [
      "[Parallel(n_jobs=1)]: Done   9 out of   9 | elapsed:    7.5s remaining:    0.0s\n"
     ]
    },
    {
     "name": "stdout",
     "output_type": "stream",
     "text": [
      "[CV]  max_depth=9, n_estimators=25, score=0.6853075448744861, total=   0.6s\n",
      "[CV] max_depth=9, n_estimators=36 ....................................\n"
     ]
    },
    {
     "name": "stderr",
     "output_type": "stream",
     "text": [
      "[Parallel(n_jobs=1)]: Done  10 out of  10 | elapsed:    8.2s remaining:    0.0s\n"
     ]
    },
    {
     "name": "stdout",
     "output_type": "stream",
     "text": [
      "[CV]  max_depth=9, n_estimators=36, score=0.6857737984871075, total=   0.8s\n",
      "[CV] max_depth=9, n_estimators=36 ....................................\n"
     ]
    },
    {
     "name": "stderr",
     "output_type": "stream",
     "text": [
      "[Parallel(n_jobs=1)]: Done  11 out of  11 | elapsed:    9.2s remaining:    0.0s\n"
     ]
    },
    {
     "name": "stdout",
     "output_type": "stream",
     "text": [
      "[CV]  max_depth=9, n_estimators=36, score=0.6860529143254981, total=   0.8s\n",
      "[CV] max_depth=9, n_estimators=49 ....................................\n"
     ]
    },
    {
     "name": "stderr",
     "output_type": "stream",
     "text": [
      "[Parallel(n_jobs=1)]: Done  12 out of  12 | elapsed:   10.1s remaining:    0.0s\n"
     ]
    },
    {
     "name": "stdout",
     "output_type": "stream",
     "text": [
      "[CV]  max_depth=9, n_estimators=49, score=0.6860601015322461, total=   1.0s\n",
      "[CV] max_depth=9, n_estimators=49 ....................................\n"
     ]
    },
    {
     "name": "stderr",
     "output_type": "stream",
     "text": [
      "[Parallel(n_jobs=1)]: Done  13 out of  13 | elapsed:   11.2s remaining:    0.0s\n"
     ]
    },
    {
     "name": "stdout",
     "output_type": "stream",
     "text": [
      "[CV]  max_depth=9, n_estimators=49, score=0.6876508516502384, total=   2.2s\n",
      "[CV] max_depth=9, n_estimators=64 ....................................\n"
     ]
    },
    {
     "name": "stderr",
     "output_type": "stream",
     "text": [
      "[Parallel(n_jobs=1)]: Done  14 out of  14 | elapsed:   13.5s remaining:    0.0s\n"
     ]
    },
    {
     "name": "stdout",
     "output_type": "stream",
     "text": [
      "[CV]  max_depth=9, n_estimators=64, score=0.6857734263684183, total=   1.9s\n",
      "[CV] max_depth=9, n_estimators=64 ....................................\n"
     ]
    },
    {
     "name": "stderr",
     "output_type": "stream",
     "text": [
      "[Parallel(n_jobs=1)]: Done  15 out of  15 | elapsed:   15.5s remaining:    0.0s\n"
     ]
    },
    {
     "name": "stdout",
     "output_type": "stream",
     "text": [
      "[CV]  max_depth=9, n_estimators=64, score=0.687885779002269, total=   2.4s\n",
      "[CV] max_depth=9, n_estimators=81 ....................................\n"
     ]
    },
    {
     "name": "stderr",
     "output_type": "stream",
     "text": [
      "[Parallel(n_jobs=1)]: Done  16 out of  16 | elapsed:   18.1s remaining:    0.0s\n"
     ]
    },
    {
     "name": "stdout",
     "output_type": "stream",
     "text": [
      "[CV]  max_depth=9, n_estimators=81, score=0.6859048011801981, total=   2.2s\n",
      "[CV] max_depth=9, n_estimators=81 ....................................\n"
     ]
    },
    {
     "name": "stderr",
     "output_type": "stream",
     "text": [
      "[Parallel(n_jobs=1)]: Done  17 out of  17 | elapsed:   20.5s remaining:    0.0s\n"
     ]
    },
    {
     "name": "stdout",
     "output_type": "stream",
     "text": [
      "[CV]  max_depth=9, n_estimators=81, score=0.6888158849540608, total=   1.9s\n",
      "[CV] max_depth=16, n_estimators=1 ....................................\n",
      "[CV]  max_depth=16, n_estimators=1, score=0.5675630997432686, total=   0.1s\n",
      "[CV] max_depth=16, n_estimators=1 ....................................\n"
     ]
    },
    {
     "name": "stderr",
     "output_type": "stream",
     "text": [
      "[Parallel(n_jobs=1)]: Done  18 out of  18 | elapsed:   22.7s remaining:    0.0s\n",
      "[Parallel(n_jobs=1)]: Done  19 out of  19 | elapsed:   22.9s remaining:    0.0s\n"
     ]
    },
    {
     "name": "stdout",
     "output_type": "stream",
     "text": [
      "[CV]  max_depth=16, n_estimators=1, score=0.5674003972304157, total=   0.1s\n",
      "[CV] max_depth=16, n_estimators=4 ....................................\n"
     ]
    },
    {
     "name": "stderr",
     "output_type": "stream",
     "text": [
      "[Parallel(n_jobs=1)]: Done  20 out of  20 | elapsed:   23.0s remaining:    0.0s\n"
     ]
    },
    {
     "name": "stdout",
     "output_type": "stream",
     "text": [
      "[CV]  max_depth=16, n_estimators=4, score=0.6098105125965391, total=   0.3s\n",
      "[CV] max_depth=16, n_estimators=4 ....................................\n"
     ]
    },
    {
     "name": "stderr",
     "output_type": "stream",
     "text": [
      "[Parallel(n_jobs=1)]: Done  21 out of  21 | elapsed:   23.4s remaining:    0.0s\n"
     ]
    },
    {
     "name": "stdout",
     "output_type": "stream",
     "text": [
      "[CV]  max_depth=16, n_estimators=4, score=0.6195690572662009, total=   0.3s\n",
      "[CV] max_depth=16, n_estimators=9 ....................................\n"
     ]
    },
    {
     "name": "stderr",
     "output_type": "stream",
     "text": [
      "[Parallel(n_jobs=1)]: Done  22 out of  22 | elapsed:   23.9s remaining:    0.0s\n"
     ]
    },
    {
     "name": "stdout",
     "output_type": "stream",
     "text": [
      "[CV]  max_depth=16, n_estimators=9, score=0.6453487142842596, total=   0.6s\n",
      "[CV] max_depth=16, n_estimators=9 ....................................\n"
     ]
    },
    {
     "name": "stderr",
     "output_type": "stream",
     "text": [
      "[Parallel(n_jobs=1)]: Done  23 out of  23 | elapsed:   24.6s remaining:    0.0s\n"
     ]
    },
    {
     "name": "stdout",
     "output_type": "stream",
     "text": [
      "[CV]  max_depth=16, n_estimators=9, score=0.64005920905071, total=   0.6s\n",
      "[CV] max_depth=16, n_estimators=16 ...................................\n"
     ]
    },
    {
     "name": "stderr",
     "output_type": "stream",
     "text": [
      "[Parallel(n_jobs=1)]: Done  24 out of  24 | elapsed:   25.3s remaining:    0.0s\n"
     ]
    },
    {
     "name": "stdout",
     "output_type": "stream",
     "text": [
      "[CV]  max_depth=16, n_estimators=16, score=0.6590312351691674, total=   0.7s\n",
      "[CV] max_depth=16, n_estimators=16 ...................................\n"
     ]
    },
    {
     "name": "stderr",
     "output_type": "stream",
     "text": [
      "[Parallel(n_jobs=1)]: Done  25 out of  25 | elapsed:   26.2s remaining:    0.0s\n"
     ]
    },
    {
     "name": "stdout",
     "output_type": "stream",
     "text": [
      "[CV]  max_depth=16, n_estimators=16, score=0.6521577076131093, total=   0.8s\n",
      "[CV] max_depth=16, n_estimators=25 ...................................\n"
     ]
    },
    {
     "name": "stderr",
     "output_type": "stream",
     "text": [
      "[Parallel(n_jobs=1)]: Done  26 out of  26 | elapsed:   27.1s remaining:    0.0s\n"
     ]
    },
    {
     "name": "stdout",
     "output_type": "stream",
     "text": [
      "[CV]  max_depth=16, n_estimators=25, score=0.6646914479784332, total=   1.0s\n",
      "[CV] max_depth=16, n_estimators=25 ...................................\n"
     ]
    },
    {
     "name": "stderr",
     "output_type": "stream",
     "text": [
      "[Parallel(n_jobs=1)]: Done  27 out of  27 | elapsed:   28.3s remaining:    0.0s\n"
     ]
    },
    {
     "name": "stdout",
     "output_type": "stream",
     "text": [
      "[CV]  max_depth=16, n_estimators=25, score=0.6544423449246896, total=   1.0s\n",
      "[CV] max_depth=16, n_estimators=36 ...................................\n"
     ]
    },
    {
     "name": "stderr",
     "output_type": "stream",
     "text": [
      "[Parallel(n_jobs=1)]: Done  28 out of  28 | elapsed:   29.4s remaining:    0.0s\n"
     ]
    },
    {
     "name": "stdout",
     "output_type": "stream",
     "text": [
      "[CV]  max_depth=16, n_estimators=36, score=0.6678945483969279, total=   1.5s\n",
      "[CV] max_depth=16, n_estimators=36 ...................................\n"
     ]
    },
    {
     "name": "stderr",
     "output_type": "stream",
     "text": [
      "[Parallel(n_jobs=1)]: Done  29 out of  29 | elapsed:   31.0s remaining:    0.0s\n"
     ]
    },
    {
     "name": "stdout",
     "output_type": "stream",
     "text": [
      "[CV]  max_depth=16, n_estimators=36, score=0.6600071947690891, total=   2.2s\n",
      "[CV] max_depth=16, n_estimators=49 ...................................\n",
      "[CV]  max_depth=16, n_estimators=49, score=0.6704114957814764, total=   2.0s\n",
      "[CV] max_depth=16, n_estimators=49 ...................................\n",
      "[CV]  max_depth=16, n_estimators=49, score=0.661233252942269, total=   2.3s\n",
      "[CV] max_depth=16, n_estimators=64 ...................................\n",
      "[CV]  max_depth=16, n_estimators=64, score=0.6723879365413143, total=   2.4s\n",
      "[CV] max_depth=16, n_estimators=64 ...................................\n",
      "[CV]  max_depth=16, n_estimators=64, score=0.6663269075737314, total=   2.0s\n",
      "[CV] max_depth=16, n_estimators=81 ...................................\n",
      "[CV]  max_depth=16, n_estimators=81, score=0.67301470704398, total=   3.1s\n",
      "[CV] max_depth=16, n_estimators=81 ...................................\n",
      "[CV]  max_depth=16, n_estimators=81, score=0.666298837233298, total=   2.5s\n",
      "[CV] max_depth=25, n_estimators=1 ....................................\n",
      "[CV]  max_depth=25, n_estimators=1, score=0.564360878878039, total=   0.1s\n",
      "[CV] max_depth=25, n_estimators=1 ....................................\n",
      "[CV]  max_depth=25, n_estimators=1, score=0.5589721400814015, total=   0.1s\n",
      "[CV] max_depth=25, n_estimators=4 ....................................\n",
      "[CV]  max_depth=25, n_estimators=4, score=0.616895356435747, total=   0.3s\n",
      "[CV] max_depth=25, n_estimators=4 ....................................\n",
      "[CV]  max_depth=25, n_estimators=4, score=0.6139895041115142, total=   0.3s\n",
      "[CV] max_depth=25, n_estimators=9 ....................................\n",
      "[CV]  max_depth=25, n_estimators=9, score=0.6414339495584997, total=   0.5s\n",
      "[CV] max_depth=25, n_estimators=9 ....................................\n",
      "[CV]  max_depth=25, n_estimators=9, score=0.6390335802124989, total=   0.5s\n",
      "[CV] max_depth=25, n_estimators=16 ...................................\n",
      "[CV]  max_depth=25, n_estimators=16, score=0.6602108048991523, total=   0.6s\n",
      "[CV] max_depth=25, n_estimators=16 ...................................\n",
      "[CV]  max_depth=25, n_estimators=16, score=0.6554148735422283, total=   0.7s\n",
      "[CV] max_depth=25, n_estimators=25 ...................................\n",
      "[CV]  max_depth=25, n_estimators=25, score=0.6717782665838669, total=   0.9s\n",
      "[CV] max_depth=25, n_estimators=25 ...................................\n",
      "[CV]  max_depth=25, n_estimators=25, score=0.6658241617717653, total=   0.9s\n",
      "[CV] max_depth=25, n_estimators=36 ...................................\n",
      "[CV]  max_depth=25, n_estimators=36, score=0.6786875000021142, total=   1.5s\n",
      "[CV] max_depth=25, n_estimators=36 ...................................\n",
      "[CV]  max_depth=25, n_estimators=36, score=0.6743941830203111, total=   1.3s\n",
      "[CV] max_depth=25, n_estimators=49 ...................................\n",
      "[CV]  max_depth=25, n_estimators=49, score=0.6831625528438139, total=   1.8s\n",
      "[CV] max_depth=25, n_estimators=49 ...................................\n",
      "[CV]  max_depth=25, n_estimators=49, score=0.6794132935178234, total=   1.8s\n",
      "[CV] max_depth=25, n_estimators=64 ...................................\n",
      "[CV]  max_depth=25, n_estimators=64, score=0.6852674083804038, total=   2.5s\n",
      "[CV] max_depth=25, n_estimators=64 ...................................\n",
      "[CV]  max_depth=25, n_estimators=64, score=0.6846676485224632, total=   2.4s\n",
      "[CV] max_depth=25, n_estimators=81 ...................................\n",
      "[CV]  max_depth=25, n_estimators=81, score=0.6864776440732775, total=   2.9s\n",
      "[CV] max_depth=25, n_estimators=81 ...................................\n",
      "[CV]  max_depth=25, n_estimators=81, score=0.6856830903389652, total=   2.9s\n",
      "[CV] max_depth=36, n_estimators=1 ....................................\n",
      "[CV]  max_depth=36, n_estimators=1, score=0.5636077783090053, total=   0.1s\n",
      "[CV] max_depth=36, n_estimators=1 ....................................\n",
      "[CV]  max_depth=36, n_estimators=1, score=0.5556140257993407, total=   0.1s\n",
      "[CV] max_depth=36, n_estimators=4 ....................................\n",
      "[CV]  max_depth=36, n_estimators=4, score=0.6229588951606675, total=   0.3s\n",
      "[CV] max_depth=36, n_estimators=4 ....................................\n",
      "[CV]  max_depth=36, n_estimators=4, score=0.6071183981417925, total=   0.3s\n",
      "[CV] max_depth=36, n_estimators=9 ....................................\n",
      "[CV]  max_depth=36, n_estimators=9, score=0.6462442179098629, total=   0.5s\n",
      "[CV] max_depth=36, n_estimators=9 ....................................\n",
      "[CV]  max_depth=36, n_estimators=9, score=0.6405700190496038, total=   0.5s\n",
      "[CV] max_depth=36, n_estimators=16 ...................................\n",
      "[CV]  max_depth=36, n_estimators=16, score=0.6651609941062827, total=   0.7s\n",
      "[CV] max_depth=36, n_estimators=16 ...................................\n",
      "[CV]  max_depth=36, n_estimators=16, score=0.6605912760528112, total=   0.8s\n",
      "[CV] max_depth=36, n_estimators=25 ...................................\n",
      "[CV]  max_depth=36, n_estimators=25, score=0.6794008007858875, total=   1.0s\n",
      "[CV] max_depth=36, n_estimators=25 ...................................\n",
      "[CV]  max_depth=36, n_estimators=25, score=0.670224950921306, total=   1.0s\n",
      "[CV] max_depth=36, n_estimators=36 ...................................\n",
      "[CV]  max_depth=36, n_estimators=36, score=0.6829302366089622, total=   1.5s\n",
      "[CV] max_depth=36, n_estimators=36 ...................................\n",
      "[CV]  max_depth=36, n_estimators=36, score=0.6794062188447976, total=   1.4s\n",
      "[CV] max_depth=36, n_estimators=49 ...................................\n",
      "[CV]  max_depth=36, n_estimators=49, score=0.6874916548155321, total=   1.9s\n",
      "[CV] max_depth=36, n_estimators=49 ...................................\n",
      "[CV]  max_depth=36, n_estimators=49, score=0.685259299241162, total=   1.9s\n",
      "[CV] max_depth=36, n_estimators=64 ...................................\n",
      "[CV]  max_depth=36, n_estimators=64, score=0.6892512645523357, total=   2.4s\n",
      "[CV] max_depth=36, n_estimators=64 ...................................\n",
      "[CV]  max_depth=36, n_estimators=64, score=0.6885176323010371, total=   2.4s\n",
      "[CV] max_depth=36, n_estimators=81 ...................................\n",
      "[CV]  max_depth=36, n_estimators=81, score=0.6920974862333845, total=   3.0s\n",
      "[CV] max_depth=36, n_estimators=81 ...................................\n",
      "[CV]  max_depth=36, n_estimators=81, score=0.6906563824968277, total=   3.1s\n",
      "[CV] max_depth=49, n_estimators=1 ....................................\n",
      "[CV]  max_depth=49, n_estimators=1, score=0.5636077783090053, total=   0.1s\n",
      "[CV] max_depth=49, n_estimators=1 ....................................\n",
      "[CV]  max_depth=49, n_estimators=1, score=0.5556140257993407, total=   0.1s\n",
      "[CV] max_depth=49, n_estimators=4 ....................................\n",
      "[CV]  max_depth=49, n_estimators=4, score=0.6187210214685083, total=   0.3s\n",
      "[CV] max_depth=49, n_estimators=4 ....................................\n",
      "[CV]  max_depth=49, n_estimators=4, score=0.6131970815303419, total=   0.3s\n",
      "[CV] max_depth=49, n_estimators=9 ....................................\n",
      "[CV]  max_depth=49, n_estimators=9, score=0.6433290062695571, total=   0.5s\n",
      "[CV] max_depth=49, n_estimators=9 ....................................\n",
      "[CV]  max_depth=49, n_estimators=9, score=0.642716156844782, total=   0.5s\n",
      "[CV] max_depth=49, n_estimators=16 ...................................\n",
      "[CV]  max_depth=49, n_estimators=16, score=0.6654958121255281, total=   0.7s\n",
      "[CV] max_depth=49, n_estimators=16 ...................................\n",
      "[CV]  max_depth=49, n_estimators=16, score=0.6627976733163801, total=   0.7s\n",
      "[CV] max_depth=49, n_estimators=25 ...................................\n",
      "[CV]  max_depth=49, n_estimators=25, score=0.6756236692316808, total=   1.0s\n",
      "[CV] max_depth=49, n_estimators=25 ...................................\n",
      "[CV]  max_depth=49, n_estimators=25, score=0.6733271675563361, total=   1.0s\n",
      "[CV] max_depth=49, n_estimators=36 ...................................\n",
      "[CV]  max_depth=49, n_estimators=36, score=0.6823896496404438, total=   1.5s\n",
      "[CV] max_depth=49, n_estimators=36 ...................................\n",
      "[CV]  max_depth=49, n_estimators=36, score=0.6825075305306183, total=   1.5s\n",
      "[CV] max_depth=49, n_estimators=49 ...................................\n",
      "[CV]  max_depth=49, n_estimators=49, score=0.6886914542706218, total=   1.9s\n",
      "[CV] max_depth=49, n_estimators=49 ...................................\n"
     ]
    },
    {
     "name": "stdout",
     "output_type": "stream",
     "text": [
      "[CV]  max_depth=49, n_estimators=49, score=0.6894656765451035, total=   1.9s\n",
      "[CV] max_depth=49, n_estimators=64 ...................................\n",
      "[CV]  max_depth=49, n_estimators=64, score=0.6884863830438911, total=   2.5s\n",
      "[CV] max_depth=49, n_estimators=64 ...................................\n",
      "[CV]  max_depth=49, n_estimators=64, score=0.692013400352575, total=   2.4s\n",
      "[CV] max_depth=49, n_estimators=81 ...................................\n",
      "[CV]  max_depth=49, n_estimators=81, score=0.6904297940414394, total=   3.1s\n",
      "[CV] max_depth=49, n_estimators=81 ...................................\n",
      "[CV]  max_depth=49, n_estimators=81, score=0.6927011913529482, total=   3.1s\n"
     ]
    },
    {
     "name": "stderr",
     "output_type": "stream",
     "text": [
      "[Parallel(n_jobs=1)]: Done  90 out of  90 | elapsed:  2.1min finished\n"
     ]
    },
    {
     "data": {
      "text/plain": [
       "GridSearchCV(cv=2, error_score='raise-deprecating',\n",
       "       estimator=RandomForestClassifier(bootstrap=True, class_weight='balanced',\n",
       "            criterion='gini', max_depth=None, max_features='auto',\n",
       "            max_leaf_nodes=None, min_impurity_decrease=0.0,\n",
       "            min_impurity_split=None, min_samples_leaf=1,\n",
       "            min_samples_split=2, min_weight_fraction_leaf=0.0,\n",
       "            n_estimators='warn', n_jobs=-1, oob_score=False,\n",
       "            random_state=37, verbose=0, warm_start=False),\n",
       "       fit_params=None, iid='warn', n_jobs=None,\n",
       "       param_grid={'n_estimators': [1, 4, 9, 16, 25, 36, 49, 64, 81], 'max_depth': [9, 16, 25, 36, 49]},\n",
       "       pre_dispatch='2*n_jobs', refit=True, return_train_score='warn',\n",
       "       scoring='roc_auc', verbose=30)"
      ]
     },
     "execution_count": 338,
     "metadata": {},
     "output_type": "execute_result"
    }
   ],
   "source": [
    "# Running the GridSearch to find roughly the best model for my Random Forest\n",
    "custom_score = make_scorer(fbeta_score, beta = 2)\n",
    "\n",
    "rf = RandomForestClassifier(n_jobs = -1, random_state = 37, class_weight = 'balanced')\n",
    "\n",
    "\n",
    "param_grid = {'n_estimators' : [i ** 2 for i in range(1,10)],\n",
    "              'max_depth' : [i ** 2 for i in range (3,8)]}\n",
    "\n",
    "rf_less_best = GridSearchCV(rf, param_grid, cv = 2, scoring = 'roc_auc', verbose = 30)\n",
    "\n",
    "rf_less_best.fit(x_train_less, y_train)"
   ]
  },
  {
   "cell_type": "markdown",
   "metadata": {},
   "source": [
    "## ROC Curve"
   ]
  },
  {
   "cell_type": "code",
   "execution_count": 346,
   "metadata": {},
   "outputs": [
    {
     "data": {
      "text/plain": [
       "<matplotlib.legend.Legend object at 0x1a1ea8c208>"
      ]
     },
     "execution_count": 346,
     "metadata": {},
     "output_type": "execute_result"
    },
    {
     "data": {
      "image/png": "[encoded data removed]",
      "text/plain": [
       "<Figure size 576x576 with 1 Axes>"
      ]
     },
     "metadata": {
      "needs_background": "light"
     },
     "output_type": "display_data"
    }
   ],
   "source": [
    "# Graphing a ROC curve for all my plots\n",
    "\n",
    "# Set the data for my plots\n",
    "logit_fpr, logit_tpr, _ = roc_curve(y_test, logistic_model.predict_proba(x_test)[:,1])\n",
    "knn_fpr, knn_tpr, _ = roc_curve(y_test, knn_smote_best.predict_proba(x_test)[:,1])\n",
    "rf_fpr, rf_tpr, _ = roc_curve(y_test, rf_best.predict_proba(x_test)[:,1])\n",
    "#rf_less_fpr, rf_less_tpr, _ = roc_curve(y_test, rf_less_best.predict_proba(x_test_less)[:,1])\n",
    "\n",
    "\n",
    "# Plot the ROC\n",
    "fig, ax = plt.subplots(figsize = (8,8))\n",
    "\n",
    "plt.title('ROC Curve', fontsize = 20)\n",
    "plt.xlabel('False Positive Rate', fontsize = 20)\n",
    "plt.ylabel('True Positive Rate', fontsize = 20)\n",
    "plt.plot(knn_fpr, knn_tpr, label = 'K-Nearest Neighbors')\n",
    "plt.plot(logit_fpr, logit_tpr, label = 'Logistic Regression')\n",
    "plt.plot(rf_fpr, rf_tpr, 'g', label = 'Random Forest')\n",
    "#plt.plot(rf_less_fpr, rf_less_tpr, 'r', label = 'Random Forest (Less)')\n",
    "plt.plot([0, 1], 'r--', alpha = 0.5) # y = x line\n",
    "plt.legend(fontsize = 20)\n",
    "\n",
    "#plt.savefig('roc_curve.png', bbox_inches = 'tight')"
   ]
  },
  {
   "cell_type": "code",
   "execution_count": 356,
   "metadata": {},
   "outputs": [
    {
     "data": {
      "text/plain": [
       "0.7353557784535083"
      ]
     },
     "execution_count": 356,
     "metadata": {},
     "output_type": "execute_result"
    }
   ],
   "source": [
    "# My Random Forest ROC_AUC\n",
    "metrics.roc_auc_score(y_test, rf_best.best_estimator_.predict_proba(x_test)[:,1])"
   ]
  },
  {
   "cell_type": "code",
   "execution_count": 341,
   "metadata": {},
   "outputs": [
    {
     "data": {
      "text/html": [
       "<div>\n",
       "<style scoped>\n",
       "    .dataframe tbody tr th:only-of-type {\n",
       "        vertical-align: middle;\n",
       "    }\n",
       "\n",
       "    .dataframe tbody tr th {\n",
       "        vertical-align: top;\n",
       "    }\n",
       "\n",
       "    .dataframe thead th {\n",
       "        text-align: right;\n",
       "    }\n",
       "</style>\n",
       "<table border=\"1\" class=\"dataframe\">\n",
       "  <thead>\n",
       "    <tr style=\"text-align: right;\">\n",
       "      <th></th>\n",
       "      <th>0</th>\n",
       "    </tr>\n",
       "  </thead>\n",
       "  <tbody>\n",
       "    <tr>\n",
       "      <th>dist_km</th>\n",
       "      <td>0.172390</td>\n",
       "    </tr>\n",
       "    <tr>\n",
       "      <th>freight_value</th>\n",
       "      <td>0.139419</td>\n",
       "    </tr>\n",
       "    <tr>\n",
       "      <th>order_approved_to_delivered_to_carrier</th>\n",
       "      <td>0.123331</td>\n",
       "    </tr>\n",
       "    <tr>\n",
       "      <th>price</th>\n",
       "      <td>0.122829</td>\n",
       "    </tr>\n",
       "    <tr>\n",
       "      <th>product_weight_g</th>\n",
       "      <td>0.103527</td>\n",
       "    </tr>\n",
       "    <tr>\n",
       "      <th>product_vol_cm</th>\n",
       "      <td>0.100892</td>\n",
       "    </tr>\n",
       "    <tr>\n",
       "      <th>product_height_cm</th>\n",
       "      <td>0.072745</td>\n",
       "    </tr>\n",
       "    <tr>\n",
       "      <th>product_length_cm</th>\n",
       "      <td>0.068866</td>\n",
       "    </tr>\n",
       "    <tr>\n",
       "      <th>product_width_cm</th>\n",
       "      <td>0.067094</td>\n",
       "    </tr>\n",
       "    <tr>\n",
       "      <th>order_purchased_to_approved</th>\n",
       "      <td>0.016675</td>\n",
       "    </tr>\n",
       "    <tr>\n",
       "      <th>order_item_id</th>\n",
       "      <td>0.012231</td>\n",
       "    </tr>\n",
       "  </tbody>\n",
       "</table>\n",
       "</div>"
      ],
      "text/plain": [
       "                                               0\n",
       "dist_km                                 0.172390\n",
       "freight_value                           0.139419\n",
       "order_approved_to_delivered_to_carrier  0.123331\n",
       "price                                   0.122829\n",
       "product_weight_g                        0.103527\n",
       "product_vol_cm                          0.100892\n",
       "product_height_cm                       0.072745\n",
       "product_length_cm                       0.068866\n",
       "product_width_cm                        0.067094\n",
       "order_purchased_to_approved             0.016675\n",
       "order_item_id                           0.012231"
      ]
     },
     "execution_count": 341,
     "metadata": {},
     "output_type": "execute_result"
    }
   ],
   "source": [
    "df_fi.sort_values(by=0, ascending = False)"
   ]
  },
  {
   "cell_type": "markdown",
   "metadata": {},
   "source": [
    "Simplifying my features didn't do anything to make the ROC curve better, or dramatically change the interpretation around my variables"
   ]
  },
  {
   "cell_type": "code",
   "execution_count": 340,
   "metadata": {},
   "outputs": [
    {
     "data": {
      "text/html": [
       "<div>\n",
       "<style scoped>\n",
       "    .dataframe tbody tr th:only-of-type {\n",
       "        vertical-align: middle;\n",
       "    }\n",
       "\n",
       "    .dataframe tbody tr th {\n",
       "        vertical-align: top;\n",
       "    }\n",
       "\n",
       "    .dataframe thead th {\n",
       "        text-align: right;\n",
       "    }\n",
       "</style>\n",
       "<table border=\"1\" class=\"dataframe\">\n",
       "  <thead>\n",
       "    <tr style=\"text-align: right;\">\n",
       "      <th></th>\n",
       "      <th>0</th>\n",
       "    </tr>\n",
       "  </thead>\n",
       "  <tbody>\n",
       "    <tr>\n",
       "      <th>dist_km</th>\n",
       "      <td>0.225272</td>\n",
       "    </tr>\n",
       "    <tr>\n",
       "      <th>freight_value</th>\n",
       "      <td>0.177194</td>\n",
       "    </tr>\n",
       "    <tr>\n",
       "      <th>price</th>\n",
       "      <td>0.169503</td>\n",
       "    </tr>\n",
       "    <tr>\n",
       "      <th>product_vol_cm</th>\n",
       "      <td>0.160473</td>\n",
       "    </tr>\n",
       "    <tr>\n",
       "      <th>product_weight_g</th>\n",
       "      <td>0.141792</td>\n",
       "    </tr>\n",
       "    <tr>\n",
       "      <th>order_approved_to_delivered_to_carrier</th>\n",
       "      <td>0.125766</td>\n",
       "    </tr>\n",
       "  </tbody>\n",
       "</table>\n",
       "</div>"
      ],
      "text/plain": [
       "                                               0\n",
       "dist_km                                 0.225272\n",
       "freight_value                           0.177194\n",
       "price                                   0.169503\n",
       "product_vol_cm                          0.160473\n",
       "product_weight_g                        0.141792\n",
       "order_approved_to_delivered_to_carrier  0.125766"
      ]
     },
     "execution_count": 340,
     "metadata": {},
     "output_type": "execute_result"
    }
   ],
   "source": [
    "# How important by percent is each of your features (adds to 1.0)\n",
    "df_less_fi = pd.DataFrame(data = rf_less_best.best_estimator_.feature_importances_, index = df_x_less.columns)\n",
    "\n",
    "# Show the importance of each of my features\n",
    "df_less_fi.sort_values(by=0, ascending = False)"
   ]
  },
  {
   "cell_type": "code",
   "execution_count": 274,
   "metadata": {},
   "outputs": [
    {
     "name": "stdout",
     "output_type": "stream",
     "text": [
      "2\n",
      "0.1\n",
      "0.3908093849784812\n"
     ]
    }
   ],
   "source": [
    "y_probs = rf_best.predict_proba(x_test)[:,1]\n",
    "precisions = []\n",
    "thresholds = []\n",
    "for t in range(0,100,5):\n",
    "    y_pred = pd.Series(y_probs).apply(lambda x: 0 if x<t / 100 else 1)\n",
    "    precisions.append(fbeta_score(y_test, y_pred, beta = 2))\n",
    "    thresholds.append(t/100)\n",
    "print(np.argmax(precisions)) #the index of the best fbeta\n",
    "print(thresholds[np.argmax(precisions)]) #the best threshold for your model\n",
    "print(max(precisions)) # Precisions = fbeta"
   ]
  },
  {
   "cell_type": "code",
   "execution_count": 309,
   "metadata": {},
   "outputs": [
    {
     "name": "stdout",
     "output_type": "stream",
     "text": [
      "Logistic Regression\n",
      "Recall Score: 0.4917022285443338\n",
      "Precision Score: 0.1353079331941545\n",
      "FBeta Score: 0.3220496894409937\n",
      "\n",
      "K-Nearest Neighbors\n",
      "Recall Score: 0.44333807491702226\n",
      "Precision Score: 0.13538951636258326\n",
      "FBeta Score: 0.3047190718289662\n",
      "\n",
      "Random Forest\n",
      "Recall Score: 0.5339023233760076\n",
      "Precision Score: 0.18860971524288106\n",
      "FBeta Score: 0.3908093849784812\n"
     ]
    }
   ],
   "source": [
    "print('Logistic Regression')\n",
    "print(f'Recall Score: {recall_score(y_test, logit_pred)}')\n",
    "print(f'Precision Score: {precision_score(y_test, logit_pred)}')\n",
    "print(f'FBeta Score: {fbeta_score(y_test, logit_pred, beta = 2)}')\n",
    "\n",
    "print('')\n",
    "print('K-Nearest Neighbors')\n",
    "print(f'Recall Score: {recall_score(y_test, knn_smote_pred)}')\n",
    "print(f'Precision Score: {precision_score(y_test, knn_smote_pred)}')\n",
    "print(f'FBeta Score: {fbeta_score(y_test, knn_smote_pred, beta = 2)}')\n",
    "\n",
    "print('')\n",
    "print('Random Forest')\n",
    "print(f'Recall Score: {recall_score(y_test, y_pred)}')\n",
    "print(f'Precision Score: {precision_score(y_test, y_pred)}')\n",
    "print(f'FBeta Score: {fbeta_score(y_test, y_pred, beta = 2)}')"
   ]
  },
  {
   "cell_type": "markdown",
   "metadata": {},
   "source": [
    "## What's the Business Case? Who cares?"
   ]
  },
  {
   "cell_type": "code",
   "execution_count": 370,
   "metadata": {},
   "outputs": [
    {
     "data": {
      "text/plain": [
       "33875    2016-09-15 12:16:38\n",
       "33874    2016-09-15 12:16:38\n",
       "33876    2016-09-15 12:16:38\n",
       "102779   2016-10-03 09:44:50\n",
       "31328    2016-10-03 16:56:50\n",
       "102041   2016-10-03 21:01:41\n",
       "107968   2016-10-03 21:13:36\n",
       "97391    2016-10-03 22:06:03\n",
       "7406     2016-10-03 22:31:31\n",
       "68375    2016-10-03 22:44:10\n",
       "36959    2016-10-03 22:51:30\n",
       "86800    2016-10-04 09:06:10\n",
       "70507    2016-10-04 09:16:33\n",
       "73855    2016-10-04 09:59:03\n",
       "39513    2016-10-04 10:16:04\n",
       "81730    2016-10-04 10:41:17\n",
       "9289     2016-10-04 11:03:14\n",
       "35361    2016-10-04 12:06:11\n",
       "17984    2016-10-04 12:53:17\n",
       "65061    2016-10-04 13:11:29\n",
       "65060    2016-10-04 13:11:29\n",
       "27264    2016-10-04 13:15:46\n",
       "93291    2016-10-04 13:15:52\n",
       "92732    2016-10-04 13:16:57\n",
       "107478   2016-10-04 13:22:56\n",
       "62721    2016-10-04 13:30:13\n",
       "91172    2016-10-04 13:40:43\n",
       "72571    2016-10-04 13:45:08\n",
       "1530     2016-10-04 14:13:22\n",
       "93227    2016-10-04 14:23:50\n",
       "                 ...        \n",
       "17530    2018-08-28 19:31:41\n",
       "19075    2018-08-28 19:32:05\n",
       "19076    2018-08-28 19:32:05\n",
       "19074    2018-08-28 19:32:05\n",
       "19077    2018-08-28 19:32:05\n",
       "76744    2018-08-28 19:32:31\n",
       "108648   2018-08-28 19:44:25\n",
       "19310    2018-08-28 20:49:17\n",
       "45576    2018-08-28 21:10:46\n",
       "73699    2018-08-28 21:56:12\n",
       "1572     2018-08-28 21:56:30\n",
       "19946    2018-08-28 22:30:32\n",
       "19945    2018-08-28 22:30:32\n",
       "84788    2018-08-28 22:51:54\n",
       "40959    2018-08-29 08:25:34\n",
       "7555     2018-08-29 08:46:11\n",
       "7559     2018-08-29 08:46:11\n",
       "7558     2018-08-29 08:46:11\n",
       "7557     2018-08-29 08:46:11\n",
       "7556     2018-08-29 08:46:11\n",
       "82320    2018-08-29 09:14:11\n",
       "97323    2018-08-29 09:48:09\n",
       "6307     2018-08-29 10:22:35\n",
       "74721    2018-08-29 11:06:11\n",
       "109550   2018-08-29 12:25:59\n",
       "33153    2018-08-29 14:18:23\n",
       "33152    2018-08-29 14:18:23\n",
       "34731    2018-08-29 14:18:28\n",
       "76752    2018-08-29 14:52:00\n",
       "96973    2018-08-29 15:00:37\n",
       "Name: order_purchase_timestamp, Length: 108092, dtype: datetime64[ns]"
      ]
     },
     "execution_count": 370,
     "metadata": {},
     "output_type": "execute_result"
    }
   ],
   "source": [
    "df['order_purchase_timestamp'].sort_values()"
   ]
  },
  {
   "cell_type": "code",
   "execution_count": 371,
   "metadata": {},
   "outputs": [
    {
     "data": {
      "text/html": [
       "<div>\n",
       "<style scoped>\n",
       "    .dataframe tbody tr th:only-of-type {\n",
       "        vertical-align: middle;\n",
       "    }\n",
       "\n",
       "    .dataframe tbody tr th {\n",
       "        vertical-align: top;\n",
       "    }\n",
       "\n",
       "    .dataframe thead th {\n",
       "        text-align: right;\n",
       "    }\n",
       "</style>\n",
       "<table border=\"1\" class=\"dataframe\">\n",
       "  <thead>\n",
       "    <tr style=\"text-align: right;\">\n",
       "      <th></th>\n",
       "      <th>is_late</th>\n",
       "      <th>order_id</th>\n",
       "      <th>customer_id</th>\n",
       "      <th>order_purchase_timestamp</th>\n",
       "      <th>order_approved_at</th>\n",
       "      <th>order_delivered_carrier_date</th>\n",
       "      <th>order_delivered_customer_date</th>\n",
       "      <th>order_estimated_delivery_date</th>\n",
       "      <th>customer_zip_code_prefix</th>\n",
       "      <th>product_id</th>\n",
       "      <th>...</th>\n",
       "      <th>order_item_id</th>\n",
       "      <th>seller_zip_code_prefix</th>\n",
       "      <th>product_weight_g</th>\n",
       "      <th>product_length_cm</th>\n",
       "      <th>product_height_cm</th>\n",
       "      <th>product_width_cm</th>\n",
       "      <th>product_vol_cm</th>\n",
       "      <th>dist_km</th>\n",
       "      <th>order_purchased_to_approved</th>\n",
       "      <th>order_approved_to_delivered_to_carrier</th>\n",
       "    </tr>\n",
       "  </thead>\n",
       "  <tbody>\n",
       "    <tr>\n",
       "      <th>20</th>\n",
       "      <td>True</td>\n",
       "      <td>203096f03d82e0dffbc41ebc2e2bcfb7</td>\n",
       "      <td>d2b091571da224a1b36412c18bc3bbfe</td>\n",
       "      <td>2017-09-18 14:31:30</td>\n",
       "      <td>2017-09-19 04:04:09</td>\n",
       "      <td>2017-10-06 17:50:03</td>\n",
       "      <td>2017-10-09 22:23:46</td>\n",
       "      <td>2017-09-28 11:59:59</td>\n",
       "      <td>4001</td>\n",
       "      <td>5ac9d9e379c606e36a8094a6046f75dc</td>\n",
       "      <td>...</td>\n",
       "      <td>1</td>\n",
       "      <td>4438</td>\n",
       "      <td>525.0</td>\n",
       "      <td>21.0</td>\n",
       "      <td>16.0</td>\n",
       "      <td>13.0</td>\n",
       "      <td>4368.0</td>\n",
       "      <td>11.846404</td>\n",
       "      <td>0</td>\n",
       "      <td>17</td>\n",
       "    </tr>\n",
       "    <tr>\n",
       "      <th>25</th>\n",
       "      <td>True</td>\n",
       "      <td>fbf9ac61453ac646ce8ad9783d7d0af6</td>\n",
       "      <td>3a874b4d4c4b6543206ff5d89287f0c3</td>\n",
       "      <td>2018-02-20 23:46:53</td>\n",
       "      <td>2018-02-22 02:30:46</td>\n",
       "      <td>2018-02-26 22:25:22</td>\n",
       "      <td>2018-03-21 22:03:54</td>\n",
       "      <td>2018-03-12 11:59:59</td>\n",
       "      <td>21715</td>\n",
       "      <td>7b717060aa783eb7f23a747a3a733dd7</td>\n",
       "      <td>...</td>\n",
       "      <td>1</td>\n",
       "      <td>9220</td>\n",
       "      <td>500.0</td>\n",
       "      <td>16.0</td>\n",
       "      <td>12.0</td>\n",
       "      <td>22.0</td>\n",
       "      <td>4224.0</td>\n",
       "      <td>326.895894</td>\n",
       "      <td>1</td>\n",
       "      <td>4</td>\n",
       "    </tr>\n",
       "    <tr>\n",
       "      <th>42</th>\n",
       "      <td>True</td>\n",
       "      <td>6ea2f835b4556291ffdc53fa0b3b95e8</td>\n",
       "      <td>c7340080e394356141681bd4c9b8fe31</td>\n",
       "      <td>2017-11-24 21:27:48</td>\n",
       "      <td>2017-11-25 00:21:09</td>\n",
       "      <td>2017-12-13 21:14:05</td>\n",
       "      <td>2017-12-28 18:59:23</td>\n",
       "      <td>2017-12-21 11:59:59</td>\n",
       "      <td>19400</td>\n",
       "      <td>be021417a6acb56b9b50d3fd2714baa8</td>\n",
       "      <td>...</td>\n",
       "      <td>1</td>\n",
       "      <td>89165</td>\n",
       "      <td>14300.0</td>\n",
       "      <td>38.0</td>\n",
       "      <td>34.0</td>\n",
       "      <td>34.0</td>\n",
       "      <td>43928.0</td>\n",
       "      <td>634.595829</td>\n",
       "      <td>0</td>\n",
       "      <td>18</td>\n",
       "    </tr>\n",
       "    <tr>\n",
       "      <th>58</th>\n",
       "      <td>True</td>\n",
       "      <td>66e4624ae69e7dc89bd50222b59f581f</td>\n",
       "      <td>684fa6da5134b9e4dab731e00011712d</td>\n",
       "      <td>2018-03-09 14:50:15</td>\n",
       "      <td>2018-03-09 15:40:39</td>\n",
       "      <td>2018-03-15 00:31:19</td>\n",
       "      <td>2018-04-03 13:28:46</td>\n",
       "      <td>2018-04-02 11:59:59</td>\n",
       "      <td>49030</td>\n",
       "      <td>b37b72d5a56f887725c2862184b8cab8</td>\n",
       "      <td>...</td>\n",
       "      <td>1</td>\n",
       "      <td>3126</td>\n",
       "      <td>150.0</td>\n",
       "      <td>19.0</td>\n",
       "      <td>4.0</td>\n",
       "      <td>11.0</td>\n",
       "      <td>836.0</td>\n",
       "      <td>1727.593999</td>\n",
       "      <td>0</td>\n",
       "      <td>5</td>\n",
       "    </tr>\n",
       "    <tr>\n",
       "      <th>59</th>\n",
       "      <td>True</td>\n",
       "      <td>66e4624ae69e7dc89bd50222b59f581f</td>\n",
       "      <td>684fa6da5134b9e4dab731e00011712d</td>\n",
       "      <td>2018-03-09 14:50:15</td>\n",
       "      <td>2018-03-09 15:40:39</td>\n",
       "      <td>2018-03-15 00:31:19</td>\n",
       "      <td>2018-04-03 13:28:46</td>\n",
       "      <td>2018-04-02 11:59:59</td>\n",
       "      <td>49030</td>\n",
       "      <td>b37b72d5a56f887725c2862184b8cab8</td>\n",
       "      <td>...</td>\n",
       "      <td>2</td>\n",
       "      <td>3126</td>\n",
       "      <td>150.0</td>\n",
       "      <td>19.0</td>\n",
       "      <td>4.0</td>\n",
       "      <td>11.0</td>\n",
       "      <td>836.0</td>\n",
       "      <td>1727.593999</td>\n",
       "      <td>0</td>\n",
       "      <td>5</td>\n",
       "    </tr>\n",
       "    <tr>\n",
       "      <th>110</th>\n",
       "      <td>True</td>\n",
       "      <td>6a0a8bfbbe700284feb0845d95e0867f</td>\n",
       "      <td>68451b39b1314302c08c65a29f1140fc</td>\n",
       "      <td>2017-11-22 11:32:22</td>\n",
       "      <td>2017-11-22 11:46:50</td>\n",
       "      <td>2017-11-27 13:39:35</td>\n",
       "      <td>2017-12-28 19:43:00</td>\n",
       "      <td>2017-12-11 11:59:59</td>\n",
       "      <td>20740</td>\n",
       "      <td>f8a8f05a35976a91aed5cccc3992c357</td>\n",
       "      <td>...</td>\n",
       "      <td>1</td>\n",
       "      <td>14940</td>\n",
       "      <td>1500.0</td>\n",
       "      <td>45.0</td>\n",
       "      <td>15.0</td>\n",
       "      <td>35.0</td>\n",
       "      <td>23625.0</td>\n",
       "      <td>580.439096</td>\n",
       "      <td>0</td>\n",
       "      <td>5</td>\n",
       "    </tr>\n",
       "    <tr>\n",
       "      <th>115</th>\n",
       "      <td>True</td>\n",
       "      <td>a5474c0071dd5d1074e12d417078bbd0</td>\n",
       "      <td>ef15b3240b2083e0487762ee2978d2b8</td>\n",
       "      <td>2018-07-30 22:41:44</td>\n",
       "      <td>2018-08-01 02:50:15</td>\n",
       "      <td>2018-08-02 10:35:00</td>\n",
       "      <td>2018-08-03 19:28:47</td>\n",
       "      <td>2018-08-02 11:59:59</td>\n",
       "      <td>6434</td>\n",
       "      <td>1f75be631e988bb0ad750e60e18d043b</td>\n",
       "      <td>...</td>\n",
       "      <td>1</td>\n",
       "      <td>4208</td>\n",
       "      <td>200.0</td>\n",
       "      <td>25.0</td>\n",
       "      <td>10.0</td>\n",
       "      <td>15.0</td>\n",
       "      <td>3750.0</td>\n",
       "      <td>29.172345</td>\n",
       "      <td>1</td>\n",
       "      <td>1</td>\n",
       "    </tr>\n",
       "    <tr>\n",
       "      <th>122</th>\n",
       "      <td>True</td>\n",
       "      <td>9d531c565e28c3e0d756192f84d8731f</td>\n",
       "      <td>d4faa220408c20e53595d2950f361f3b</td>\n",
       "      <td>2017-11-28 21:00:44</td>\n",
       "      <td>2017-12-01 09:31:15</td>\n",
       "      <td>2017-12-14 20:37:43</td>\n",
       "      <td>2018-01-23 21:38:52</td>\n",
       "      <td>2017-12-22 11:59:59</td>\n",
       "      <td>24933</td>\n",
       "      <td>807b2de93dbb064bbc82dc6ac963bc61</td>\n",
       "      <td>...</td>\n",
       "      <td>1</td>\n",
       "      <td>5734</td>\n",
       "      <td>500.0</td>\n",
       "      <td>16.0</td>\n",
       "      <td>30.0</td>\n",
       "      <td>16.0</td>\n",
       "      <td>7680.0</td>\n",
       "      <td>395.882456</td>\n",
       "      <td>2</td>\n",
       "      <td>13</td>\n",
       "    </tr>\n",
       "    <tr>\n",
       "      <th>128</th>\n",
       "      <td>True</td>\n",
       "      <td>8fc207e94fa91a7649c5a5dab690272a</td>\n",
       "      <td>c69f8b33e62ecb30ff78ae46d7fb9241</td>\n",
       "      <td>2017-11-26 17:49:46</td>\n",
       "      <td>2017-11-26 17:58:34</td>\n",
       "      <td>2017-11-28 23:17:09</td>\n",
       "      <td>2018-01-20 13:42:22</td>\n",
       "      <td>2017-12-19 11:59:59</td>\n",
       "      <td>25540</td>\n",
       "      <td>f2e53dd1670f3c376518263b3f71424d</td>\n",
       "      <td>...</td>\n",
       "      <td>1</td>\n",
       "      <td>14940</td>\n",
       "      <td>1975.0</td>\n",
       "      <td>41.0</td>\n",
       "      <td>13.0</td>\n",
       "      <td>31.0</td>\n",
       "      <td>16523.0</td>\n",
       "      <td>570.563531</td>\n",
       "      <td>0</td>\n",
       "      <td>2</td>\n",
       "    </tr>\n",
       "    <tr>\n",
       "      <th>164</th>\n",
       "      <td>True</td>\n",
       "      <td>33a3edb84b9df4cb49546859b990ac6d</td>\n",
       "      <td>35ec6c1ca9e5844c5ca94214cce16dca</td>\n",
       "      <td>2018-02-21 17:15:49</td>\n",
       "      <td>2018-02-22 16:10:41</td>\n",
       "      <td>2018-02-23 22:42:43</td>\n",
       "      <td>2018-03-22 00:03:53</td>\n",
       "      <td>2018-03-16 11:59:59</td>\n",
       "      <td>36021</td>\n",
       "      <td>389d119b48cf3043d311335e499d9c6b</td>\n",
       "      <td>...</td>\n",
       "      <td>1</td>\n",
       "      <td>15025</td>\n",
       "      <td>1750.0</td>\n",
       "      <td>37.0</td>\n",
       "      <td>22.0</td>\n",
       "      <td>40.0</td>\n",
       "      <td>32560.0</td>\n",
       "      <td>636.114467</td>\n",
       "      <td>0</td>\n",
       "      <td>1</td>\n",
       "    </tr>\n",
       "    <tr>\n",
       "      <th>179</th>\n",
       "      <td>True</td>\n",
       "      <td>1d067305b599c1e0dceb3864056ea527</td>\n",
       "      <td>0489975a325480c9e385e9f135bb13c3</td>\n",
       "      <td>2018-02-14 13:05:17</td>\n",
       "      <td>2018-02-14 13:15:38</td>\n",
       "      <td>2018-02-20 20:12:57</td>\n",
       "      <td>2018-03-09 21:52:36</td>\n",
       "      <td>2018-03-09 11:59:59</td>\n",
       "      <td>14406</td>\n",
       "      <td>2a2d22ae30e026f1893083c8405ca522</td>\n",
       "      <td>...</td>\n",
       "      <td>1</td>\n",
       "      <td>89224</td>\n",
       "      <td>8350.0</td>\n",
       "      <td>50.0</td>\n",
       "      <td>27.0</td>\n",
       "      <td>38.0</td>\n",
       "      <td>51300.0</td>\n",
       "      <td>653.373561</td>\n",
       "      <td>0</td>\n",
       "      <td>6</td>\n",
       "    </tr>\n",
       "    <tr>\n",
       "      <th>225</th>\n",
       "      <td>True</td>\n",
       "      <td>3f849648ffbabb0562c7668f212e3e88</td>\n",
       "      <td>a338f42b6e47cb49d5c5128a348b76ba</td>\n",
       "      <td>2018-05-15 19:55:51</td>\n",
       "      <td>2018-05-16 08:36:57</td>\n",
       "      <td>2018-05-18 15:26:00</td>\n",
       "      <td>2018-06-07 13:58:42</td>\n",
       "      <td>2018-06-06 11:59:59</td>\n",
       "      <td>32425</td>\n",
       "      <td>7bbf8eb1681f6f8ec4b6f0c1c6934718</td>\n",
       "      <td>...</td>\n",
       "      <td>1</td>\n",
       "      <td>3809</td>\n",
       "      <td>800.0</td>\n",
       "      <td>35.0</td>\n",
       "      <td>8.0</td>\n",
       "      <td>35.0</td>\n",
       "      <td>9800.0</td>\n",
       "      <td>461.400738</td>\n",
       "      <td>0</td>\n",
       "      <td>2</td>\n",
       "    </tr>\n",
       "    <tr>\n",
       "      <th>256</th>\n",
       "      <td>True</td>\n",
       "      <td>c82a457d646f77c8f151e12a3e517ed2</td>\n",
       "      <td>c178d6d544925594fafab0ba493cd645</td>\n",
       "      <td>2018-08-08 21:11:25</td>\n",
       "      <td>2018-08-08 21:25:20</td>\n",
       "      <td>2018-08-10 17:10:00</td>\n",
       "      <td>2018-08-15 15:02:09</td>\n",
       "      <td>2018-08-15 11:59:59</td>\n",
       "      <td>13068</td>\n",
       "      <td>81a3f1e46ec16acb4800a5002b014438</td>\n",
       "      <td>...</td>\n",
       "      <td>1</td>\n",
       "      <td>4186</td>\n",
       "      <td>550.0</td>\n",
       "      <td>16.0</td>\n",
       "      <td>10.0</td>\n",
       "      <td>11.0</td>\n",
       "      <td>1760.0</td>\n",
       "      <td>104.235158</td>\n",
       "      <td>0</td>\n",
       "      <td>1</td>\n",
       "    </tr>\n",
       "    <tr>\n",
       "      <th>284</th>\n",
       "      <td>True</td>\n",
       "      <td>f31535f21d145b2345e2bf7f09d62322</td>\n",
       "      <td>ed532487db04478dfba09d112649fc13</td>\n",
       "      <td>2018-02-01 07:47:34</td>\n",
       "      <td>2018-02-01 08:10:31</td>\n",
       "      <td>2018-02-02 00:24:34</td>\n",
       "      <td>2018-04-23 15:49:34</td>\n",
       "      <td>2018-03-05 11:59:59</td>\n",
       "      <td>24350</td>\n",
       "      <td>f196248e8b5d060cca414a664ea9a76f</td>\n",
       "      <td>...</td>\n",
       "      <td>1</td>\n",
       "      <td>88704</td>\n",
       "      <td>1900.0</td>\n",
       "      <td>90.0</td>\n",
       "      <td>14.0</td>\n",
       "      <td>18.0</td>\n",
       "      <td>22680.0</td>\n",
       "      <td>854.391412</td>\n",
       "      <td>0</td>\n",
       "      <td>0</td>\n",
       "    </tr>\n",
       "    <tr>\n",
       "      <th>298</th>\n",
       "      <td>True</td>\n",
       "      <td>fb9b2930f4a30f96c7cc98eaaa85e5f0</td>\n",
       "      <td>02ed2cff54eb047cdbe79dd0535945d4</td>\n",
       "      <td>2017-11-24 14:15:53</td>\n",
       "      <td>2017-11-24 16:19:01</td>\n",
       "      <td>2017-11-30 18:18:50</td>\n",
       "      <td>2017-12-17 10:47:53</td>\n",
       "      <td>2017-12-14 11:59:59</td>\n",
       "      <td>5119</td>\n",
       "      <td>6f9771652ad5ec58e58f50475d6bfe0e</td>\n",
       "      <td>...</td>\n",
       "      <td>1</td>\n",
       "      <td>14940</td>\n",
       "      <td>1200.0</td>\n",
       "      <td>39.0</td>\n",
       "      <td>30.0</td>\n",
       "      <td>39.0</td>\n",
       "      <td>45630.0</td>\n",
       "      <td>287.765376</td>\n",
       "      <td>0</td>\n",
       "      <td>6</td>\n",
       "    </tr>\n",
       "    <tr>\n",
       "      <th>301</th>\n",
       "      <td>True</td>\n",
       "      <td>2c3a5e5f5bc3ae78ed5748461e62d47d</td>\n",
       "      <td>5f2bc926ec92aa65c33b70ed59e74175</td>\n",
       "      <td>2018-01-22 19:22:26</td>\n",
       "      <td>2018-01-22 19:36:30</td>\n",
       "      <td>2018-01-24 00:34:56</td>\n",
       "      <td>2018-02-06 15:49:01</td>\n",
       "      <td>2018-02-06 11:59:59</td>\n",
       "      <td>18080</td>\n",
       "      <td>d8de812ed5d981fc6a3984f4caa2aa05</td>\n",
       "      <td>...</td>\n",
       "      <td>1</td>\n",
       "      <td>13456</td>\n",
       "      <td>525.0</td>\n",
       "      <td>29.0</td>\n",
       "      <td>16.0</td>\n",
       "      <td>20.0</td>\n",
       "      <td>9280.0</td>\n",
       "      <td>81.005861</td>\n",
       "      <td>0</td>\n",
       "      <td>1</td>\n",
       "    </tr>\n",
       "    <tr>\n",
       "      <th>346</th>\n",
       "      <td>True</td>\n",
       "      <td>4906eeadde5f70b308c20c4a8f20be02</td>\n",
       "      <td>4e7656e34357b93f14b40c6400ca3f6e</td>\n",
       "      <td>2017-12-08 04:45:26</td>\n",
       "      <td>2017-12-12 03:50:30</td>\n",
       "      <td>2017-12-12 17:43:21</td>\n",
       "      <td>2018-01-09 18:04:58</td>\n",
       "      <td>2018-01-03 11:59:59</td>\n",
       "      <td>23065</td>\n",
       "      <td>ee406bf28024d97771c4b1e8b7e8e219</td>\n",
       "      <td>...</td>\n",
       "      <td>1</td>\n",
       "      <td>3426</td>\n",
       "      <td>1050.0</td>\n",
       "      <td>36.0</td>\n",
       "      <td>24.0</td>\n",
       "      <td>22.0</td>\n",
       "      <td>19008.0</td>\n",
       "      <td>306.176159</td>\n",
       "      <td>3</td>\n",
       "      <td>0</td>\n",
       "    </tr>\n",
       "    <tr>\n",
       "      <th>381</th>\n",
       "      <td>True</td>\n",
       "      <td>f11e9516ca2b6091b64f2e2ea0ebebb3</td>\n",
       "      <td>7d527c98f408420a9d5c953e5b89215e</td>\n",
       "      <td>2018-02-22 20:53:14</td>\n",
       "      <td>2018-02-22 21:28:02</td>\n",
       "      <td>2018-02-23 23:19:09</td>\n",
       "      <td>2018-03-28 22:04:44</td>\n",
       "      <td>2018-03-19 11:59:59</td>\n",
       "      <td>37410</td>\n",
       "      <td>7a10781637204d8d10485c71a6108a2e</td>\n",
       "      <td>...</td>\n",
       "      <td>1</td>\n",
       "      <td>14840</td>\n",
       "      <td>342.0</td>\n",
       "      <td>18.0</td>\n",
       "      <td>13.0</td>\n",
       "      <td>15.0</td>\n",
       "      <td>3510.0</td>\n",
       "      <td>309.894166</td>\n",
       "      <td>0</td>\n",
       "      <td>1</td>\n",
       "    </tr>\n",
       "    <tr>\n",
       "      <th>423</th>\n",
       "      <td>True</td>\n",
       "      <td>5342acb7b183acec77f59e4d78f7c804</td>\n",
       "      <td>4d493a5e3a53373d3bc26a01575a71dc</td>\n",
       "      <td>2018-03-29 20:53:48</td>\n",
       "      <td>2018-03-31 10:07:45</td>\n",
       "      <td>2018-04-04 17:44:32</td>\n",
       "      <td>2018-04-24 16:10:44</td>\n",
       "      <td>2018-04-24 11:59:59</td>\n",
       "      <td>43700</td>\n",
       "      <td>0da9ffd92214425d880de3f94e74ce39</td>\n",
       "      <td>...</td>\n",
       "      <td>1</td>\n",
       "      <td>29156</td>\n",
       "      <td>10900.0</td>\n",
       "      <td>39.0</td>\n",
       "      <td>12.0</td>\n",
       "      <td>42.0</td>\n",
       "      <td>19656.0</td>\n",
       "      <td>862.405919</td>\n",
       "      <td>1</td>\n",
       "      <td>4</td>\n",
       "    </tr>\n",
       "    <tr>\n",
       "      <th>443</th>\n",
       "      <td>True</td>\n",
       "      <td>884b1394fc8888e6a877df86eb19e74c</td>\n",
       "      <td>7ee968b8ed74301e0cbd3e44416cad9d</td>\n",
       "      <td>2018-03-19 21:50:14</td>\n",
       "      <td>2018-03-19 22:08:28</td>\n",
       "      <td>2018-03-27 14:04:29</td>\n",
       "      <td>2018-03-29 17:32:05</td>\n",
       "      <td>2018-03-29 11:59:59</td>\n",
       "      <td>6332</td>\n",
       "      <td>437c05a395e9e47f9762e677a7068ce7</td>\n",
       "      <td>...</td>\n",
       "      <td>1</td>\n",
       "      <td>13330</td>\n",
       "      <td>1110.0</td>\n",
       "      <td>19.0</td>\n",
       "      <td>11.0</td>\n",
       "      <td>18.0</td>\n",
       "      <td>3762.0</td>\n",
       "      <td>64.230438</td>\n",
       "      <td>0</td>\n",
       "      <td>7</td>\n",
       "    </tr>\n",
       "    <tr>\n",
       "      <th>494</th>\n",
       "      <td>True</td>\n",
       "      <td>7b58fca3faf09217a36d5febee5739a5</td>\n",
       "      <td>0966fbba1c0e8c5e26e31166c2fd3ce8</td>\n",
       "      <td>2018-03-04 22:59:50</td>\n",
       "      <td>2018-03-04 23:15:32</td>\n",
       "      <td>2018-03-06 16:49:08</td>\n",
       "      <td>2018-04-12 21:04:01</td>\n",
       "      <td>2018-03-28 11:59:59</td>\n",
       "      <td>74643</td>\n",
       "      <td>b8a0d73b2a06e7910d9864dccdb0cda2</td>\n",
       "      <td>...</td>\n",
       "      <td>1</td>\n",
       "      <td>25645</td>\n",
       "      <td>371.0</td>\n",
       "      <td>20.0</td>\n",
       "      <td>16.0</td>\n",
       "      <td>16.0</td>\n",
       "      <td>5120.0</td>\n",
       "      <td>909.082166</td>\n",
       "      <td>0</td>\n",
       "      <td>1</td>\n",
       "    </tr>\n",
       "    <tr>\n",
       "      <th>495</th>\n",
       "      <td>True</td>\n",
       "      <td>f30607daae66843552e00843c6de88ef</td>\n",
       "      <td>8e1769459d9b9a9989799f6c79a4a663</td>\n",
       "      <td>2018-02-21 13:18:37</td>\n",
       "      <td>2018-02-23 02:31:22</td>\n",
       "      <td>2018-03-05 23:44:55</td>\n",
       "      <td>2018-04-12 11:36:51</td>\n",
       "      <td>2018-03-27 11:59:59</td>\n",
       "      <td>28380</td>\n",
       "      <td>aed75ad669fbebd5a385ac7cc2ae7573</td>\n",
       "      <td>...</td>\n",
       "      <td>1</td>\n",
       "      <td>3908</td>\n",
       "      <td>30000.0</td>\n",
       "      <td>50.0</td>\n",
       "      <td>75.0</td>\n",
       "      <td>56.0</td>\n",
       "      <td>210000.0</td>\n",
       "      <td>545.087630</td>\n",
       "      <td>1</td>\n",
       "      <td>10</td>\n",
       "    </tr>\n",
       "    <tr>\n",
       "      <th>498</th>\n",
       "      <td>True</td>\n",
       "      <td>4f7ce3efe568a5e57290a9fa3e45b1f5</td>\n",
       "      <td>2569d6c5ed547bf0feaf37e32677fdaa</td>\n",
       "      <td>2018-01-26 13:32:22</td>\n",
       "      <td>2018-01-26 13:52:07</td>\n",
       "      <td>2018-01-29 23:16:01</td>\n",
       "      <td>2018-03-08 11:15:57</td>\n",
       "      <td>2018-02-21 11:59:59</td>\n",
       "      <td>64056</td>\n",
       "      <td>cb460986a447ed00da792526bf6189e4</td>\n",
       "      <td>...</td>\n",
       "      <td>1</td>\n",
       "      <td>5303</td>\n",
       "      <td>340.0</td>\n",
       "      <td>18.0</td>\n",
       "      <td>13.0</td>\n",
       "      <td>16.0</td>\n",
       "      <td>3744.0</td>\n",
       "      <td>2097.368714</td>\n",
       "      <td>0</td>\n",
       "      <td>3</td>\n",
       "    </tr>\n",
       "    <tr>\n",
       "      <th>505</th>\n",
       "      <td>True</td>\n",
       "      <td>580c882a5805c78546ea65ec6d3690e4</td>\n",
       "      <td>a4f6fc82eefc6a54376eea73b27df682</td>\n",
       "      <td>2018-02-05 17:40:34</td>\n",
       "      <td>2018-02-05 17:50:41</td>\n",
       "      <td>2018-02-07 22:38:31</td>\n",
       "      <td>2018-03-06 16:59:05</td>\n",
       "      <td>2018-03-02 11:59:59</td>\n",
       "      <td>23058</td>\n",
       "      <td>48f866f20b5b6015a324210988e73387</td>\n",
       "      <td>...</td>\n",
       "      <td>1</td>\n",
       "      <td>14940</td>\n",
       "      <td>1850.0</td>\n",
       "      <td>45.0</td>\n",
       "      <td>15.0</td>\n",
       "      <td>35.0</td>\n",
       "      <td>23625.0</td>\n",
       "      <td>551.124220</td>\n",
       "      <td>0</td>\n",
       "      <td>2</td>\n",
       "    </tr>\n",
       "    <tr>\n",
       "      <th>539</th>\n",
       "      <td>True</td>\n",
       "      <td>9472d3c8a0ad463cbfc89897334431da</td>\n",
       "      <td>7e016f9ea275279784f42e0642214284</td>\n",
       "      <td>2017-11-20 16:21:04</td>\n",
       "      <td>2017-11-21 09:50:30</td>\n",
       "      <td>2017-11-22 19:48:47</td>\n",
       "      <td>2017-12-21 14:22:54</td>\n",
       "      <td>2017-12-12 11:59:59</td>\n",
       "      <td>60764</td>\n",
       "      <td>9036be77e0a74cca6eeef0740649b97b</td>\n",
       "      <td>...</td>\n",
       "      <td>1</td>\n",
       "      <td>5530</td>\n",
       "      <td>405.0</td>\n",
       "      <td>21.0</td>\n",
       "      <td>7.0</td>\n",
       "      <td>15.0</td>\n",
       "      <td>2205.0</td>\n",
       "      <td>2367.099305</td>\n",
       "      <td>0</td>\n",
       "      <td>1</td>\n",
       "    </tr>\n",
       "    <tr>\n",
       "      <th>547</th>\n",
       "      <td>True</td>\n",
       "      <td>0fc34e566d3273325c404c113f4a8b2a</td>\n",
       "      <td>ae9cc596d22235c547acce001f90fc33</td>\n",
       "      <td>2017-11-02 14:51:11</td>\n",
       "      <td>2017-11-02 15:10:35</td>\n",
       "      <td>2017-11-06 20:28:43</td>\n",
       "      <td>2017-12-01 18:06:48</td>\n",
       "      <td>2017-11-27 11:59:59</td>\n",
       "      <td>74675</td>\n",
       "      <td>8896b8c893a3dc9e5a6d10e00bada716</td>\n",
       "      <td>...</td>\n",
       "      <td>1</td>\n",
       "      <td>14050</td>\n",
       "      <td>500.0</td>\n",
       "      <td>16.0</td>\n",
       "      <td>7.0</td>\n",
       "      <td>13.0</td>\n",
       "      <td>1456.0</td>\n",
       "      <td>527.405180</td>\n",
       "      <td>0</td>\n",
       "      <td>4</td>\n",
       "    </tr>\n",
       "    <tr>\n",
       "      <th>578</th>\n",
       "      <td>True</td>\n",
       "      <td>18d686f1bb1270182c646fe337459d79</td>\n",
       "      <td>bbf7be5b7db9baf4509ae4573c8570b4</td>\n",
       "      <td>2018-02-15 15:07:11</td>\n",
       "      <td>2018-02-15 15:27:08</td>\n",
       "      <td>2018-02-17 00:14:57</td>\n",
       "      <td>2018-03-11 19:28:52</td>\n",
       "      <td>2018-03-07 11:59:59</td>\n",
       "      <td>3144</td>\n",
       "      <td>7945bb528c42095fccdf46321742afce</td>\n",
       "      <td>...</td>\n",
       "      <td>1</td>\n",
       "      <td>13290</td>\n",
       "      <td>775.0</td>\n",
       "      <td>44.0</td>\n",
       "      <td>3.0</td>\n",
       "      <td>34.0</td>\n",
       "      <td>4488.0</td>\n",
       "      <td>70.288394</td>\n",
       "      <td>0</td>\n",
       "      <td>1</td>\n",
       "    </tr>\n",
       "    <tr>\n",
       "      <th>592</th>\n",
       "      <td>True</td>\n",
       "      <td>eafef0e6c44f121531569a69a318c3b3</td>\n",
       "      <td>084dab2db2bf5d42677b135e633a15ba</td>\n",
       "      <td>2017-11-29 13:03:33</td>\n",
       "      <td>2017-11-29 13:12:28</td>\n",
       "      <td>2017-12-04 19:18:09</td>\n",
       "      <td>2018-01-09 16:32:21</td>\n",
       "      <td>2017-12-27 11:59:59</td>\n",
       "      <td>90410</td>\n",
       "      <td>e1901d5d99ca951543717ea5d1940a36</td>\n",
       "      <td>...</td>\n",
       "      <td>1</td>\n",
       "      <td>13257</td>\n",
       "      <td>500.0</td>\n",
       "      <td>31.0</td>\n",
       "      <td>7.0</td>\n",
       "      <td>27.0</td>\n",
       "      <td>5859.0</td>\n",
       "      <td>893.745759</td>\n",
       "      <td>0</td>\n",
       "      <td>5</td>\n",
       "    </tr>\n",
       "    <tr>\n",
       "      <th>602</th>\n",
       "      <td>True</td>\n",
       "      <td>7753606fb1d0067848f8a1a7ae5abefa</td>\n",
       "      <td>5c4a6f6b98ec2d780b10f1cc88ef208f</td>\n",
       "      <td>2018-05-02 13:17:54</td>\n",
       "      <td>2018-05-02 15:58:53</td>\n",
       "      <td>2018-05-04 15:20:00</td>\n",
       "      <td>2018-05-23 17:51:15</td>\n",
       "      <td>2018-05-16 11:59:59</td>\n",
       "      <td>4856</td>\n",
       "      <td>d63c1011f49d98b976c352955b1c4bea</td>\n",
       "      <td>...</td>\n",
       "      <td>1</td>\n",
       "      <td>9015</td>\n",
       "      <td>950.0</td>\n",
       "      <td>35.0</td>\n",
       "      <td>25.0</td>\n",
       "      <td>20.0</td>\n",
       "      <td>17500.0</td>\n",
       "      <td>21.494789</td>\n",
       "      <td>0</td>\n",
       "      <td>1</td>\n",
       "    </tr>\n",
       "    <tr>\n",
       "      <th>603</th>\n",
       "      <td>True</td>\n",
       "      <td>7753606fb1d0067848f8a1a7ae5abefa</td>\n",
       "      <td>5c4a6f6b98ec2d780b10f1cc88ef208f</td>\n",
       "      <td>2018-05-02 13:17:54</td>\n",
       "      <td>2018-05-02 15:58:53</td>\n",
       "      <td>2018-05-04 15:20:00</td>\n",
       "      <td>2018-05-23 17:51:15</td>\n",
       "      <td>2018-05-16 11:59:59</td>\n",
       "      <td>4856</td>\n",
       "      <td>d63c1011f49d98b976c352955b1c4bea</td>\n",
       "      <td>...</td>\n",
       "      <td>2</td>\n",
       "      <td>9015</td>\n",
       "      <td>950.0</td>\n",
       "      <td>35.0</td>\n",
       "      <td>25.0</td>\n",
       "      <td>20.0</td>\n",
       "      <td>17500.0</td>\n",
       "      <td>21.494789</td>\n",
       "      <td>0</td>\n",
       "      <td>1</td>\n",
       "    </tr>\n",
       "    <tr>\n",
       "      <th>...</th>\n",
       "      <td>...</td>\n",
       "      <td>...</td>\n",
       "      <td>...</td>\n",
       "      <td>...</td>\n",
       "      <td>...</td>\n",
       "      <td>...</td>\n",
       "      <td>...</td>\n",
       "      <td>...</td>\n",
       "      <td>...</td>\n",
       "      <td>...</td>\n",
       "      <td>...</td>\n",
       "      <td>...</td>\n",
       "      <td>...</td>\n",
       "      <td>...</td>\n",
       "      <td>...</td>\n",
       "      <td>...</td>\n",
       "      <td>...</td>\n",
       "      <td>...</td>\n",
       "      <td>...</td>\n",
       "      <td>...</td>\n",
       "      <td>...</td>\n",
       "    </tr>\n",
       "    <tr>\n",
       "      <th>109089</th>\n",
       "      <td>True</td>\n",
       "      <td>779a7c41849463b9f08aacd3d948a82c</td>\n",
       "      <td>76ad602d5f0774e99cc144e8942ff0af</td>\n",
       "      <td>2017-10-24 18:17:41</td>\n",
       "      <td>2017-10-26 17:08:03</td>\n",
       "      <td>2017-10-30 19:07:56</td>\n",
       "      <td>2017-11-16 15:42:13</td>\n",
       "      <td>2017-11-10 11:59:59</td>\n",
       "      <td>15895</td>\n",
       "      <td>0502d1a36be75bd36b452f31c6ed264a</td>\n",
       "      <td>...</td>\n",
       "      <td>1</td>\n",
       "      <td>7133</td>\n",
       "      <td>100.0</td>\n",
       "      <td>16.0</td>\n",
       "      <td>7.0</td>\n",
       "      <td>11.0</td>\n",
       "      <td>1232.0</td>\n",
       "      <td>398.819525</td>\n",
       "      <td>1</td>\n",
       "      <td>4</td>\n",
       "    </tr>\n",
       "    <tr>\n",
       "      <th>109135</th>\n",
       "      <td>True</td>\n",
       "      <td>5333db16fe357175d39c82840dd3269d</td>\n",
       "      <td>7e008e5ec21e044fe30c34ec4e9d0747</td>\n",
       "      <td>2018-03-10 18:18:20</td>\n",
       "      <td>2018-03-13 04:08:22</td>\n",
       "      <td>2018-03-13 17:58:52</td>\n",
       "      <td>2018-04-03 15:32:52</td>\n",
       "      <td>2018-03-29 11:59:59</td>\n",
       "      <td>8141</td>\n",
       "      <td>4deb009c36a910076a023947a7929201</td>\n",
       "      <td>...</td>\n",
       "      <td>1</td>\n",
       "      <td>24020</td>\n",
       "      <td>157.0</td>\n",
       "      <td>17.0</td>\n",
       "      <td>8.0</td>\n",
       "      <td>13.0</td>\n",
       "      <td>1768.0</td>\n",
       "      <td>341.898579</td>\n",
       "      <td>2</td>\n",
       "      <td>0</td>\n",
       "    </tr>\n",
       "    <tr>\n",
       "      <th>109136</th>\n",
       "      <td>True</td>\n",
       "      <td>5333db16fe357175d39c82840dd3269d</td>\n",
       "      <td>7e008e5ec21e044fe30c34ec4e9d0747</td>\n",
       "      <td>2018-03-10 18:18:20</td>\n",
       "      <td>2018-03-13 04:08:22</td>\n",
       "      <td>2018-03-13 17:58:52</td>\n",
       "      <td>2018-04-03 15:32:52</td>\n",
       "      <td>2018-03-29 11:59:59</td>\n",
       "      <td>8141</td>\n",
       "      <td>4deb009c36a910076a023947a7929201</td>\n",
       "      <td>...</td>\n",
       "      <td>2</td>\n",
       "      <td>24020</td>\n",
       "      <td>157.0</td>\n",
       "      <td>17.0</td>\n",
       "      <td>8.0</td>\n",
       "      <td>13.0</td>\n",
       "      <td>1768.0</td>\n",
       "      <td>341.898579</td>\n",
       "      <td>2</td>\n",
       "      <td>0</td>\n",
       "    </tr>\n",
       "    <tr>\n",
       "      <th>109164</th>\n",
       "      <td>True</td>\n",
       "      <td>bd3a4f4d1e523b01043f634836a0b4c5</td>\n",
       "      <td>d9a4e05b8c763933f3a6c9640d64a75d</td>\n",
       "      <td>2017-11-24 23:59:48</td>\n",
       "      <td>2017-11-25 02:53:52</td>\n",
       "      <td>2017-11-28 00:04:34</td>\n",
       "      <td>2017-12-28 15:05:22</td>\n",
       "      <td>2017-12-18 11:59:59</td>\n",
       "      <td>28613</td>\n",
       "      <td>0d1d0db051b49daf3c58068768d8fd2d</td>\n",
       "      <td>...</td>\n",
       "      <td>1</td>\n",
       "      <td>8752</td>\n",
       "      <td>500.0</td>\n",
       "      <td>16.0</td>\n",
       "      <td>45.0</td>\n",
       "      <td>12.0</td>\n",
       "      <td>8640.0</td>\n",
       "      <td>406.869031</td>\n",
       "      <td>0</td>\n",
       "      <td>2</td>\n",
       "    </tr>\n",
       "    <tr>\n",
       "      <th>109170</th>\n",
       "      <td>True</td>\n",
       "      <td>4add09b525bbbd66f6571658ca867401</td>\n",
       "      <td>2d78b0188c99bc38d9944aa2fdb67258</td>\n",
       "      <td>2017-11-25 20:28:22</td>\n",
       "      <td>2017-11-25 20:38:32</td>\n",
       "      <td>2017-11-29 02:52:05</td>\n",
       "      <td>2017-12-19 14:47:05</td>\n",
       "      <td>2017-12-19 11:59:59</td>\n",
       "      <td>88034</td>\n",
       "      <td>b7f980dbd49d4059a8c4acbada394e4b</td>\n",
       "      <td>...</td>\n",
       "      <td>1</td>\n",
       "      <td>7133</td>\n",
       "      <td>400.0</td>\n",
       "      <td>16.0</td>\n",
       "      <td>7.0</td>\n",
       "      <td>11.0</td>\n",
       "      <td>1232.0</td>\n",
       "      <td>501.850552</td>\n",
       "      <td>0</td>\n",
       "      <td>3</td>\n",
       "    </tr>\n",
       "    <tr>\n",
       "      <th>109192</th>\n",
       "      <td>True</td>\n",
       "      <td>6cbe4707ae0b201a8d5a8b16dea28800</td>\n",
       "      <td>cae4015fe5f8696787e39009137f4440</td>\n",
       "      <td>2018-05-15 16:22:18</td>\n",
       "      <td>2018-05-15 16:36:58</td>\n",
       "      <td>2018-05-16 09:47:00</td>\n",
       "      <td>2018-05-28 18:37:27</td>\n",
       "      <td>2018-05-23 11:59:59</td>\n",
       "      <td>13183</td>\n",
       "      <td>fc7138a8f96aee8302e42916bbbbb818</td>\n",
       "      <td>...</td>\n",
       "      <td>1</td>\n",
       "      <td>4250</td>\n",
       "      <td>161.0</td>\n",
       "      <td>19.0</td>\n",
       "      <td>8.0</td>\n",
       "      <td>17.0</td>\n",
       "      <td>2584.0</td>\n",
       "      <td>107.213278</td>\n",
       "      <td>0</td>\n",
       "      <td>0</td>\n",
       "    </tr>\n",
       "    <tr>\n",
       "      <th>109207</th>\n",
       "      <td>True</td>\n",
       "      <td>65aafdaa712c5cbf87a06041a8606907</td>\n",
       "      <td>679c8904ab29adbc9094871de22ff44b</td>\n",
       "      <td>2018-03-13 17:06:49</td>\n",
       "      <td>2018-03-13 17:29:31</td>\n",
       "      <td>2018-03-19 18:08:37</td>\n",
       "      <td>2018-04-04 01:08:24</td>\n",
       "      <td>2018-03-29 11:59:59</td>\n",
       "      <td>11095</td>\n",
       "      <td>d70f38e7f79c630f8ea00c993897042c</td>\n",
       "      <td>...</td>\n",
       "      <td>1</td>\n",
       "      <td>14910</td>\n",
       "      <td>10950.0</td>\n",
       "      <td>41.0</td>\n",
       "      <td>40.0</td>\n",
       "      <td>40.0</td>\n",
       "      <td>65600.0</td>\n",
       "      <td>340.634789</td>\n",
       "      <td>0</td>\n",
       "      <td>6</td>\n",
       "    </tr>\n",
       "    <tr>\n",
       "      <th>109221</th>\n",
       "      <td>True</td>\n",
       "      <td>4f2a29346d25613d2e553a8d6381b006</td>\n",
       "      <td>3043e244f2c35c95554a613c30a7a332</td>\n",
       "      <td>2018-03-15 23:18:16</td>\n",
       "      <td>2018-03-15 23:28:29</td>\n",
       "      <td>2018-03-16 19:28:48</td>\n",
       "      <td>2018-04-20 11:12:30</td>\n",
       "      <td>2018-04-10 11:59:59</td>\n",
       "      <td>47802</td>\n",
       "      <td>25c38557cf793876c5abdd5931f922db</td>\n",
       "      <td>...</td>\n",
       "      <td>1</td>\n",
       "      <td>13450</td>\n",
       "      <td>15800.0</td>\n",
       "      <td>38.0</td>\n",
       "      <td>62.0</td>\n",
       "      <td>57.0</td>\n",
       "      <td>134292.0</td>\n",
       "      <td>1209.887736</td>\n",
       "      <td>0</td>\n",
       "      <td>0</td>\n",
       "    </tr>\n",
       "    <tr>\n",
       "      <th>109222</th>\n",
       "      <td>True</td>\n",
       "      <td>fbffb0b287b62d10b5a1c24a29ae16ea</td>\n",
       "      <td>0a952ecdee3346648d2dca69c55853d1</td>\n",
       "      <td>2017-09-26 10:51:26</td>\n",
       "      <td>2017-09-26 11:04:34</td>\n",
       "      <td>2017-09-27 15:33:56</td>\n",
       "      <td>2017-10-19 00:08:00</td>\n",
       "      <td>2017-10-11 11:59:59</td>\n",
       "      <td>13504</td>\n",
       "      <td>f0a06cc25ae22358b10378bf4dafdf0a</td>\n",
       "      <td>...</td>\n",
       "      <td>1</td>\n",
       "      <td>14910</td>\n",
       "      <td>6450.0</td>\n",
       "      <td>62.0</td>\n",
       "      <td>35.0</td>\n",
       "      <td>52.0</td>\n",
       "      <td>112840.0</td>\n",
       "      <td>134.985589</td>\n",
       "      <td>0</td>\n",
       "      <td>1</td>\n",
       "    </tr>\n",
       "    <tr>\n",
       "      <th>109235</th>\n",
       "      <td>True</td>\n",
       "      <td>31a7dd4d08e48968ab49478c64c7075a</td>\n",
       "      <td>f2ad8c1d461bb9d11944d8ab973f3836</td>\n",
       "      <td>2018-01-14 17:18:45</td>\n",
       "      <td>2018-01-16 03:39:56</td>\n",
       "      <td>2018-02-09 16:38:01</td>\n",
       "      <td>2018-02-14 16:07:43</td>\n",
       "      <td>2018-01-30 11:59:59</td>\n",
       "      <td>9911</td>\n",
       "      <td>c8f57335e06d8d4e73e34057dc92cfbe</td>\n",
       "      <td>...</td>\n",
       "      <td>1</td>\n",
       "      <td>13145</td>\n",
       "      <td>300.0</td>\n",
       "      <td>16.0</td>\n",
       "      <td>2.0</td>\n",
       "      <td>11.0</td>\n",
       "      <td>352.0</td>\n",
       "      <td>121.483549</td>\n",
       "      <td>1</td>\n",
       "      <td>24</td>\n",
       "    </tr>\n",
       "    <tr>\n",
       "      <th>109236</th>\n",
       "      <td>True</td>\n",
       "      <td>31a7dd4d08e48968ab49478c64c7075a</td>\n",
       "      <td>f2ad8c1d461bb9d11944d8ab973f3836</td>\n",
       "      <td>2018-01-14 17:18:45</td>\n",
       "      <td>2018-01-16 03:39:56</td>\n",
       "      <td>2018-02-09 16:38:01</td>\n",
       "      <td>2018-02-14 16:07:43</td>\n",
       "      <td>2018-01-30 11:59:59</td>\n",
       "      <td>9911</td>\n",
       "      <td>c8f57335e06d8d4e73e34057dc92cfbe</td>\n",
       "      <td>...</td>\n",
       "      <td>2</td>\n",
       "      <td>13145</td>\n",
       "      <td>300.0</td>\n",
       "      <td>16.0</td>\n",
       "      <td>2.0</td>\n",
       "      <td>11.0</td>\n",
       "      <td>352.0</td>\n",
       "      <td>121.483549</td>\n",
       "      <td>1</td>\n",
       "      <td>24</td>\n",
       "    </tr>\n",
       "    <tr>\n",
       "      <th>109264</th>\n",
       "      <td>True</td>\n",
       "      <td>4a4ded48a84c0cee9a190dd22ce96866</td>\n",
       "      <td>2b22da03dd8511de17c84238e49082f9</td>\n",
       "      <td>2017-12-28 21:32:44</td>\n",
       "      <td>2017-12-29 02:09:39</td>\n",
       "      <td>2018-01-03 15:38:32</td>\n",
       "      <td>2018-02-25 14:54:29</td>\n",
       "      <td>2018-01-30 11:59:59</td>\n",
       "      <td>25660</td>\n",
       "      <td>11ebbade0d9bf72ea23f49ef78f4b6b8</td>\n",
       "      <td>...</td>\n",
       "      <td>1</td>\n",
       "      <td>31255</td>\n",
       "      <td>600.0</td>\n",
       "      <td>20.0</td>\n",
       "      <td>10.0</td>\n",
       "      <td>20.0</td>\n",
       "      <td>4000.0</td>\n",
       "      <td>303.088187</td>\n",
       "      <td>0</td>\n",
       "      <td>5</td>\n",
       "    </tr>\n",
       "    <tr>\n",
       "      <th>109265</th>\n",
       "      <td>True</td>\n",
       "      <td>ad369c5a6bd2534d48420216de8fd8f5</td>\n",
       "      <td>c4166318f0d95d4ff6e243c05b407d21</td>\n",
       "      <td>2018-01-29 15:19:13</td>\n",
       "      <td>2018-01-30 15:31:50</td>\n",
       "      <td>2018-01-31 20:54:01</td>\n",
       "      <td>2018-02-21 17:46:45</td>\n",
       "      <td>2018-02-21 11:59:59</td>\n",
       "      <td>29024</td>\n",
       "      <td>dc52f0f5d3ec37a93eaf956cde4e5d2c</td>\n",
       "      <td>...</td>\n",
       "      <td>1</td>\n",
       "      <td>5849</td>\n",
       "      <td>400.0</td>\n",
       "      <td>16.0</td>\n",
       "      <td>2.0</td>\n",
       "      <td>20.0</td>\n",
       "      <td>640.0</td>\n",
       "      <td>759.191452</td>\n",
       "      <td>1</td>\n",
       "      <td>1</td>\n",
       "    </tr>\n",
       "    <tr>\n",
       "      <th>109270</th>\n",
       "      <td>True</td>\n",
       "      <td>25f6cb0e242a4c0bacc239397614422e</td>\n",
       "      <td>c3e28a954146468597f1dfe3ab014eab</td>\n",
       "      <td>2017-11-20 12:50:49</td>\n",
       "      <td>2017-11-21 04:06:25</td>\n",
       "      <td>2017-11-27 22:04:13</td>\n",
       "      <td>2017-12-22 19:52:48</td>\n",
       "      <td>2017-12-21 11:59:59</td>\n",
       "      <td>55200</td>\n",
       "      <td>9394a725ee7e3f1da0d6b22b046cc8d4</td>\n",
       "      <td>...</td>\n",
       "      <td>1</td>\n",
       "      <td>18500</td>\n",
       "      <td>1860.0</td>\n",
       "      <td>45.0</td>\n",
       "      <td>20.0</td>\n",
       "      <td>43.0</td>\n",
       "      <td>38700.0</td>\n",
       "      <td>2019.124247</td>\n",
       "      <td>0</td>\n",
       "      <td>6</td>\n",
       "    </tr>\n",
       "    <tr>\n",
       "      <th>109279</th>\n",
       "      <td>True</td>\n",
       "      <td>85a543ebc5aa8bcbbf7974c03ed49ca2</td>\n",
       "      <td>595de27f827cc4d79a6fcd48ee602c0c</td>\n",
       "      <td>2018-03-07 00:13:00</td>\n",
       "      <td>2018-03-07 00:31:20</td>\n",
       "      <td>2018-03-07 21:13:01</td>\n",
       "      <td>2018-04-05 23:03:15</td>\n",
       "      <td>2018-03-29 11:59:59</td>\n",
       "      <td>86010</td>\n",
       "      <td>f40876e0ef3cd5f9132b1f16b04b1346</td>\n",
       "      <td>...</td>\n",
       "      <td>1</td>\n",
       "      <td>25645</td>\n",
       "      <td>427.0</td>\n",
       "      <td>15.0</td>\n",
       "      <td>17.0</td>\n",
       "      <td>14.0</td>\n",
       "      <td>3570.0</td>\n",
       "      <td>818.391436</td>\n",
       "      <td>0</td>\n",
       "      <td>0</td>\n",
       "    </tr>\n",
       "    <tr>\n",
       "      <th>109340</th>\n",
       "      <td>True</td>\n",
       "      <td>f3a0df8637066be632ea188f5902c162</td>\n",
       "      <td>4718c9b5ecaee126f5b4db1bd06e3cdd</td>\n",
       "      <td>2018-04-28 18:09:07</td>\n",
       "      <td>2018-04-28 18:29:55</td>\n",
       "      <td>2018-04-30 14:40:00</td>\n",
       "      <td>2018-05-16 20:56:54</td>\n",
       "      <td>2018-05-11 11:59:59</td>\n",
       "      <td>30535</td>\n",
       "      <td>832137af5164ffb89cf407d686aa2d0d</td>\n",
       "      <td>...</td>\n",
       "      <td>1</td>\n",
       "      <td>31140</td>\n",
       "      <td>100.0</td>\n",
       "      <td>16.0</td>\n",
       "      <td>2.0</td>\n",
       "      <td>13.0</td>\n",
       "      <td>416.0</td>\n",
       "      <td>7.083379</td>\n",
       "      <td>0</td>\n",
       "      <td>1</td>\n",
       "    </tr>\n",
       "    <tr>\n",
       "      <th>109359</th>\n",
       "      <td>True</td>\n",
       "      <td>74d882fe8bdccca5952fbe23321ecfa7</td>\n",
       "      <td>784ea06d707eeb460893a573fa879dc2</td>\n",
       "      <td>2018-05-20 01:24:02</td>\n",
       "      <td>2018-05-20 08:17:29</td>\n",
       "      <td>2018-05-22 12:39:00</td>\n",
       "      <td>2018-06-11 13:34:28</td>\n",
       "      <td>2018-06-07 11:59:59</td>\n",
       "      <td>27332</td>\n",
       "      <td>9e9a222ec8c28d9ab56658263c17f16c</td>\n",
       "      <td>...</td>\n",
       "      <td>1</td>\n",
       "      <td>3186</td>\n",
       "      <td>1150.0</td>\n",
       "      <td>20.0</td>\n",
       "      <td>20.0</td>\n",
       "      <td>20.0</td>\n",
       "      <td>8000.0</td>\n",
       "      <td>275.548463</td>\n",
       "      <td>0</td>\n",
       "      <td>2</td>\n",
       "    </tr>\n",
       "    <tr>\n",
       "      <th>109370</th>\n",
       "      <td>True</td>\n",
       "      <td>b5d08e6b71d4af8f816daf169014c908</td>\n",
       "      <td>c3e4865228356afd7819b3ebe77332bf</td>\n",
       "      <td>2017-12-04 09:56:29</td>\n",
       "      <td>2017-12-05 10:03:30</td>\n",
       "      <td>2017-12-11 17:21:48</td>\n",
       "      <td>2017-12-30 17:08:04</td>\n",
       "      <td>2017-12-28 11:59:59</td>\n",
       "      <td>21330</td>\n",
       "      <td>eac894f4cb6bb0f613f80bdbfb18fa57</td>\n",
       "      <td>...</td>\n",
       "      <td>1</td>\n",
       "      <td>6018</td>\n",
       "      <td>1091.0</td>\n",
       "      <td>20.0</td>\n",
       "      <td>29.0</td>\n",
       "      <td>24.0</td>\n",
       "      <td>13920.0</td>\n",
       "      <td>355.720623</td>\n",
       "      <td>1</td>\n",
       "      <td>6</td>\n",
       "    </tr>\n",
       "    <tr>\n",
       "      <th>109376</th>\n",
       "      <td>True</td>\n",
       "      <td>25d0455ca29c6f58e491a90065954af0</td>\n",
       "      <td>2835fc229807133f646ae4245e5e6150</td>\n",
       "      <td>2017-12-25 23:23:06</td>\n",
       "      <td>2017-12-27 04:07:51</td>\n",
       "      <td>2017-12-27 21:59:18</td>\n",
       "      <td>2018-01-17 18:43:22</td>\n",
       "      <td>2018-01-15 11:59:59</td>\n",
       "      <td>13060</td>\n",
       "      <td>e09b8cac0ce917d36559ef40c1d17a37</td>\n",
       "      <td>...</td>\n",
       "      <td>1</td>\n",
       "      <td>13405</td>\n",
       "      <td>2900.0</td>\n",
       "      <td>35.0</td>\n",
       "      <td>9.0</td>\n",
       "      <td>34.0</td>\n",
       "      <td>10710.0</td>\n",
       "      <td>61.295065</td>\n",
       "      <td>1</td>\n",
       "      <td>0</td>\n",
       "    </tr>\n",
       "    <tr>\n",
       "      <th>109396</th>\n",
       "      <td>True</td>\n",
       "      <td>994486484c66c852cd60fed6ff0da2f9</td>\n",
       "      <td>801981edf3672d523b017f63a68fdda7</td>\n",
       "      <td>2017-11-22 22:44:00</td>\n",
       "      <td>2017-11-23 16:15:33</td>\n",
       "      <td>2017-11-24 23:18:34</td>\n",
       "      <td>2017-12-18 20:43:06</td>\n",
       "      <td>2017-12-12 11:59:59</td>\n",
       "      <td>24450</td>\n",
       "      <td>389d119b48cf3043d311335e499d9c6b</td>\n",
       "      <td>...</td>\n",
       "      <td>1</td>\n",
       "      <td>15025</td>\n",
       "      <td>1750.0</td>\n",
       "      <td>37.0</td>\n",
       "      <td>22.0</td>\n",
       "      <td>40.0</td>\n",
       "      <td>32560.0</td>\n",
       "      <td>696.461376</td>\n",
       "      <td>0</td>\n",
       "      <td>1</td>\n",
       "    </tr>\n",
       "    <tr>\n",
       "      <th>109397</th>\n",
       "      <td>True</td>\n",
       "      <td>25d2bfa43663a23586afd12f15b542e7</td>\n",
       "      <td>9d8c06734fde9823ace11a4b5929b5a7</td>\n",
       "      <td>2018-05-22 21:13:21</td>\n",
       "      <td>2018-05-22 21:35:40</td>\n",
       "      <td>2018-05-24 12:28:00</td>\n",
       "      <td>2018-06-12 23:11:29</td>\n",
       "      <td>2018-06-08 11:59:59</td>\n",
       "      <td>39803</td>\n",
       "      <td>6e1c2008dea1929b9b6c27fa01381e90</td>\n",
       "      <td>...</td>\n",
       "      <td>1</td>\n",
       "      <td>8320</td>\n",
       "      <td>5900.0</td>\n",
       "      <td>41.0</td>\n",
       "      <td>21.0</td>\n",
       "      <td>41.0</td>\n",
       "      <td>35301.0</td>\n",
       "      <td>821.371608</td>\n",
       "      <td>0</td>\n",
       "      <td>1</td>\n",
       "    </tr>\n",
       "    <tr>\n",
       "      <th>109438</th>\n",
       "      <td>True</td>\n",
       "      <td>4cf09d9e5ebbe0f91ddd7bf9aae891cd</td>\n",
       "      <td>07b6b4fe5fefb948fc76b6d2bdba77d8</td>\n",
       "      <td>2018-07-19 08:37:26</td>\n",
       "      <td>2018-07-21 03:25:17</td>\n",
       "      <td>2018-07-23 15:31:00</td>\n",
       "      <td>2018-08-21 01:12:45</td>\n",
       "      <td>2018-08-10 11:59:59</td>\n",
       "      <td>41630</td>\n",
       "      <td>6cdd53843498f92890544667809f1595</td>\n",
       "      <td>...</td>\n",
       "      <td>1</td>\n",
       "      <td>80310</td>\n",
       "      <td>900.0</td>\n",
       "      <td>25.0</td>\n",
       "      <td>12.0</td>\n",
       "      <td>38.0</td>\n",
       "      <td>11400.0</td>\n",
       "      <td>1805.257938</td>\n",
       "      <td>1</td>\n",
       "      <td>2</td>\n",
       "    </tr>\n",
       "    <tr>\n",
       "      <th>109444</th>\n",
       "      <td>True</td>\n",
       "      <td>141c7645c99eed7a80fa7ec9d6c40ad0</td>\n",
       "      <td>30367cbd4765dc3372734e4a100cbb50</td>\n",
       "      <td>2018-01-15 15:57:07</td>\n",
       "      <td>2018-01-15 16:12:36</td>\n",
       "      <td>2018-01-26 21:15:16</td>\n",
       "      <td>2018-02-08 15:46:34</td>\n",
       "      <td>2018-02-06 11:59:59</td>\n",
       "      <td>23020</td>\n",
       "      <td>f102842fbe436027eeeb7fc76d3063aa</td>\n",
       "      <td>...</td>\n",
       "      <td>1</td>\n",
       "      <td>90230</td>\n",
       "      <td>350.0</td>\n",
       "      <td>20.0</td>\n",
       "      <td>20.0</td>\n",
       "      <td>20.0</td>\n",
       "      <td>8000.0</td>\n",
       "      <td>1083.765589</td>\n",
       "      <td>0</td>\n",
       "      <td>11</td>\n",
       "    </tr>\n",
       "    <tr>\n",
       "      <th>109503</th>\n",
       "      <td>True</td>\n",
       "      <td>bdc11cf6acd11917b9ea3d91b95e1395</td>\n",
       "      <td>675292c8870ca23721c9c66a588dd982</td>\n",
       "      <td>2018-03-28 23:09:36</td>\n",
       "      <td>2018-03-28 23:26:49</td>\n",
       "      <td>2018-03-29 19:59:58</td>\n",
       "      <td>2018-04-26 12:54:39</td>\n",
       "      <td>2018-04-25 11:59:59</td>\n",
       "      <td>24913</td>\n",
       "      <td>2028bf1b01cafb2d2b1901fca4083222</td>\n",
       "      <td>...</td>\n",
       "      <td>1</td>\n",
       "      <td>9015</td>\n",
       "      <td>250.0</td>\n",
       "      <td>20.0</td>\n",
       "      <td>8.0</td>\n",
       "      <td>21.0</td>\n",
       "      <td>3360.0</td>\n",
       "      <td>386.592091</td>\n",
       "      <td>0</td>\n",
       "      <td>0</td>\n",
       "    </tr>\n",
       "    <tr>\n",
       "      <th>109578</th>\n",
       "      <td>True</td>\n",
       "      <td>b3112ca67f3afd4e20cf2ee91fc4f804</td>\n",
       "      <td>6f83c71b6c044fb156d697d4130fe9b5</td>\n",
       "      <td>2018-08-02 22:46:54</td>\n",
       "      <td>2018-08-02 23:04:06</td>\n",
       "      <td>2018-08-15 17:42:00</td>\n",
       "      <td>2018-08-21 00:03:26</td>\n",
       "      <td>2018-08-16 11:59:59</td>\n",
       "      <td>9330</td>\n",
       "      <td>4f18ca9862f511ecba98258b2194d061</td>\n",
       "      <td>...</td>\n",
       "      <td>1</td>\n",
       "      <td>14940</td>\n",
       "      <td>12500.0</td>\n",
       "      <td>43.0</td>\n",
       "      <td>33.0</td>\n",
       "      <td>33.0</td>\n",
       "      <td>46827.0</td>\n",
       "      <td>323.953457</td>\n",
       "      <td>0</td>\n",
       "      <td>12</td>\n",
       "    </tr>\n",
       "    <tr>\n",
       "      <th>109579</th>\n",
       "      <td>True</td>\n",
       "      <td>b3112ca67f3afd4e20cf2ee91fc4f804</td>\n",
       "      <td>6f83c71b6c044fb156d697d4130fe9b5</td>\n",
       "      <td>2018-08-02 22:46:54</td>\n",
       "      <td>2018-08-02 23:04:06</td>\n",
       "      <td>2018-08-15 17:42:00</td>\n",
       "      <td>2018-08-21 00:03:26</td>\n",
       "      <td>2018-08-16 11:59:59</td>\n",
       "      <td>9330</td>\n",
       "      <td>4f18ca9862f511ecba98258b2194d061</td>\n",
       "      <td>...</td>\n",
       "      <td>2</td>\n",
       "      <td>14940</td>\n",
       "      <td>12500.0</td>\n",
       "      <td>43.0</td>\n",
       "      <td>33.0</td>\n",
       "      <td>33.0</td>\n",
       "      <td>46827.0</td>\n",
       "      <td>323.953457</td>\n",
       "      <td>0</td>\n",
       "      <td>12</td>\n",
       "    </tr>\n",
       "    <tr>\n",
       "      <th>109580</th>\n",
       "      <td>True</td>\n",
       "      <td>0fa1fab1d7c1211c824596ed5e111e3c</td>\n",
       "      <td>7f3bd6c94d2daf7b6462d1a894a775b4</td>\n",
       "      <td>2018-03-13 21:48:57</td>\n",
       "      <td>2018-03-13 22:40:28</td>\n",
       "      <td>2018-03-14 19:27:23</td>\n",
       "      <td>2018-04-05 19:59:49</td>\n",
       "      <td>2018-04-02 11:59:59</td>\n",
       "      <td>3122</td>\n",
       "      <td>149de4383ccb1829ea75380fc5f0b5fa</td>\n",
       "      <td>...</td>\n",
       "      <td>1</td>\n",
       "      <td>25645</td>\n",
       "      <td>750.0</td>\n",
       "      <td>18.0</td>\n",
       "      <td>19.0</td>\n",
       "      <td>23.0</td>\n",
       "      <td>7866.0</td>\n",
       "      <td>364.049329</td>\n",
       "      <td>0</td>\n",
       "      <td>0</td>\n",
       "    </tr>\n",
       "    <tr>\n",
       "      <th>109606</th>\n",
       "      <td>True</td>\n",
       "      <td>38e9133ce29f6bbe35aed9c3863dce01</td>\n",
       "      <td>ad312389a098ceff46ce92c4595c06d0</td>\n",
       "      <td>2017-10-12 20:54:11</td>\n",
       "      <td>2017-10-14 03:28:24</td>\n",
       "      <td>2017-10-17 17:04:42</td>\n",
       "      <td>2017-11-21 17:06:59</td>\n",
       "      <td>2017-10-31 11:59:59</td>\n",
       "      <td>14802</td>\n",
       "      <td>014a8a503291921f7b004a5215bb3c36</td>\n",
       "      <td>...</td>\n",
       "      <td>1</td>\n",
       "      <td>2310</td>\n",
       "      <td>150.0</td>\n",
       "      <td>16.0</td>\n",
       "      <td>7.0</td>\n",
       "      <td>11.0</td>\n",
       "      <td>1232.0</td>\n",
       "      <td>249.579453</td>\n",
       "      <td>1</td>\n",
       "      <td>3</td>\n",
       "    </tr>\n",
       "    <tr>\n",
       "      <th>109608</th>\n",
       "      <td>True</td>\n",
       "      <td>d692ef54145c9cb3322ec2e5508aa3f4</td>\n",
       "      <td>82ddfcf9438b0cd1117b55ac33184df8</td>\n",
       "      <td>2018-03-21 19:47:18</td>\n",
       "      <td>2018-03-21 20:05:26</td>\n",
       "      <td>2018-03-22 21:11:58</td>\n",
       "      <td>2018-04-11 00:48:31</td>\n",
       "      <td>2018-04-09 11:59:59</td>\n",
       "      <td>13272</td>\n",
       "      <td>58efb9b638561ce132216a9a612513e2</td>\n",
       "      <td>...</td>\n",
       "      <td>1</td>\n",
       "      <td>15014</td>\n",
       "      <td>9700.0</td>\n",
       "      <td>27.0</td>\n",
       "      <td>15.0</td>\n",
       "      <td>92.0</td>\n",
       "      <td>37260.0</td>\n",
       "      <td>341.243636</td>\n",
       "      <td>0</td>\n",
       "      <td>1</td>\n",
       "    </tr>\n",
       "    <tr>\n",
       "      <th>109615</th>\n",
       "      <td>True</td>\n",
       "      <td>cfa78b997e329a5295b4ee6972c02979</td>\n",
       "      <td>a2f7428f0cafbc8e59f20e1444b67315</td>\n",
       "      <td>2017-12-20 09:52:41</td>\n",
       "      <td>2017-12-20 10:09:52</td>\n",
       "      <td>2017-12-20 20:25:25</td>\n",
       "      <td>2018-01-26 15:45:14</td>\n",
       "      <td>2018-01-18 11:59:59</td>\n",
       "      <td>83870</td>\n",
       "      <td>3d2c44374ee42b3003a470f3e937a2ea</td>\n",
       "      <td>...</td>\n",
       "      <td>1</td>\n",
       "      <td>89251</td>\n",
       "      <td>300.0</td>\n",
       "      <td>16.0</td>\n",
       "      <td>6.0</td>\n",
       "      <td>12.0</td>\n",
       "      <td>1152.0</td>\n",
       "      <td>80.477455</td>\n",
       "      <td>0</td>\n",
       "      <td>0</td>\n",
       "    </tr>\n",
       "  </tbody>\n",
       "</table>\n",
       "<p>7474 rows × 24 columns</p>\n",
       "</div>"
      ],
      "text/plain": [
       "        is_late                          order_id  \\\n",
       "20         True  203096f03d82e0dffbc41ebc2e2bcfb7   \n",
       "25         True  fbf9ac61453ac646ce8ad9783d7d0af6   \n",
       "42         True  6ea2f835b4556291ffdc53fa0b3b95e8   \n",
       "58         True  66e4624ae69e7dc89bd50222b59f581f   \n",
       "59         True  66e4624ae69e7dc89bd50222b59f581f   \n",
       "110        True  6a0a8bfbbe700284feb0845d95e0867f   \n",
       "115        True  a5474c0071dd5d1074e12d417078bbd0   \n",
       "122        True  9d531c565e28c3e0d756192f84d8731f   \n",
       "128        True  8fc207e94fa91a7649c5a5dab690272a   \n",
       "164        True  33a3edb84b9df4cb49546859b990ac6d   \n",
       "179        True  1d067305b599c1e0dceb3864056ea527   \n",
       "225        True  3f849648ffbabb0562c7668f212e3e88   \n",
       "256        True  c82a457d646f77c8f151e12a3e517ed2   \n",
       "284        True  f31535f21d145b2345e2bf7f09d62322   \n",
       "298        True  fb9b2930f4a30f96c7cc98eaaa85e5f0   \n",
       "301        True  2c3a5e5f5bc3ae78ed5748461e62d47d   \n",
       "346        True  4906eeadde5f70b308c20c4a8f20be02   \n",
       "381        True  f11e9516ca2b6091b64f2e2ea0ebebb3   \n",
       "423        True  5342acb7b183acec77f59e4d78f7c804   \n",
       "443        True  884b1394fc8888e6a877df86eb19e74c   \n",
       "494        True  7b58fca3faf09217a36d5febee5739a5   \n",
       "495        True  f30607daae66843552e00843c6de88ef   \n",
       "498        True  4f7ce3efe568a5e57290a9fa3e45b1f5   \n",
       "505        True  580c882a5805c78546ea65ec6d3690e4   \n",
       "539        True  9472d3c8a0ad463cbfc89897334431da   \n",
       "547        True  0fc34e566d3273325c404c113f4a8b2a   \n",
       "578        True  18d686f1bb1270182c646fe337459d79   \n",
       "592        True  eafef0e6c44f121531569a69a318c3b3   \n",
       "602        True  7753606fb1d0067848f8a1a7ae5abefa   \n",
       "603        True  7753606fb1d0067848f8a1a7ae5abefa   \n",
       "...         ...                               ...   \n",
       "109089     True  779a7c41849463b9f08aacd3d948a82c   \n",
       "109135     True  5333db16fe357175d39c82840dd3269d   \n",
       "109136     True  5333db16fe357175d39c82840dd3269d   \n",
       "109164     True  bd3a4f4d1e523b01043f634836a0b4c5   \n",
       "109170     True  4add09b525bbbd66f6571658ca867401   \n",
       "109192     True  6cbe4707ae0b201a8d5a8b16dea28800   \n",
       "109207     True  65aafdaa712c5cbf87a06041a8606907   \n",
       "109221     True  4f2a29346d25613d2e553a8d6381b006   \n",
       "109222     True  fbffb0b287b62d10b5a1c24a29ae16ea   \n",
       "109235     True  31a7dd4d08e48968ab49478c64c7075a   \n",
       "109236     True  31a7dd4d08e48968ab49478c64c7075a   \n",
       "109264     True  4a4ded48a84c0cee9a190dd22ce96866   \n",
       "109265     True  ad369c5a6bd2534d48420216de8fd8f5   \n",
       "109270     True  25f6cb0e242a4c0bacc239397614422e   \n",
       "109279     True  85a543ebc5aa8bcbbf7974c03ed49ca2   \n",
       "109340     True  f3a0df8637066be632ea188f5902c162   \n",
       "109359     True  74d882fe8bdccca5952fbe23321ecfa7   \n",
       "109370     True  b5d08e6b71d4af8f816daf169014c908   \n",
       "109376     True  25d0455ca29c6f58e491a90065954af0   \n",
       "109396     True  994486484c66c852cd60fed6ff0da2f9   \n",
       "109397     True  25d2bfa43663a23586afd12f15b542e7   \n",
       "109438     True  4cf09d9e5ebbe0f91ddd7bf9aae891cd   \n",
       "109444     True  141c7645c99eed7a80fa7ec9d6c40ad0   \n",
       "109503     True  bdc11cf6acd11917b9ea3d91b95e1395   \n",
       "109578     True  b3112ca67f3afd4e20cf2ee91fc4f804   \n",
       "109579     True  b3112ca67f3afd4e20cf2ee91fc4f804   \n",
       "109580     True  0fa1fab1d7c1211c824596ed5e111e3c   \n",
       "109606     True  38e9133ce29f6bbe35aed9c3863dce01   \n",
       "109608     True  d692ef54145c9cb3322ec2e5508aa3f4   \n",
       "109615     True  cfa78b997e329a5295b4ee6972c02979   \n",
       "\n",
       "                             customer_id order_purchase_timestamp  \\\n",
       "20      d2b091571da224a1b36412c18bc3bbfe      2017-09-18 14:31:30   \n",
       "25      3a874b4d4c4b6543206ff5d89287f0c3      2018-02-20 23:46:53   \n",
       "42      c7340080e394356141681bd4c9b8fe31      2017-11-24 21:27:48   \n",
       "58      684fa6da5134b9e4dab731e00011712d      2018-03-09 14:50:15   \n",
       "59      684fa6da5134b9e4dab731e00011712d      2018-03-09 14:50:15   \n",
       "110     68451b39b1314302c08c65a29f1140fc      2017-11-22 11:32:22   \n",
       "115     ef15b3240b2083e0487762ee2978d2b8      2018-07-30 22:41:44   \n",
       "122     d4faa220408c20e53595d2950f361f3b      2017-11-28 21:00:44   \n",
       "128     c69f8b33e62ecb30ff78ae46d7fb9241      2017-11-26 17:49:46   \n",
       "164     35ec6c1ca9e5844c5ca94214cce16dca      2018-02-21 17:15:49   \n",
       "179     0489975a325480c9e385e9f135bb13c3      2018-02-14 13:05:17   \n",
       "225     a338f42b6e47cb49d5c5128a348b76ba      2018-05-15 19:55:51   \n",
       "256     c178d6d544925594fafab0ba493cd645      2018-08-08 21:11:25   \n",
       "284     ed532487db04478dfba09d112649fc13      2018-02-01 07:47:34   \n",
       "298     02ed2cff54eb047cdbe79dd0535945d4      2017-11-24 14:15:53   \n",
       "301     5f2bc926ec92aa65c33b70ed59e74175      2018-01-22 19:22:26   \n",
       "346     4e7656e34357b93f14b40c6400ca3f6e      2017-12-08 04:45:26   \n",
       "381     7d527c98f408420a9d5c953e5b89215e      2018-02-22 20:53:14   \n",
       "423     4d493a5e3a53373d3bc26a01575a71dc      2018-03-29 20:53:48   \n",
       "443     7ee968b8ed74301e0cbd3e44416cad9d      2018-03-19 21:50:14   \n",
       "494     0966fbba1c0e8c5e26e31166c2fd3ce8      2018-03-04 22:59:50   \n",
       "495     8e1769459d9b9a9989799f6c79a4a663      2018-02-21 13:18:37   \n",
       "498     2569d6c5ed547bf0feaf37e32677fdaa      2018-01-26 13:32:22   \n",
       "505     a4f6fc82eefc6a54376eea73b27df682      2018-02-05 17:40:34   \n",
       "539     7e016f9ea275279784f42e0642214284      2017-11-20 16:21:04   \n",
       "547     ae9cc596d22235c547acce001f90fc33      2017-11-02 14:51:11   \n",
       "578     bbf7be5b7db9baf4509ae4573c8570b4      2018-02-15 15:07:11   \n",
       "592     084dab2db2bf5d42677b135e633a15ba      2017-11-29 13:03:33   \n",
       "602     5c4a6f6b98ec2d780b10f1cc88ef208f      2018-05-02 13:17:54   \n",
       "603     5c4a6f6b98ec2d780b10f1cc88ef208f      2018-05-02 13:17:54   \n",
       "...                                  ...                      ...   \n",
       "109089  76ad602d5f0774e99cc144e8942ff0af      2017-10-24 18:17:41   \n",
       "109135  7e008e5ec21e044fe30c34ec4e9d0747      2018-03-10 18:18:20   \n",
       "109136  7e008e5ec21e044fe30c34ec4e9d0747      2018-03-10 18:18:20   \n",
       "109164  d9a4e05b8c763933f3a6c9640d64a75d      2017-11-24 23:59:48   \n",
       "109170  2d78b0188c99bc38d9944aa2fdb67258      2017-11-25 20:28:22   \n",
       "109192  cae4015fe5f8696787e39009137f4440      2018-05-15 16:22:18   \n",
       "109207  679c8904ab29adbc9094871de22ff44b      2018-03-13 17:06:49   \n",
       "109221  3043e244f2c35c95554a613c30a7a332      2018-03-15 23:18:16   \n",
       "109222  0a952ecdee3346648d2dca69c55853d1      2017-09-26 10:51:26   \n",
       "109235  f2ad8c1d461bb9d11944d8ab973f3836      2018-01-14 17:18:45   \n",
       "109236  f2ad8c1d461bb9d11944d8ab973f3836      2018-01-14 17:18:45   \n",
       "109264  2b22da03dd8511de17c84238e49082f9      2017-12-28 21:32:44   \n",
       "109265  c4166318f0d95d4ff6e243c05b407d21      2018-01-29 15:19:13   \n",
       "109270  c3e28a954146468597f1dfe3ab014eab      2017-11-20 12:50:49   \n",
       "109279  595de27f827cc4d79a6fcd48ee602c0c      2018-03-07 00:13:00   \n",
       "109340  4718c9b5ecaee126f5b4db1bd06e3cdd      2018-04-28 18:09:07   \n",
       "109359  784ea06d707eeb460893a573fa879dc2      2018-05-20 01:24:02   \n",
       "109370  c3e4865228356afd7819b3ebe77332bf      2017-12-04 09:56:29   \n",
       "109376  2835fc229807133f646ae4245e5e6150      2017-12-25 23:23:06   \n",
       "109396  801981edf3672d523b017f63a68fdda7      2017-11-22 22:44:00   \n",
       "109397  9d8c06734fde9823ace11a4b5929b5a7      2018-05-22 21:13:21   \n",
       "109438  07b6b4fe5fefb948fc76b6d2bdba77d8      2018-07-19 08:37:26   \n",
       "109444  30367cbd4765dc3372734e4a100cbb50      2018-01-15 15:57:07   \n",
       "109503  675292c8870ca23721c9c66a588dd982      2018-03-28 23:09:36   \n",
       "109578  6f83c71b6c044fb156d697d4130fe9b5      2018-08-02 22:46:54   \n",
       "109579  6f83c71b6c044fb156d697d4130fe9b5      2018-08-02 22:46:54   \n",
       "109580  7f3bd6c94d2daf7b6462d1a894a775b4      2018-03-13 21:48:57   \n",
       "109606  ad312389a098ceff46ce92c4595c06d0      2017-10-12 20:54:11   \n",
       "109608  82ddfcf9438b0cd1117b55ac33184df8      2018-03-21 19:47:18   \n",
       "109615  a2f7428f0cafbc8e59f20e1444b67315      2017-12-20 09:52:41   \n",
       "\n",
       "         order_approved_at order_delivered_carrier_date  \\\n",
       "20     2017-09-19 04:04:09          2017-10-06 17:50:03   \n",
       "25     2018-02-22 02:30:46          2018-02-26 22:25:22   \n",
       "42     2017-11-25 00:21:09          2017-12-13 21:14:05   \n",
       "58     2018-03-09 15:40:39          2018-03-15 00:31:19   \n",
       "59     2018-03-09 15:40:39          2018-03-15 00:31:19   \n",
       "110    2017-11-22 11:46:50          2017-11-27 13:39:35   \n",
       "115    2018-08-01 02:50:15          2018-08-02 10:35:00   \n",
       "122    2017-12-01 09:31:15          2017-12-14 20:37:43   \n",
       "128    2017-11-26 17:58:34          2017-11-28 23:17:09   \n",
       "164    2018-02-22 16:10:41          2018-02-23 22:42:43   \n",
       "179    2018-02-14 13:15:38          2018-02-20 20:12:57   \n",
       "225    2018-05-16 08:36:57          2018-05-18 15:26:00   \n",
       "256    2018-08-08 21:25:20          2018-08-10 17:10:00   \n",
       "284    2018-02-01 08:10:31          2018-02-02 00:24:34   \n",
       "298    2017-11-24 16:19:01          2017-11-30 18:18:50   \n",
       "301    2018-01-22 19:36:30          2018-01-24 00:34:56   \n",
       "346    2017-12-12 03:50:30          2017-12-12 17:43:21   \n",
       "381    2018-02-22 21:28:02          2018-02-23 23:19:09   \n",
       "423    2018-03-31 10:07:45          2018-04-04 17:44:32   \n",
       "443    2018-03-19 22:08:28          2018-03-27 14:04:29   \n",
       "494    2018-03-04 23:15:32          2018-03-06 16:49:08   \n",
       "495    2018-02-23 02:31:22          2018-03-05 23:44:55   \n",
       "498    2018-01-26 13:52:07          2018-01-29 23:16:01   \n",
       "505    2018-02-05 17:50:41          2018-02-07 22:38:31   \n",
       "539    2017-11-21 09:50:30          2017-11-22 19:48:47   \n",
       "547    2017-11-02 15:10:35          2017-11-06 20:28:43   \n",
       "578    2018-02-15 15:27:08          2018-02-17 00:14:57   \n",
       "592    2017-11-29 13:12:28          2017-12-04 19:18:09   \n",
       "602    2018-05-02 15:58:53          2018-05-04 15:20:00   \n",
       "603    2018-05-02 15:58:53          2018-05-04 15:20:00   \n",
       "...                    ...                          ...   \n",
       "109089 2017-10-26 17:08:03          2017-10-30 19:07:56   \n",
       "109135 2018-03-13 04:08:22          2018-03-13 17:58:52   \n",
       "109136 2018-03-13 04:08:22          2018-03-13 17:58:52   \n",
       "109164 2017-11-25 02:53:52          2017-11-28 00:04:34   \n",
       "109170 2017-11-25 20:38:32          2017-11-29 02:52:05   \n",
       "109192 2018-05-15 16:36:58          2018-05-16 09:47:00   \n",
       "109207 2018-03-13 17:29:31          2018-03-19 18:08:37   \n",
       "109221 2018-03-15 23:28:29          2018-03-16 19:28:48   \n",
       "109222 2017-09-26 11:04:34          2017-09-27 15:33:56   \n",
       "109235 2018-01-16 03:39:56          2018-02-09 16:38:01   \n",
       "109236 2018-01-16 03:39:56          2018-02-09 16:38:01   \n",
       "109264 2017-12-29 02:09:39          2018-01-03 15:38:32   \n",
       "109265 2018-01-30 15:31:50          2018-01-31 20:54:01   \n",
       "109270 2017-11-21 04:06:25          2017-11-27 22:04:13   \n",
       "109279 2018-03-07 00:31:20          2018-03-07 21:13:01   \n",
       "109340 2018-04-28 18:29:55          2018-04-30 14:40:00   \n",
       "109359 2018-05-20 08:17:29          2018-05-22 12:39:00   \n",
       "109370 2017-12-05 10:03:30          2017-12-11 17:21:48   \n",
       "109376 2017-12-27 04:07:51          2017-12-27 21:59:18   \n",
       "109396 2017-11-23 16:15:33          2017-11-24 23:18:34   \n",
       "109397 2018-05-22 21:35:40          2018-05-24 12:28:00   \n",
       "109438 2018-07-21 03:25:17          2018-07-23 15:31:00   \n",
       "109444 2018-01-15 16:12:36          2018-01-26 21:15:16   \n",
       "109503 2018-03-28 23:26:49          2018-03-29 19:59:58   \n",
       "109578 2018-08-02 23:04:06          2018-08-15 17:42:00   \n",
       "109579 2018-08-02 23:04:06          2018-08-15 17:42:00   \n",
       "109580 2018-03-13 22:40:28          2018-03-14 19:27:23   \n",
       "109606 2017-10-14 03:28:24          2017-10-17 17:04:42   \n",
       "109608 2018-03-21 20:05:26          2018-03-22 21:11:58   \n",
       "109615 2017-12-20 10:09:52          2017-12-20 20:25:25   \n",
       "\n",
       "       order_delivered_customer_date order_estimated_delivery_date  \\\n",
       "20               2017-10-09 22:23:46           2017-09-28 11:59:59   \n",
       "25               2018-03-21 22:03:54           2018-03-12 11:59:59   \n",
       "42               2017-12-28 18:59:23           2017-12-21 11:59:59   \n",
       "58               2018-04-03 13:28:46           2018-04-02 11:59:59   \n",
       "59               2018-04-03 13:28:46           2018-04-02 11:59:59   \n",
       "110              2017-12-28 19:43:00           2017-12-11 11:59:59   \n",
       "115              2018-08-03 19:28:47           2018-08-02 11:59:59   \n",
       "122              2018-01-23 21:38:52           2017-12-22 11:59:59   \n",
       "128              2018-01-20 13:42:22           2017-12-19 11:59:59   \n",
       "164              2018-03-22 00:03:53           2018-03-16 11:59:59   \n",
       "179              2018-03-09 21:52:36           2018-03-09 11:59:59   \n",
       "225              2018-06-07 13:58:42           2018-06-06 11:59:59   \n",
       "256              2018-08-15 15:02:09           2018-08-15 11:59:59   \n",
       "284              2018-04-23 15:49:34           2018-03-05 11:59:59   \n",
       "298              2017-12-17 10:47:53           2017-12-14 11:59:59   \n",
       "301              2018-02-06 15:49:01           2018-02-06 11:59:59   \n",
       "346              2018-01-09 18:04:58           2018-01-03 11:59:59   \n",
       "381              2018-03-28 22:04:44           2018-03-19 11:59:59   \n",
       "423              2018-04-24 16:10:44           2018-04-24 11:59:59   \n",
       "443              2018-03-29 17:32:05           2018-03-29 11:59:59   \n",
       "494              2018-04-12 21:04:01           2018-03-28 11:59:59   \n",
       "495              2018-04-12 11:36:51           2018-03-27 11:59:59   \n",
       "498              2018-03-08 11:15:57           2018-02-21 11:59:59   \n",
       "505              2018-03-06 16:59:05           2018-03-02 11:59:59   \n",
       "539              2017-12-21 14:22:54           2017-12-12 11:59:59   \n",
       "547              2017-12-01 18:06:48           2017-11-27 11:59:59   \n",
       "578              2018-03-11 19:28:52           2018-03-07 11:59:59   \n",
       "592              2018-01-09 16:32:21           2017-12-27 11:59:59   \n",
       "602              2018-05-23 17:51:15           2018-05-16 11:59:59   \n",
       "603              2018-05-23 17:51:15           2018-05-16 11:59:59   \n",
       "...                              ...                           ...   \n",
       "109089           2017-11-16 15:42:13           2017-11-10 11:59:59   \n",
       "109135           2018-04-03 15:32:52           2018-03-29 11:59:59   \n",
       "109136           2018-04-03 15:32:52           2018-03-29 11:59:59   \n",
       "109164           2017-12-28 15:05:22           2017-12-18 11:59:59   \n",
       "109170           2017-12-19 14:47:05           2017-12-19 11:59:59   \n",
       "109192           2018-05-28 18:37:27           2018-05-23 11:59:59   \n",
       "109207           2018-04-04 01:08:24           2018-03-29 11:59:59   \n",
       "109221           2018-04-20 11:12:30           2018-04-10 11:59:59   \n",
       "109222           2017-10-19 00:08:00           2017-10-11 11:59:59   \n",
       "109235           2018-02-14 16:07:43           2018-01-30 11:59:59   \n",
       "109236           2018-02-14 16:07:43           2018-01-30 11:59:59   \n",
       "109264           2018-02-25 14:54:29           2018-01-30 11:59:59   \n",
       "109265           2018-02-21 17:46:45           2018-02-21 11:59:59   \n",
       "109270           2017-12-22 19:52:48           2017-12-21 11:59:59   \n",
       "109279           2018-04-05 23:03:15           2018-03-29 11:59:59   \n",
       "109340           2018-05-16 20:56:54           2018-05-11 11:59:59   \n",
       "109359           2018-06-11 13:34:28           2018-06-07 11:59:59   \n",
       "109370           2017-12-30 17:08:04           2017-12-28 11:59:59   \n",
       "109376           2018-01-17 18:43:22           2018-01-15 11:59:59   \n",
       "109396           2017-12-18 20:43:06           2017-12-12 11:59:59   \n",
       "109397           2018-06-12 23:11:29           2018-06-08 11:59:59   \n",
       "109438           2018-08-21 01:12:45           2018-08-10 11:59:59   \n",
       "109444           2018-02-08 15:46:34           2018-02-06 11:59:59   \n",
       "109503           2018-04-26 12:54:39           2018-04-25 11:59:59   \n",
       "109578           2018-08-21 00:03:26           2018-08-16 11:59:59   \n",
       "109579           2018-08-21 00:03:26           2018-08-16 11:59:59   \n",
       "109580           2018-04-05 19:59:49           2018-04-02 11:59:59   \n",
       "109606           2017-11-21 17:06:59           2017-10-31 11:59:59   \n",
       "109608           2018-04-11 00:48:31           2018-04-09 11:59:59   \n",
       "109615           2018-01-26 15:45:14           2018-01-18 11:59:59   \n",
       "\n",
       "        customer_zip_code_prefix                        product_id  ...  \\\n",
       "20                          4001  5ac9d9e379c606e36a8094a6046f75dc  ...   \n",
       "25                         21715  7b717060aa783eb7f23a747a3a733dd7  ...   \n",
       "42                         19400  be021417a6acb56b9b50d3fd2714baa8  ...   \n",
       "58                         49030  b37b72d5a56f887725c2862184b8cab8  ...   \n",
       "59                         49030  b37b72d5a56f887725c2862184b8cab8  ...   \n",
       "110                        20740  f8a8f05a35976a91aed5cccc3992c357  ...   \n",
       "115                         6434  1f75be631e988bb0ad750e60e18d043b  ...   \n",
       "122                        24933  807b2de93dbb064bbc82dc6ac963bc61  ...   \n",
       "128                        25540  f2e53dd1670f3c376518263b3f71424d  ...   \n",
       "164                        36021  389d119b48cf3043d311335e499d9c6b  ...   \n",
       "179                        14406  2a2d22ae30e026f1893083c8405ca522  ...   \n",
       "225                        32425  7bbf8eb1681f6f8ec4b6f0c1c6934718  ...   \n",
       "256                        13068  81a3f1e46ec16acb4800a5002b014438  ...   \n",
       "284                        24350  f196248e8b5d060cca414a664ea9a76f  ...   \n",
       "298                         5119  6f9771652ad5ec58e58f50475d6bfe0e  ...   \n",
       "301                        18080  d8de812ed5d981fc6a3984f4caa2aa05  ...   \n",
       "346                        23065  ee406bf28024d97771c4b1e8b7e8e219  ...   \n",
       "381                        37410  7a10781637204d8d10485c71a6108a2e  ...   \n",
       "423                        43700  0da9ffd92214425d880de3f94e74ce39  ...   \n",
       "443                         6332  437c05a395e9e47f9762e677a7068ce7  ...   \n",
       "494                        74643  b8a0d73b2a06e7910d9864dccdb0cda2  ...   \n",
       "495                        28380  aed75ad669fbebd5a385ac7cc2ae7573  ...   \n",
       "498                        64056  cb460986a447ed00da792526bf6189e4  ...   \n",
       "505                        23058  48f866f20b5b6015a324210988e73387  ...   \n",
       "539                        60764  9036be77e0a74cca6eeef0740649b97b  ...   \n",
       "547                        74675  8896b8c893a3dc9e5a6d10e00bada716  ...   \n",
       "578                         3144  7945bb528c42095fccdf46321742afce  ...   \n",
       "592                        90410  e1901d5d99ca951543717ea5d1940a36  ...   \n",
       "602                         4856  d63c1011f49d98b976c352955b1c4bea  ...   \n",
       "603                         4856  d63c1011f49d98b976c352955b1c4bea  ...   \n",
       "...                          ...                               ...  ...   \n",
       "109089                     15895  0502d1a36be75bd36b452f31c6ed264a  ...   \n",
       "109135                      8141  4deb009c36a910076a023947a7929201  ...   \n",
       "109136                      8141  4deb009c36a910076a023947a7929201  ...   \n",
       "109164                     28613  0d1d0db051b49daf3c58068768d8fd2d  ...   \n",
       "109170                     88034  b7f980dbd49d4059a8c4acbada394e4b  ...   \n",
       "109192                     13183  fc7138a8f96aee8302e42916bbbbb818  ...   \n",
       "109207                     11095  d70f38e7f79c630f8ea00c993897042c  ...   \n",
       "109221                     47802  25c38557cf793876c5abdd5931f922db  ...   \n",
       "109222                     13504  f0a06cc25ae22358b10378bf4dafdf0a  ...   \n",
       "109235                      9911  c8f57335e06d8d4e73e34057dc92cfbe  ...   \n",
       "109236                      9911  c8f57335e06d8d4e73e34057dc92cfbe  ...   \n",
       "109264                     25660  11ebbade0d9bf72ea23f49ef78f4b6b8  ...   \n",
       "109265                     29024  dc52f0f5d3ec37a93eaf956cde4e5d2c  ...   \n",
       "109270                     55200  9394a725ee7e3f1da0d6b22b046cc8d4  ...   \n",
       "109279                     86010  f40876e0ef3cd5f9132b1f16b04b1346  ...   \n",
       "109340                     30535  832137af5164ffb89cf407d686aa2d0d  ...   \n",
       "109359                     27332  9e9a222ec8c28d9ab56658263c17f16c  ...   \n",
       "109370                     21330  eac894f4cb6bb0f613f80bdbfb18fa57  ...   \n",
       "109376                     13060  e09b8cac0ce917d36559ef40c1d17a37  ...   \n",
       "109396                     24450  389d119b48cf3043d311335e499d9c6b  ...   \n",
       "109397                     39803  6e1c2008dea1929b9b6c27fa01381e90  ...   \n",
       "109438                     41630  6cdd53843498f92890544667809f1595  ...   \n",
       "109444                     23020  f102842fbe436027eeeb7fc76d3063aa  ...   \n",
       "109503                     24913  2028bf1b01cafb2d2b1901fca4083222  ...   \n",
       "109578                      9330  4f18ca9862f511ecba98258b2194d061  ...   \n",
       "109579                      9330  4f18ca9862f511ecba98258b2194d061  ...   \n",
       "109580                      3122  149de4383ccb1829ea75380fc5f0b5fa  ...   \n",
       "109606                     14802  014a8a503291921f7b004a5215bb3c36  ...   \n",
       "109608                     13272  58efb9b638561ce132216a9a612513e2  ...   \n",
       "109615                     83870  3d2c44374ee42b3003a470f3e937a2ea  ...   \n",
       "\n",
       "       order_item_id seller_zip_code_prefix  product_weight_g  \\\n",
       "20                 1                   4438             525.0   \n",
       "25                 1                   9220             500.0   \n",
       "42                 1                  89165           14300.0   \n",
       "58                 1                   3126             150.0   \n",
       "59                 2                   3126             150.0   \n",
       "110                1                  14940            1500.0   \n",
       "115                1                   4208             200.0   \n",
       "122                1                   5734             500.0   \n",
       "128                1                  14940            1975.0   \n",
       "164                1                  15025            1750.0   \n",
       "179                1                  89224            8350.0   \n",
       "225                1                   3809             800.0   \n",
       "256                1                   4186             550.0   \n",
       "284                1                  88704            1900.0   \n",
       "298                1                  14940            1200.0   \n",
       "301                1                  13456             525.0   \n",
       "346                1                   3426            1050.0   \n",
       "381                1                  14840             342.0   \n",
       "423                1                  29156           10900.0   \n",
       "443                1                  13330            1110.0   \n",
       "494                1                  25645             371.0   \n",
       "495                1                   3908           30000.0   \n",
       "498                1                   5303             340.0   \n",
       "505                1                  14940            1850.0   \n",
       "539                1                   5530             405.0   \n",
       "547                1                  14050             500.0   \n",
       "578                1                  13290             775.0   \n",
       "592                1                  13257             500.0   \n",
       "602                1                   9015             950.0   \n",
       "603                2                   9015             950.0   \n",
       "...              ...                    ...               ...   \n",
       "109089             1                   7133             100.0   \n",
       "109135             1                  24020             157.0   \n",
       "109136             2                  24020             157.0   \n",
       "109164             1                   8752             500.0   \n",
       "109170             1                   7133             400.0   \n",
       "109192             1                   4250             161.0   \n",
       "109207             1                  14910           10950.0   \n",
       "109221             1                  13450           15800.0   \n",
       "109222             1                  14910            6450.0   \n",
       "109235             1                  13145             300.0   \n",
       "109236             2                  13145             300.0   \n",
       "109264             1                  31255             600.0   \n",
       "109265             1                   5849             400.0   \n",
       "109270             1                  18500            1860.0   \n",
       "109279             1                  25645             427.0   \n",
       "109340             1                  31140             100.0   \n",
       "109359             1                   3186            1150.0   \n",
       "109370             1                   6018            1091.0   \n",
       "109376             1                  13405            2900.0   \n",
       "109396             1                  15025            1750.0   \n",
       "109397             1                   8320            5900.0   \n",
       "109438             1                  80310             900.0   \n",
       "109444             1                  90230             350.0   \n",
       "109503             1                   9015             250.0   \n",
       "109578             1                  14940           12500.0   \n",
       "109579             2                  14940           12500.0   \n",
       "109580             1                  25645             750.0   \n",
       "109606             1                   2310             150.0   \n",
       "109608             1                  15014            9700.0   \n",
       "109615             1                  89251             300.0   \n",
       "\n",
       "        product_length_cm  product_height_cm  product_width_cm  \\\n",
       "20                   21.0               16.0              13.0   \n",
       "25                   16.0               12.0              22.0   \n",
       "42                   38.0               34.0              34.0   \n",
       "58                   19.0                4.0              11.0   \n",
       "59                   19.0                4.0              11.0   \n",
       "110                  45.0               15.0              35.0   \n",
       "115                  25.0               10.0              15.0   \n",
       "122                  16.0               30.0              16.0   \n",
       "128                  41.0               13.0              31.0   \n",
       "164                  37.0               22.0              40.0   \n",
       "179                  50.0               27.0              38.0   \n",
       "225                  35.0                8.0              35.0   \n",
       "256                  16.0               10.0              11.0   \n",
       "284                  90.0               14.0              18.0   \n",
       "298                  39.0               30.0              39.0   \n",
       "301                  29.0               16.0              20.0   \n",
       "346                  36.0               24.0              22.0   \n",
       "381                  18.0               13.0              15.0   \n",
       "423                  39.0               12.0              42.0   \n",
       "443                  19.0               11.0              18.0   \n",
       "494                  20.0               16.0              16.0   \n",
       "495                  50.0               75.0              56.0   \n",
       "498                  18.0               13.0              16.0   \n",
       "505                  45.0               15.0              35.0   \n",
       "539                  21.0                7.0              15.0   \n",
       "547                  16.0                7.0              13.0   \n",
       "578                  44.0                3.0              34.0   \n",
       "592                  31.0                7.0              27.0   \n",
       "602                  35.0               25.0              20.0   \n",
       "603                  35.0               25.0              20.0   \n",
       "...                   ...                ...               ...   \n",
       "109089               16.0                7.0              11.0   \n",
       "109135               17.0                8.0              13.0   \n",
       "109136               17.0                8.0              13.0   \n",
       "109164               16.0               45.0              12.0   \n",
       "109170               16.0                7.0              11.0   \n",
       "109192               19.0                8.0              17.0   \n",
       "109207               41.0               40.0              40.0   \n",
       "109221               38.0               62.0              57.0   \n",
       "109222               62.0               35.0              52.0   \n",
       "109235               16.0                2.0              11.0   \n",
       "109236               16.0                2.0              11.0   \n",
       "109264               20.0               10.0              20.0   \n",
       "109265               16.0                2.0              20.0   \n",
       "109270               45.0               20.0              43.0   \n",
       "109279               15.0               17.0              14.0   \n",
       "109340               16.0                2.0              13.0   \n",
       "109359               20.0               20.0              20.0   \n",
       "109370               20.0               29.0              24.0   \n",
       "109376               35.0                9.0              34.0   \n",
       "109396               37.0               22.0              40.0   \n",
       "109397               41.0               21.0              41.0   \n",
       "109438               25.0               12.0              38.0   \n",
       "109444               20.0               20.0              20.0   \n",
       "109503               20.0                8.0              21.0   \n",
       "109578               43.0               33.0              33.0   \n",
       "109579               43.0               33.0              33.0   \n",
       "109580               18.0               19.0              23.0   \n",
       "109606               16.0                7.0              11.0   \n",
       "109608               27.0               15.0              92.0   \n",
       "109615               16.0                6.0              12.0   \n",
       "\n",
       "        product_vol_cm      dist_km  order_purchased_to_approved  \\\n",
       "20              4368.0    11.846404                            0   \n",
       "25              4224.0   326.895894                            1   \n",
       "42             43928.0   634.595829                            0   \n",
       "58               836.0  1727.593999                            0   \n",
       "59               836.0  1727.593999                            0   \n",
       "110            23625.0   580.439096                            0   \n",
       "115             3750.0    29.172345                            1   \n",
       "122             7680.0   395.882456                            2   \n",
       "128            16523.0   570.563531                            0   \n",
       "164            32560.0   636.114467                            0   \n",
       "179            51300.0   653.373561                            0   \n",
       "225             9800.0   461.400738                            0   \n",
       "256             1760.0   104.235158                            0   \n",
       "284            22680.0   854.391412                            0   \n",
       "298            45630.0   287.765376                            0   \n",
       "301             9280.0    81.005861                            0   \n",
       "346            19008.0   306.176159                            3   \n",
       "381             3510.0   309.894166                            0   \n",
       "423            19656.0   862.405919                            1   \n",
       "443             3762.0    64.230438                            0   \n",
       "494             5120.0   909.082166                            0   \n",
       "495           210000.0   545.087630                            1   \n",
       "498             3744.0  2097.368714                            0   \n",
       "505            23625.0   551.124220                            0   \n",
       "539             2205.0  2367.099305                            0   \n",
       "547             1456.0   527.405180                            0   \n",
       "578             4488.0    70.288394                            0   \n",
       "592             5859.0   893.745759                            0   \n",
       "602            17500.0    21.494789                            0   \n",
       "603            17500.0    21.494789                            0   \n",
       "...                ...          ...                          ...   \n",
       "109089          1232.0   398.819525                            1   \n",
       "109135          1768.0   341.898579                            2   \n",
       "109136          1768.0   341.898579                            2   \n",
       "109164          8640.0   406.869031                            0   \n",
       "109170          1232.0   501.850552                            0   \n",
       "109192          2584.0   107.213278                            0   \n",
       "109207         65600.0   340.634789                            0   \n",
       "109221        134292.0  1209.887736                            0   \n",
       "109222        112840.0   134.985589                            0   \n",
       "109235           352.0   121.483549                            1   \n",
       "109236           352.0   121.483549                            1   \n",
       "109264          4000.0   303.088187                            0   \n",
       "109265           640.0   759.191452                            1   \n",
       "109270         38700.0  2019.124247                            0   \n",
       "109279          3570.0   818.391436                            0   \n",
       "109340           416.0     7.083379                            0   \n",
       "109359          8000.0   275.548463                            0   \n",
       "109370         13920.0   355.720623                            1   \n",
       "109376         10710.0    61.295065                            1   \n",
       "109396         32560.0   696.461376                            0   \n",
       "109397         35301.0   821.371608                            0   \n",
       "109438         11400.0  1805.257938                            1   \n",
       "109444          8000.0  1083.765589                            0   \n",
       "109503          3360.0   386.592091                            0   \n",
       "109578         46827.0   323.953457                            0   \n",
       "109579         46827.0   323.953457                            0   \n",
       "109580          7866.0   364.049329                            0   \n",
       "109606          1232.0   249.579453                            1   \n",
       "109608         37260.0   341.243636                            0   \n",
       "109615          1152.0    80.477455                            0   \n",
       "\n",
       "        order_approved_to_delivered_to_carrier  \n",
       "20                                          17  \n",
       "25                                           4  \n",
       "42                                          18  \n",
       "58                                           5  \n",
       "59                                           5  \n",
       "110                                          5  \n",
       "115                                          1  \n",
       "122                                         13  \n",
       "128                                          2  \n",
       "164                                          1  \n",
       "179                                          6  \n",
       "225                                          2  \n",
       "256                                          1  \n",
       "284                                          0  \n",
       "298                                          6  \n",
       "301                                          1  \n",
       "346                                          0  \n",
       "381                                          1  \n",
       "423                                          4  \n",
       "443                                          7  \n",
       "494                                          1  \n",
       "495                                         10  \n",
       "498                                          3  \n",
       "505                                          2  \n",
       "539                                          1  \n",
       "547                                          4  \n",
       "578                                          1  \n",
       "592                                          5  \n",
       "602                                          1  \n",
       "603                                          1  \n",
       "...                                        ...  \n",
       "109089                                       4  \n",
       "109135                                       0  \n",
       "109136                                       0  \n",
       "109164                                       2  \n",
       "109170                                       3  \n",
       "109192                                       0  \n",
       "109207                                       6  \n",
       "109221                                       0  \n",
       "109222                                       1  \n",
       "109235                                      24  \n",
       "109236                                      24  \n",
       "109264                                       5  \n",
       "109265                                       1  \n",
       "109270                                       6  \n",
       "109279                                       0  \n",
       "109340                                       1  \n",
       "109359                                       2  \n",
       "109370                                       6  \n",
       "109376                                       0  \n",
       "109396                                       1  \n",
       "109397                                       1  \n",
       "109438                                       2  \n",
       "109444                                      11  \n",
       "109503                                       0  \n",
       "109578                                      12  \n",
       "109579                                      12  \n",
       "109580                                       0  \n",
       "109606                                       3  \n",
       "109608                                       1  \n",
       "109615                                       0  \n",
       "\n",
       "[7474 rows x 24 columns]"
      ]
     },
     "execution_count": 371,
     "metadata": {},
     "output_type": "execute_result"
    }
   ],
   "source": [
    "df[(df['order_purchase_timestamp'] > '2017-08-29') & df['is_late'] == True]"
   ]
  },
  {
   "cell_type": "markdown",
   "metadata": {},
   "source": [
    "**Need to choose between using ROC_AUC and F1_Score to score my model when I am making it.**\n",
    "\n",
    "Conceptually, the ROC_AUC maximizes your model's performance at all levels of threshold (At one corner, it'll classify as 1 when it is 0.01 confident, at the other corner it will only classify upon 0.99 confidence. Everything else in the middle operates on some spectrum of confidence. That spectrum of confidence will result in different False Positive and False Negative rates, and you have to choose where your *actual model* classifies based on your preferences: precision, recall, sensitivity, specificity)\n",
    "\n",
    "Conceptually, the F1_Score finds the harmonic mean of your optimized precision and recall. To compare it with the ROC_AUC scoring, it'll score your model by picking the threshold that maximizes the harmonic mean between precision and recall, rather than providing the expected results at every threshold (It'll simply pick \"the best\" threshold, given the weights that you assign to precision and recall, with a default of a 50/50 split)"
   ]
  },
  {
   "cell_type": "markdown",
   "metadata": {},
   "source": [
    "Jonathan recommends Random Forest for my problem - I'm likely to have late shipments overlapping with not late shipments, without any way to separate them in my dataset."
   ]
  },
  {
   "cell_type": "markdown",
   "metadata": {},
   "source": [
    "## Scoring\n",
    "\n",
    "I'm going to be scoring with weights of 60% for recall and 40% for precision, since I think predicting late deliveries is more important. You can do something like send an email warning that the shipment is going to be late."
   ]
  },
  {
   "cell_type": "markdown",
   "metadata": {},
   "source": [
    "# Lessons from this Project"
   ]
  },
  {
   "cell_type": "markdown",
   "metadata": {},
   "source": [
    "1. Be careful with cross-validation - don't use it if there's no point. If I have enough data, I can make sure that I don't create any oversampling data leakage. Example: I had data leakage in this project because of SMOTE that was used in the cross-validation - giving very different results than what I get on my final test\n",
    "\n",
    "\n",
    "2. Consider beforehand if I really need to cross-validate, or if I should split a validation set ahead of time\n",
    "\n",
    "\n",
    "3. You need to be careful with your scoring metric. I scored everything with \"roc_auc\", thinking that would lead to the best apples-to-apples comparison across the board before I knew what I wanted to score my model on. But instead, it trained and picked the best model on very different performances (KNN and Logistic Regression were heavier on recall, while RF was much heavier on precision). RF *clearly* outperformed the others in the ROC curve, but underperformed in the proper FBeta weighting. **If I didn't graph my ROCs and confusion matrix, I would have thought that my Random Forest was my worse model**"
   ]
  },
  {
   "cell_type": "code",
   "execution_count": null,
   "metadata": {},
   "outputs": [],
   "source": []
  }
 ],
 "metadata": {
  "kernelspec": {
   "display_name": "Python 3",
   "language": "python",
   "name": "python3"
  },
  "language_info": {
   "codemirror_mode": {
    "name": "ipython",
    "version": 3
   },
   "file_extension": ".py",
   "mimetype": "text/x-python",
   "name": "python",
   "nbconvert_exporter": "python",
   "pygments_lexer": "ipython3",
   "version": "3.7.3"
  }
 },
 "nbformat": 4,
 "nbformat_minor": 2
}
